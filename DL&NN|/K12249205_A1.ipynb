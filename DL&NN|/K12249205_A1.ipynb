{
 "cells": [
  {
   "cell_type": "markdown",
   "metadata": {},
   "source": [
    "# Assignment 1: Introduction to the Fully Recurrent Network\n",
    "\n",
    "*Author:* Thomas Adler\n",
    "\n",
    "*Copyright statement:* This  material,  no  matter  whether  in  printed  or  electronic  form,  may  be  used  for  personal  and non-commercial educational use only.  Any reproduction of this manuscript, no matter whether as a whole or in parts, no matter whether in printed or in electronic form, requires explicit prior acceptance of the authors.\n",
    "\n",
    "\n",
    "## Exercise 1: Numerical stability of the binary cross-entropy loss function\n",
    "\n",
    "We will use the binary cross-entropy loss function to train our RNN, which is defined as \n",
    "$$\n",
    "L_{\\text{BCE}}(\\hat y, y) = -y \\log \\hat y - (1-y) \\log (1-\\hat y),\n",
    "$$\n",
    "where $y$ is the label and $\\hat y$ is a prediction, which comes from a model (e.g. an RNN) and is usually sigmoid-activated, i.e., we have\n",
    "$$\n",
    "\\hat y = \\sigma(z) = \\frac{1}{1+e^{-z}}.\n",
    "$$\n",
    "The argument $z$ is called *logit*. For reasons of numerical stability it is better to let the model emit the logit $z$ (instead of the prediction $\\hat y$) and incorporate the sigmoid activation into the loss function. Explain why this is the case and how we can gain numerical stability by combining the two functions $L_{\\text{BCE}}(\\hat y, y)$ and $\\sigma(z)$ into one function $L(z, y) = L_{\\text{BCE}}(\\sigma(z), y)$. \n",
    "\n",
    "*Hint: Prove that $\\log(1+e^{z}) = \\log (1+e^{-|z|}) + \\max(0, z)$ and argue why the right-hand side is numerically more stable. Finally, express $L(z,y)$ in terms of that form.*"
   ]
  },
  {
   "cell_type": "markdown",
   "metadata": {},
   "source": [
    "########## YOUR SOLUTION HERE ##########\n",
    "\n",
    "L(y,Y)=−ylog(Y)−(1−y)log(1−Y)\r\n",
    "Y = σ(z) = 1/(1+e^(-z) )\r\n",
    "L(z,Y) = -ylog(1/(1+e^(-z) ))−(1−y)log(1−1/(1+e^(-z) ))\r\n",
    "          =-ylog(1+e^(-z))−(1−y)log(1+e^z)\r\n",
    "log(1+e^z) = log(1+e^(-|z|)) + max(0\n",
    ",z)\r\n",
    "in cas 0<z so z is positive and max(0,z) = z:\r\n",
    "log(1+e^(-|z|)) + max(0,z) = log(1+e^(-z)) + z\r\n",
    "log(1+e^z) = log((1+e^(-z))/e^(-z) ) = log(1+e^(-z)) - log(e^(-z)) = log(1+e^(-z\n",
    ")) + z\r\n",
    "in case 0>z so z is negative and max(0,z) = 0:\r\n",
    "log(1+e^(-|z|)) + max(0,z)= log(1+e^(-|-z|)) + 0 = log(1+e^z)\r\n",
    "\r\n",
    "So plugging the logit z into the BCE loss make us avoid the computations of extreme numbers close to 0 or clause to 1, so achieving numerical stability. And using this form [log(1+e^z) = log(1+e^(-|z|)) + max(0,z)] makes makes it easy to handle positive and negative extreme numbers so avoiding overflow and underflow in the computation of exponential terms.\r\n"
   ]
  },
  {
   "cell_type": "markdown",
   "metadata": {},
   "source": [
    "## Exercise 2: Derivative of the loss\n",
    "\n",
    "Calculate the derivative of the binary cross-entropy loss function $L(z, y)$ with respect to the logit $z$."
   ]
  },
  {
   "cell_type": "markdown",
   "metadata": {},
   "source": [
    "########## YOUR SOLUTION HERE ##########\n",
    "\n",
    "L(y,Y)=−ylog(Y)−(1−y)log(1−Y)\r\n",
    "Y = σ(z)\r\n",
    "L(y,σ(z))=−ylog(σ(z))−(1−y)log(1− σ(z))\r\n",
    " (dσ(z))/dz = σ(z)(1- σ(z))\r\n",
    "(dL(y,σ(z)))/dz = -y1/(σ(z))   (dσ(z))/dz – (1-y) 1/(1-σ(z) )(-  dσ(z)/dz)\r\n",
    "                = -y1/(σ(z))  σ(z)(1- σ(z)) – (1-y) 1/(1-σ(z) )(- σ(z)(1- σ(z)))\r\n",
    "                = -y(1- σ(z)) +(1-y) σ(z)\r\n",
    "                = -y + σ(z)\r\n"
   ]
  },
  {
   "cell_type": "markdown",
   "metadata": {},
   "source": [
    "## Exercise 3: Initializing the network\n",
    "Consider the fully recurrent network\n",
    "$$\n",
    "s(t) = W x(t) + R a(t-1) \\\\\n",
    "a(t) = \\tanh(s(t)) \\\\\n",
    "z(t) = V a(t) \\\\\n",
    "\\hat y(t) = \\sigma(z(t))\n",
    "$$\n",
    "for $t \\in \\mathbb{N}, x(t) \\in \\mathbb{R}^{D}, s(t) \\in \\mathbb{R}^{I}, a(t) \\in \\mathbb{R}^{I}, z(t) \\in \\mathbb{R}^K, \\hat y(t) \\in \\mathbb{R}^K$ and $W, R, V$ are real matrices of appropriate sizes and $\\hat a(0) = 0$. \n",
    "\n",
    "*Compared to the lecture notes we choose $f(x) = \\tanh(x) = (e^x - e^{-x})(e^x + e^{-x})^{-1}$ and $\\varphi(x) = \\sigma(x) = (1+e^{-x})^{-1}$. Further, we introduced an auxiliary variable $z(t)$ and transposed the weight matrices.*\n",
    "\n",
    "Write a function `init` that takes a `model` and integers $D, I, K$ as arguments and stores the matrices $W, R, V$ as members `model.W`, `model.R`, `model.V`, respectively. The matrices should be `numpy` arrays of appropriate sizes and filled with random values that are uniformly distributed between -0.01 and 0.01. "
   ]
  },
  {
   "cell_type": "code",
   "execution_count": 42,
   "metadata": {},
   "outputs": [
    {
     "name": "stdout",
     "output_type": "stream",
     "text": [
      "[0.00207632 0.00913929 0.00174411 0.00173068 0.00944919]\n",
      "[-0.00614752  0.00070916  0.00392682]\n",
      "[-0.00971661]\n"
     ]
    }
   ],
   "source": [
    "%matplotlib inline\n",
    "import numpy as np\n",
    "from scipy.special import expit as sigmoid\n",
    "\n",
    "class Obj(object):\n",
    "    pass\n",
    "\n",
    "model = Obj()\n",
    "T, D, I, K = 10, 3, 5, 1\n",
    "\n",
    "def init(model, D, I, K):\n",
    "    ########## YOUR SOLUTION HERE ##########\n",
    "    model.R = np.random.uniform(-0.01, 0.01,I)\n",
    "    model.W = np.random.uniform(-0.01, 0.01,D)\n",
    "    model.V = np.random.uniform(-0.01, 0.01,K)\n",
    "    print(model.R)\n",
    "    print(model.W)\n",
    "    print(model.V)\n",
    "\n",
    "Obj.init = init\n",
    "model.init(D, I, K)"
   ]
  },
  {
   "cell_type": "markdown",
   "metadata": {},
   "source": [
    "## Exercise 4: The forward pass\n",
    "Implement the forward pass for the fully recurrent network for sequence classification (many-to-one mapping). To this end, write a function `forward` that takes a `model`, a sequence of input vectors `x`, and a label `y` as arguments. The inputs will be represented as a `numpy` array of shape `(T, D)`. It should execute the behavior of the fully recurrent network and evaluate the (numerically stabilized) binary cross-entropy loss at the end of the sequence and return the resulting loss value. Store the sequence of hidden activations $(a(t))_{t=1}^T$ and the logit $z(T)$ into `model.a` and `model.z`, respectively. "
   ]
  },
  {
   "cell_type": "code",
   "execution_count": 93,
   "metadata": {},
   "outputs": [
    {
     "data": {
      "text/plain": [
       "array([0.69317409, 0.69317411, 0.69317409, 0.69317409, 0.69317411])"
      ]
     },
     "execution_count": 93,
     "metadata": {},
     "output_type": "execute_result"
    }
   ],
   "source": [
    "def forward(model, x, y):\n",
    "    ########## YOUR SOLUTION HERE ##########\n",
    "\n",
    "    T, D = x.shape  \n",
    "    a_dim = model.R.shape[0]  \n",
    "    a = np.zeros(a_dim)  \n",
    "    model.a = []  \n",
    "    \n",
    "    for t in range(T):\n",
    "        array_a = np.zeros((T, a_dim))\n",
    "        a = np.tanh(np.dot(model.W, x[t]) + np.dot(model.R, a))\n",
    "        array_a[T-1, :] = a\n",
    "       \n",
    "    model.a = array_a\n",
    "    model.z = model.V * a\n",
    "    z = model.z\n",
    "    sigmoid_z = 1 / (1 + np.exp(-z))\n",
    "    loss_L = -y * np.log(sigmoid_z) - (1 - y) * np.log(1 - sigmoid_z)\n",
    "    \n",
    "    return loss_L\n",
    "Obj.forward = forward\n",
    "model.forward(np.random.uniform(-1, 1, (T, D)), 1)"
   ]
  },
  {
   "cell_type": "markdown",
   "metadata": {},
   "source": [
    "## Exercise 5: The computational graph\n",
    "\n",
    "Visualize the computational graph of the fully recurrent network unfolded in time. The graph should show the functional dependencies of the nodes $x(t), a(t), z(t), L(z(t), y(t))$ for $t \\in \\{1, 2, 3\\}$. Use the package `networkx` in combination with `matplotlib` to draw a directed graph with labelled nodes and edges. If you need help take a look at [this guide](https://networkx.org/documentation/stable/tutorial.html). Make sure to arrange the nodes in a meaningful way. "
   ]
  },
  {
   "cell_type": "code",
   "execution_count": 39,
   "metadata": {},
   "outputs": [
    {
     "data": {
      "image/png": "[encoded data removed]",
      "text/plain": [
       "<Figure size 640x480 with 1 Axes>"
      ]
     },
     "metadata": {},
     "output_type": "display_data"
    }
   ],
   "source": [
    "import networkx as nx\n",
    "import matplotlib.pyplot as plt\n",
    "\n",
    "########## YOUR SOLUTION HERE ##########\n",
    "G = nx.DiGraph()\n",
    "\n",
    "for t in time_steps:\n",
    "    G.add_node(f'L(z({t}), y({t}))')\n",
    "    G.add_node(f'x({t})')\n",
    "    G.add_node(f'z({t})')\n",
    "    G.add_node(f'a({t})')\n",
    "    if t > 1:\n",
    "        G.add_edge(f'a({t-1})', f'a({t})')  \n",
    "    G.add_edge(f'z({t})', f'L(z({t}), y({t}))') \n",
    "    G.add_edge(f'x({t})', f'a({t})')        \n",
    "    G.add_edge(f'a({t})', f'z({t})')     \n",
    "     \n",
    "\n",
    "nx.draw(G, with_labels=True)\n",
    "\n",
    "plt.show()\n"
   ]
  },
  {
   "cell_type": "code",
   "execution_count": null,
   "metadata": {},
   "outputs": [],
   "source": []
  },
  {
   "cell_type": "code",
   "execution_count": null,
   "metadata": {},
   "outputs": [],
   "source": []
  }
 ],
 "metadata": {
  "kernelspec": {
   "display_name": "Python 3 (ipykernel)",
   "language": "python",
   "name": "python3"
  },
  "language_info": {
   "codemirror_mode": {
    "name": "ipython",
    "version": 3
   },
   "file_extension": ".py",
   "mimetype": "text/x-python",
   "name": "python",
   "nbconvert_exporter": "python",
   "pygments_lexer": "ipython3",
   "version": "3.12.4"
  }
 },
 "nbformat": 4,
 "nbformat_minor": 4
}
