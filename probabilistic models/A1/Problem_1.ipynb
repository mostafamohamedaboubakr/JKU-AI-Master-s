{
 "cells": [
  {
   "cell_type": "markdown",
   "metadata": {
    "deletable": false,
    "editable": false,
    "nbgrader": {
     "cell_type": "markdown",
     "checksum": "7c825c99b287a630be7bcd337b2a39e7",
     "grade": false,
     "grade_id": "cell-c781491e675bc243",
     "locked": true,
     "schema_version": 3,
     "solution": false,
     "task": false
    },
    "slideshow": {
     "slide_type": ""
    },
    "tags": []
   },
   "source": [
    "<div class=\"alert alert-danger\">\n",
    "    Read the following instructions carefully!\n",
    "</div>\n",
    "\n",
    "# Probability, Bayes' Theorem, (Conditional) Independence\n",
    "## Problem Set 1\n",
    "## Probabilistic Models UE\n",
    "\n",
    "---\n",
    "In the first assignment, you will familiarise yourself with matrix computations in NumPy. You must use operations on NumPy arrays, even if it would be possible to solve the exercises with simple multiplications, divisions, and loops. This will ensure that you get a feeling of how matrix operations and broadcasting works. If you are not familiar with these concepts, look at the interactive introduction to Python and the honey badger example.\n",
    "\n",
    "**Hint:** You can still compute the correct results on paper and compare them with the solution produced by your Python code!\n",
    "\n",
    "\n",
    "Before you start with this problem:\n",
    "- Study the corresponding slide deck(s) and consider re-watching the lecture recording(s).\n",
    "- Internalize the material until you feel confident you can work with them or implement them yourself. Only then start working on this problem; otherwise, you will waste a lot of time.\n",
    "\n",
    "---\n",
    "\n",
    "\n",
    "<div class=\"alert alert-warning\">\n",
    "\n",
    "**Due-Date:** see Moodle\n",
    "   \n",
    "**Constraints**: Operations on NumPy arrays only.\n",
    "  \n",
    "**Automatic Grading:** \n",
    "\n",
    "- Replace the placeholders `# YOUR CODE HERE` `raise NotImplementedError()` / `YOUR ANSWER HERE` with your code / answers.\n",
    "- Put results in the corresponding variable; otherwise, we will not grade your solution (i.e., we assign 0 points).\n",
    "- Do not delete or add cells.\n",
    "    \n",
    "**Submission:** As a ZIP-package via Moodle; the ZIP-package must have the following structure:\n",
    "    \n",
    "    + <student ID, (k/ vk + 8 digits), e.g. k01234567>.zip\n",
    "    |\n",
    "    |-- Problem_1.ipynb\n",
    "    |-- ...\n",
    "    |-- Problem_<# of problems>.ipynb\n",
    "    +\n",
    "    \n",
    "**Questions?** Post it into the Problem Set Forum!\n",
    "</div>\n",
    "\n"
   ]
  },
  {
   "cell_type": "code",
   "execution_count": 71,
   "metadata": {
    "deletable": false,
    "editable": false,
    "nbgrader": {
     "cell_type": "code",
     "checksum": "b365f5f777d01b6067e5bdb4b3de9e13",
     "grade": false,
     "grade_id": "cell-51881e798cecd18e",
     "locked": true,
     "schema_version": 3,
     "solution": false,
     "task": false
    }
   },
   "outputs": [],
   "source": [
    "import numpy as np\n",
    "from helpers import print_table"
   ]
  },
  {
   "cell_type": "markdown",
   "metadata": {
    "deletable": false,
    "editable": false,
    "nbgrader": {
     "cell_type": "markdown",
     "checksum": "90868dca6281144966e6d466a6eedf15",
     "grade": false,
     "grade_id": "cell-b2e0ba07390e1f91",
     "locked": true,
     "schema_version": 3,
     "solution": false,
     "task": false
    }
   },
   "source": [
    "# 1. Inference-by-Enumeration (8 points)\n",
    "\n",
    "The Inference-by-Enumeration algorithm computes the answer to a probabilistic query $P(\\mathbf{X} \\mid \\mathbf{E=e})$ exactly from the full joint distribution table (FJDT).\n",
    "\n",
    "---\n",
    "### 1.1. Implementation\n",
    "\n",
    "\n",
    "<div class=\"alert alert-warning\">\n",
    "Implement the Inference-by-Enumeration algorithm. (2 points)\n",
    "</div>\n",
    "\n",
    "Implement the `inference_by_enumeration` function for a generic probabilistic query of the form $P(\\mathbf{X} \\mid \\mathbf{E})$. Note that this version of the Inference-by-Enumeration algorithm computes the probabilistic query for all possible assignments to the evidence variables, not only for one specific assignment (cf. slide deck: Probabilistic Models - Part 2: Fundamental Concepts and Notation, p. 40). The function must return one object:\n",
    "- The answer to the probabilistic query, which is a `np.ndarray` with the same number of dimensions and the same variable order as the FJDT, but not the same size: The dimensions of non-query and non-evidence variables ($\\mathbf{Z}$) must be converted to singleton dimensions, i.e., dimensions of size one.\n",
    "\n",
    "For example, if we have a full joint distribution table of three binary variables (shape $2\\times2\\times2$) and we ask for the distributions of the first variable given the second variable, the result would be of shape $2\\times2\\times1$ (corresponding to two stacked conditional distribution tables).\n",
    "\n",
    "**Hint:** Remember to solve this without a `for` loop. Set the `keepdims` parameter of NumPy's <a href=\"https://numpy.org/doc/stable/reference/generated/numpy.sum.html\">sum</a> method to `True` to not discard the reduced dimensions. Keeping these empty dimensions simplifies <a href=\"https://numpy.org/doc/stable/user/basics.broadcasting.html\">broadcasting operations</a> to a no-brainer."
   ]
  },
  {
   "cell_type": "code",
   "execution_count": 133,
   "metadata": {
    "deletable": false,
    "editable": true,
    "nbgrader": {
     "cell_type": "code",
     "checksum": "88868c9732e87ce4386f8f23b290d770",
     "grade": false,
     "grade_id": "cell-c77f889cb9acc33c",
     "locked": false,
     "schema_version": 3,
     "solution": true,
     "task": false
    },
    "slideshow": {
     "slide_type": ""
    },
    "tags": []
   },
   "outputs": [],
   "source": [
    "def inference_by_enumeration(\n",
    "    FJDT: np.ndarray, \n",
    "    query_variable_indices: tuple, \n",
    "    evidence_variable_indices: tuple = tuple()\n",
    ") -> np.ndarray:\n",
    "    '''\n",
    "    Constructs a conditional probability table (CPT) from the full joint distribution.\n",
    "    :param FJDT: The full joint distribution table as a np.ndarray.\n",
    "    :param query_var: A tuple of indices representing the query variables.\n",
    "    :param cond_var: A tuple of indices representing the conditioning variables.\n",
    "    :returns: The conditional probability table (CPT) as a np.ndarray.\n",
    "    '''\n",
    "    assert type(FJDT) == np.ndarray, \"FJDT must be a np.ndarray\"\n",
    "    assert type(query_variable_indices) == tuple, \"query_variable_indices must be a tuple\"\n",
    "    assert type(evidence_variable_indices) == tuple, \"evidence_variable_indices must be a tuple\"\n",
    "    \n",
    "    # YOUR CODE HERE\n",
    "   # print('FJDT:',FJDT)\n",
    "   # print('query_variable_indices:',query_variable_indices)\n",
    "    #print('evidence_variable_indices:',evidence_variable_indices)\n",
    "    \n",
    "    query_sum = query_variable_indices + evidence_variable_indices\n",
    "    #print('query_sum:',query_sum)\n",
    "    hv = tuple(set(range(FJDT.ndim)).difference(query_sum))\n",
    "    #print('hv:',hv)\n",
    "    p = np.sum(FJDT, axis=hv, keepdims=True)\n",
    "    #print('p:',p)\n",
    "    z = np.sum(p, axis=query_variable_indices, keepdims=True)\n",
    "    #print('z:',z)\n",
    "    CPT = 1/z * p\n",
    "    #print(CPT)\n",
    "   # print(type(CPT))\n",
    "    return CPT\n",
    "\n",
    "    raise NotImplementedError()"
   ]
  },
  {
   "cell_type": "code",
   "execution_count": 135,
   "metadata": {
    "deletable": false,
    "editable": false,
    "nbgrader": {
     "cell_type": "code",
     "checksum": "612175c92143044f91aee9e7a010332b",
     "grade": true,
     "grade_id": "cell-401afea0155cf05c",
     "locked": true,
     "points": 2,
     "schema_version": 3,
     "solution": false,
     "task": false
    },
    "slideshow": {
     "slide_type": ""
    },
    "tags": []
   },
   "outputs": [],
   "source": [
    "# create a full joint distribution table for three binary variables\n",
    "ABC = np.ones((2,2,2)) / 2**3\n",
    "# name the variable indices so we can refer to them more easily\n",
    "A, B, C = 0, 1, 2\n",
    "\n",
    "# check type & shape of result\n",
    "assert type(inference_by_enumeration(ABC, (B, C), ())) == np.ndarray\n",
    "# compute P(A)\n",
    "assert inference_by_enumeration(ABC, (A,), ()).shape == (2, 1, 1)\n",
    "# compute P(BC)\n",
    "assert inference_by_enumeration(ABC, (B, C), ()).shape == (1, 2, 2)\n",
    "# compute P(BC|A)\n",
    "assert inference_by_enumeration(ABC, (B, C), (A,)).shape == (2, 2, 2)\n",
    "# compute P(B|AC)\n",
    "assert inference_by_enumeration(ABC, (B,), (C,A,)).shape == (2, 2, 2)\n"
   ]
  },
  {
   "cell_type": "markdown",
   "metadata": {
    "deletable": false,
    "editable": false,
    "nbgrader": {
     "cell_type": "markdown",
     "checksum": "73c06ba1cf48f415e297dfc2cdb09578",
     "grade": false,
     "grade_id": "cell-2a50910ecab76ec5",
     "locked": true,
     "schema_version": 3,
     "solution": false,
     "task": false
    },
    "slideshow": {
     "slide_type": ""
    },
    "tags": []
   },
   "source": [
    "---\n",
    "### 1.2.Computing Probabilities from a Full Joint Distribution Table\n",
    "\n",
    "<br>\n",
    "<center><img src=\"https://upload.wikimedia.org/wikipedia/commons/b/b9/Atlantic_blue_marlin.jpg\" width=\"500\" height=\"600\">\n",
    "<br>\n",
    "\n",
    "Based on his experience, Santiago, an old Cuban fisherman, has learned that temperature and precipitation are the most prominent factors influencing marlin fishing. After decades of (more or less) successful years, he decides to retire and pass on his knowledge as a full joint distribution table $P(C, R, H)$ on to you. You receive the following full joint distribution table:\n",
    "\n",
    "\n",
    "<table style=\"border-collapse:collapse;border-spacing:0;width:500px\"><tr><th style=\"font-family:Arial, sans-serif;font-size:14px;font-weight:normal;padding:10px 5px;border-style:solid;border-width:1px;overflow:hidden;word-break:normal;text-align:center\" rowspan=\"2\">$P({C}, {R}, {H})$</th><th style=\"font-family:Arial, sans-serif;font-size:14px;font-weight:normal;padding:10px 5px;border-style:solid;border-width:1px;overflow:hidden;word-break:normal;text-align:center;vertical-align:top\" colspan=\"2\">$\\neg r$<br></th><th style=\"font-family:Arial, sans-serif;font-size:14px;font-weight:normal;padding:10px 5px;border-style:solid;border-width:1px;overflow:hidden;word-break:normal;text-align:center;vertical-align:top\" colspan=\"2\">$r$</th></tr><tr><td style=\"font-family:Arial, sans-serif;font-size:14px;padding:10px 5px;border-style:solid;border-width:1px;overflow:hidden;word-break:normal;text-align:center;vertical-align:top\">$\\neg h$</td><td style=\"font-family:Arial, sans-serif;font-size:14px;padding:10px 5px;border-style:solid;border-width:1px;overflow:hidden;word-break:normal;text-align:center;vertical-align:top\">$h$</td><td style=\"font-family:Arial, sans-serif;font-size:14px;padding:10px 5px;border-style:solid;border-width:1px;overflow:hidden;word-break:normal;text-align:center;vertical-align:top\">$\\neg h$</td><td style=\"font-family:Arial, sans-serif;font-size:14px;padding:10px 5px;border-style:solid;border-width:1px;overflow:hidden;word-break:normal;text-align:center;vertical-align:top\">$h$</td></tr><tr><td style=\"font-family:Arial, sans-serif;font-size:14px;padding:10px 5px;border-style:solid;border-width:1px;overflow:hidden;word-break:normal;text-align:center\">$\\neg c$<br></td><td style=\"font-family:Arial, sans-serif;font-size:14px;padding:10px 5px;border-style:solid;border-width:1px;overflow:hidden;word-break:normal;text-align:center;vertical-align:top\">0.16</td><td style=\"font-family:Arial, sans-serif;font-size:14px;padding:10px 5px;border-style:solid;border-width:1px;overflow:hidden;word-break:normal;text-align:center;vertical-align:top\">0.31</td><td style=\"font-family:Arial, sans-serif;font-size:14px;padding:10px 5px;border-style:solid;border-width:1px;overflow:hidden;word-break:normal;text-align:center;vertical-align:top\">0.35</td><td style=\"font-family:Arial, sans-serif;font-size:14px;padding:10px 5px;border-style:solid;border-width:1px;overflow:hidden;word-break:normal;text-align:center;vertical-align:top\">0.07<br></td></tr><tr><td style=\"font-family:Arial, sans-serif;font-size:14px;padding:10px 5px;border-style:solid;border-width:1px;overflow:hidden;word-break:normal;text-align:center\">$c$</td><td style=\"font-family:Arial, sans-serif;font-size:14px;padding:10px 5px;border-style:solid;border-width:1px;overflow:hidden;word-break:normal;text-align:center;vertical-align:top\">0.09</td><td style=\"font-family:Arial, sans-serif;font-size:14px;padding:10px 5px;border-style:solid;border-width:1px;overflow:hidden;word-break:normal;text-align:center;vertical-align:top\">0.01</td><td style=\"font-family:Arial, sans-serif;font-size:14px;padding:10px 5px;border-style:solid;border-width:1px;overflow:hidden;word-break:normal;text-align:center;vertical-align:top\">0.004</td><td style=\"font-family:Arial, sans-serif;font-size:14px;padding:10px 5px;border-style:solid;border-width:1px;overflow:hidden;word-break:normal;text-align:center;vertical-align:top\">0.006</td></tr></table>\n",
    "\n",
    "In this table, $C$, $R$, and $H$ are the binary random variables encoding catch, rain, and hot, respectively. \n",
    "    \n",
    "    \n",
    "**Hint**: You can use `print_table` to print your probability distribution tables in a similar fashion."
   ]
  },
  {
   "cell_type": "code",
   "execution_count": 138,
   "metadata": {
    "deletable": false,
    "editable": false,
    "nbgrader": {
     "cell_type": "code",
     "checksum": "cf96dbb6a8fc3d340b4096ab18b9d70c",
     "grade": false,
     "grade_id": "cell-8521b465b79c30bb",
     "locked": true,
     "schema_version": 3,
     "solution": false,
     "task": false
    }
   },
   "outputs": [
    {
     "name": "stdout",
     "output_type": "stream",
     "text": [
      "Help on function print_table in module helpers:\n",
      "\n",
      "print_table(probability_table: numpy.ndarray, variable_names: str) -> None\n",
      "    Prints a probability distribution table.\n",
      "\n",
      "    Parameters\n",
      "    ----------\n",
      "    probability_table : np.ndarray\n",
      "        The probability distribution table\n",
      "    variable_names : str\n",
      "        A string containing the variable names, e.g., 'CDE'.\n",
      "\n",
      "    Returns\n",
      "    -------\n",
      "    None\n",
      "\n"
     ]
    }
   ],
   "source": [
    "help(print_table)"
   ]
  },
  {
   "cell_type": "markdown",
   "metadata": {
    "deletable": false,
    "editable": false,
    "nbgrader": {
     "cell_type": "markdown",
     "checksum": "943e109e119d16c75916e55e3c3e7a45",
     "grade": false,
     "grade_id": "cell-8a1c4e6e175e9891",
     "locked": true,
     "schema_version": 3,
     "solution": false,
     "task": false
    }
   },
   "source": [
    "<div class=\"alert alert-warning\">\n",
    "Create a NumPy array that contains the full joint distribution table $P(C, R, H)$ as defined above. <b>Important</b>: Encode $C$, $R$, and $H$ in the first, second, and third dimension of the NumPy array, respectively. Use index 0 for event *False* and index 1 for event *True*. (1 point)\n",
    "</div>"
   ]
  },
  {
   "cell_type": "code",
   "execution_count": 141,
   "metadata": {
    "deletable": false,
    "editable": true,
    "nbgrader": {
     "cell_type": "code",
     "checksum": "43e525fc7a6b6de69635eb33836072d1",
     "grade": false,
     "grade_id": "cell-30fabe50b83e969e",
     "locked": false,
     "schema_version": 3,
     "solution": true,
     "task": false
    },
    "slideshow": {
     "slide_type": ""
    },
    "tags": []
   },
   "outputs": [
    {
     "data": {
      "text/html": [
       "<table><tr><td> </td><td>$r_0$</td><td>$r_0$</td><td>$r_1$</td><td>$r_1$</td></tr><tr><td> </td><td>$h_0$</td><td>$h_1$</td><td>$h_0$</td><td>$h_1$</td></tr><tr><td>$c_0$</td><td>0.160</td><td>0.310</td><td>0.350</td><td>0.070</td></tr><tr><td>$c_1$</td><td>0.090</td><td>0.010</td><td>0.004</td><td>0.006</td></tr></table>"
      ],
      "text/plain": [
       "<IPython.core.display.HTML object>"
      ]
     },
     "metadata": {},
     "output_type": "display_data"
    }
   ],
   "source": [
    "CRH = None\n",
    "# Check the result with print_table(CRH, 'CRH')\n",
    "\n",
    "# remove the placeholder\n",
    "# YOUR CODE HERE\n",
    "CRH = np.array([[[0.16, 0.31], [0.35, 0.07]], [[0.09, 0.01], [0.004, 0.006]]])\n",
    "C_, R_, H_ = 0, 1, 2\n",
    "print_table(CRH,'crh')\n",
    "#raise NotImplementedError()"
   ]
  },
  {
   "cell_type": "code",
   "execution_count": 143,
   "metadata": {
    "deletable": false,
    "editable": false,
    "nbgrader": {
     "cell_type": "code",
     "checksum": "4e592a25f216344eba98ab4bb7722770",
     "grade": true,
     "grade_id": "cell-ec062108f58d1520",
     "locked": true,
     "points": 1,
     "schema_version": 3,
     "solution": false,
     "task": false
    }
   },
   "outputs": [],
   "source": [
    "assert CRH is not None, 'Store the result into the variable \\'CRH\\'!'\n",
    "assert CRH.shape == (2,2,2), 'The full joint distribution table must have shape (2,2,2)'\n",
    "assert np.isclose(CRH.sum(), 1, atol=1e-10), 'The probabilities of all atomic events must sum to one.'\n"
   ]
  },
  {
   "cell_type": "markdown",
   "metadata": {
    "deletable": false,
    "editable": false,
    "nbgrader": {
     "cell_type": "markdown",
     "checksum": "4c643fa681dc65291389c634e7160d68",
     "grade": false,
     "grade_id": "cell-b64bca9a4bdc38bd",
     "locked": true,
     "schema_version": 3,
     "solution": false,
     "task": false
    }
   },
   "source": [
    "---\n",
    "### 1.3. Probabilistic Queries"
   ]
  },
  {
   "cell_type": "markdown",
   "metadata": {
    "deletable": false,
    "editable": false,
    "nbgrader": {
     "cell_type": "markdown",
     "checksum": "1ad24ffdd986ad0268806a2b6bbca4ea",
     "grade": false,
     "grade_id": "cell-76f2ef690962ea83",
     "locked": true,
     "schema_version": 3,
     "solution": false,
     "task": false
    }
   },
   "source": [
    "Now check your implementation:\n",
    "<div class=\"alert alert-warning\">\n",
    "Compute the probability distribution over catching a marlin given that the weather is <b>not</b> rainy. (3 points)\n",
    "</div>"
   ]
  },
  {
   "cell_type": "markdown",
   "metadata": {
    "deletable": false,
    "editable": false,
    "nbgrader": {
     "cell_type": "markdown",
     "checksum": "7d47378b0b88eb89ccbfac75aa1ddb92",
     "grade": false,
     "grade_id": "cell-a6b386590f0eedb6",
     "locked": true,
     "schema_version": 3,
     "solution": false,
     "task": false
    }
   },
   "source": [
    "Compute this probabilistic query manually and then via `inference_by_enumeration`.\n",
    "\n",
    "1. Manually: Keep your answer short and use $\\LaTeX$ and Markdown. Write down\n",
    "   - the *probabilistic query* (e.g., $P(X \\mid Y=y)$) and\n",
    "   - the *expression to compute the answer from the full joint distribution* (e.g., $P(X \\mid Y=y) = \\sum \\dots$)."
   ]
  },
  {
   "cell_type": "markdown",
   "metadata": {
    "deletable": false,
    "nbgrader": {
     "cell_type": "markdown",
     "checksum": "ee4f771a9dd5059bf4b10515dba32cc6",
     "grade": true,
     "grade_id": "cell-35c1fbb0bedbd99d",
     "locked": false,
     "points": 1.5,
     "schema_version": 3,
     "solution": true,
     "task": false
    }
   },
   "source": [
    "YOUR ANSWER HERE\n",
    "\n",
    "P(C_0, R_0) = 0.16 + 0.31 = 0.47\r\n",
    "\n",
    "P(C_1,RH_0) = 0.93 + 0.15 = 015\n",
    "\r\n",
    "R(H_0) = 1625 + 01.3 + 0903 + 0105 = 578\n",
    "5\r\n",
    "P(C_R| H_0) = (P(CR0,H_0) )/RP(H_0) )  =47.0.57585 =824.\n",
    "94\r\n",
    "P(CR1| H_0) = (P(R_1,H_0) )R(P(H_0) )  1.0357.585 1750\n",
    ".95\r",
    "RP(C|H_0) 824[,.91750.\n",
    "095]R\n",
    "P(C|H∑N▒N  ∑_R▒(C,〗     )/(∑ C,R(C,H_0) 〗)  \r\n"
   ]
  },
  {
   "cell_type": "markdown",
   "metadata": {
    "deletable": false,
    "editable": false,
    "nbgrader": {
     "cell_type": "markdown",
     "checksum": "4a6a5d3275df2d1bdd98fdd2d13c5e38",
     "grade": false,
     "grade_id": "cell-deda21e264813b32",
     "locked": true,
     "schema_version": 3,
     "solution": false,
     "task": false
    }
   },
   "source": [
    "2. Think ybout the expected result: Give the *shape of the result* of the probabilistic query (without singleton dimensions) and the *number of non-redundant entries* in the result. Store your answer into the provided variables. Example:\n",
    " - the full joint distribution table of the previous example has a three dimensions with two entries each, thus it's shape is (2,2,2)\n",
    " - the full joint distribution table has $2*2*2$ entries; however one of them is redundant; thus the number of non-redundant entries is $2*2*2 - 1$."
   ]
  },
  {
   "cell_type": "code",
   "execution_count": 150,
   "metadata": {
    "deletable": false,
    "nbgrader": {
     "cell_type": "code",
     "checksum": "58547df73b245c184a874a501f8810e4",
     "grade": false,
     "grade_id": "cell-2562d460b40a9390",
     "locked": false,
     "schema_version": 3,
     "solution": true,
     "task": false
    }
   },
   "outputs": [],
   "source": [
    "probability_table_shape = None # e.g., (2,2,2) for the FJDT, (2,) for a vector, () for a scalar\n",
    "number_non_redundant_elements = None # e.g., 2*2*2 - 1 for the FJDT\n",
    "\n",
    "# remove the placeholder\n",
    "# YOUR CODE HERE\n",
    "probability_table_shape = (2,)\n",
    "number_non_redundant_elements = 2\n",
    "\n",
    "#raise NotImplementedError()"
   ]
  },
  {
   "cell_type": "code",
   "execution_count": 152,
   "metadata": {
    "deletable": false,
    "editable": false,
    "nbgrader": {
     "cell_type": "code",
     "checksum": "3a60e28b90d3d60859383d91b5f992bd",
     "grade": true,
     "grade_id": "cell-83e9f4c5300646fc",
     "locked": true,
     "points": 0.5,
     "schema_version": 3,
     "solution": false,
     "task": false
    }
   },
   "outputs": [],
   "source": [
    "assert type(probability_table_shape) is tuple, 'Shape of the result must be a tuple.'"
   ]
  },
  {
   "cell_type": "code",
   "execution_count": 154,
   "metadata": {
    "deletable": false,
    "editable": false,
    "nbgrader": {
     "cell_type": "code",
     "checksum": "6f64669979f36139140c9ff25feed1e1",
     "grade": true,
     "grade_id": "cell-74ab543d558c0dda",
     "locked": true,
     "points": 0.5,
     "schema_version": 3,
     "solution": false,
     "task": false
    }
   },
   "outputs": [],
   "source": [
    "assert type(number_non_redundant_elements) is int, 'Number of elements must be int.'"
   ]
  },
  {
   "cell_type": "markdown",
   "metadata": {
    "deletable": false,
    "editable": false,
    "nbgrader": {
     "cell_type": "markdown",
     "checksum": "41d03bd802fb7d9e9641bdd70b4dccd4",
     "grade": false,
     "grade_id": "cell-c5ae9eb3efd396c4",
     "locked": true,
     "schema_version": 3,
     "solution": false,
     "task": false
    }
   },
   "source": [
    "3. Check your answer with the `inference_by_enumeration` method and store the result into the provided variable. **If necessary, select the result for the given evidence and remove all singleton dimensions.**"
   ]
  },
  {
   "cell_type": "code",
   "execution_count": 157,
   "metadata": {},
   "outputs": [
    {
     "name": "stdout",
     "output_type": "stream",
     "text": [
      "Result: [0.8245614 0.1754386]\n"
     ]
    }
   ],
   "source": [
    "C_not_r = None # Use inference_by_enumeration to compute the result. Select the result for the given evidence (if any) and discard singleton dimensions.\n",
    "# The implementation of algorithm\n",
    "c_not_r = inference_by_enumeration(CRH, (C_,) ,(not R_,1 ))\n",
    "C_not_r = c_not_r[:, 0] \n",
    "C_not_r = np.squeeze(C_not_r)\n",
    "print(\"Result:\", C_not_r)"
   ]
  },
  {
   "cell_type": "code",
   "execution_count": 159,
   "metadata": {
    "deletable": false,
    "nbgrader": {
     "cell_type": "code",
     "checksum": "0ea6c9ea8e6b31ac18d37abd20a134f2",
     "grade": false,
     "grade_id": "cell-b8256a3aaaa6d774",
     "locked": false,
     "schema_version": 3,
     "solution": true,
     "task": false
    }
   },
   "outputs": [
    {
     "name": "stdout",
     "output_type": "stream",
     "text": [
      "Result:\n"
     ]
    },
    {
     "data": {
      "text/html": [
       "<table><tr><td>$c_0$</td><td>0.825</td></tr><tr><td>$c_1$</td><td>0.175</td></tr></table>"
      ],
      "text/plain": [
       "<IPython.core.display.HTML object>"
      ]
     },
     "metadata": {},
     "output_type": "display_data"
    }
   ],
   "source": [
    "C_not_r = None # Use inference_by_enumeration to compute the result. Select the result for the given evidence (if any) and discard singleton dimensions.\n",
    "# YOUR CODE HERE\n",
    "c = inference_by_enumeration(CRH, (C_,), (R_,))\n",
    "c = c[:, 0] \n",
    "C_not_r = c.squeeze()\n",
    "\n",
    "#raise NotImplementedError()\n",
    "print(\"Result:\")\n",
    "print_table(C_not_r,\"c\")"
   ]
  },
  {
   "cell_type": "code",
   "execution_count": 161,
   "metadata": {
    "deletable": false,
    "editable": false,
    "nbgrader": {
     "cell_type": "code",
     "checksum": "e185e482dae6ff9ebe6fad6ccf617b24",
     "grade": true,
     "grade_id": "cell-4ecd8bba203eb07e",
     "locked": true,
     "points": 0.5,
     "schema_version": 3,
     "solution": false,
     "task": false
    }
   },
   "outputs": [],
   "source": [
    "assert C_not_r is not None, 'Store the result into the variable \\'C_not_r\\'!'\n"
   ]
  },
  {
   "cell_type": "markdown",
   "metadata": {
    "deletable": false,
    "editable": false,
    "nbgrader": {
     "cell_type": "markdown",
     "checksum": "d54f55eddf9db7e9be72d0cfa2fa33b3",
     "grade": false,
     "grade_id": "cell-b595169e7b70a756",
     "locked": true,
     "schema_version": 3,
     "solution": false,
     "task": false
    }
   },
   "source": [
    "---\n",
    "### 1.4. Independence\n",
    "\n",
    "\n",
    "\n",
    "<div class=\"alert alert-warning\">\n",
    "Implement an algorithm which checks if two variables are independent based on a FJDT. (2 points)\n",
    "</div>\n",
    "\n",
    "Implement the `check_independence` method which returns `True` if two variables A and B are independent of each other and `False` otherwise, given a FJDT.\n",
    "\n",
    "**Hint:** use the `inference_by_enumeration` to compute the joint distribution and the marginal distributions. The product of the marginals is simply a multiplication due to the aligned singelton dimensions. Use `np.allclose` to avoid numerical issues when comparing the distributions.\n",
    "\n",
    "\n"
   ]
  },
  {
   "cell_type": "code",
   "execution_count": 164,
   "metadata": {
    "deletable": false,
    "editable": true,
    "nbgrader": {
     "cell_type": "code",
     "checksum": "933be574a92f4a71eb831705051c4653",
     "grade": false,
     "grade_id": "cell-8e46b9f3b7c6a419",
     "locked": false,
     "schema_version": 3,
     "solution": true,
     "task": false
    },
    "slideshow": {
     "slide_type": ""
    },
    "tags": []
   },
   "outputs": [],
   "source": [
    "def check_independence(FJDT: np.ndarray, A: int, B: int):\n",
    "    '''\n",
    "    Constructs a conditional probability table (CPT) from the full joint distribution.\n",
    "    :param FJDT: The full joint distribution table as a np.ndarray.\n",
    "    :param A: Index of variable A.\n",
    "    :param B: Index of variable B.\n",
    "    :returns: True if A is independent of B and False otherwise.\n",
    "    '''\n",
    "    assert type(FJDT) == np.ndarray, \"FJDT must be a np.ndarray\"\n",
    "    assert type(A) == int, \"A must be a int\"\n",
    "    assert type(B) == int, \"B must be a int\"\n",
    "    assert 0 <= A < FJDT.ndim, \"invalid variable index for A\"\n",
    "    assert 0 <= B < FJDT.ndim, \"invalid variable index for B\"\n",
    "    \n",
    "    # YOUR CODE HERE\n",
    "    P_A = inference_by_enumeration(FJDT, (A,), ())\n",
    "    P_B = inference_by_enumeration(FJDT, (B,), ())\n",
    "    P_AB = inference_by_enumeration(FJDT, (A,B), ())\n",
    "    print('A:',P_A)\n",
    "    print('B:',P_B)\n",
    "    print('AB:',P_AB)\n",
    "    return np.allclose(P_AB, P_A*P_B)\n",
    "\n",
    "    #raise NotImplementedError()\n",
    "\n",
    "    #return False"
   ]
  },
  {
   "cell_type": "code",
   "execution_count": 166,
   "metadata": {
    "deletable": false,
    "editable": false,
    "nbgrader": {
     "cell_type": "code",
     "checksum": "32c8c211f2c7f010b32090ad9831692d",
     "grade": true,
     "grade_id": "cell-c8c2db77cef830c8",
     "locked": true,
     "points": 2,
     "schema_version": 3,
     "solution": false,
     "task": false
    }
   },
   "outputs": [
    {
     "name": "stdout",
     "output_type": "stream",
     "text": [
      "A: [[0.5]\n",
      " [0.5]]\n",
      "B: [[0.33333333 0.33333333 0.33333333]]\n",
      "AB: [[0.16666667 0.16666667 0.16666667]\n",
      " [0.16666667 0.16666667 0.16666667]]\n"
     ]
    }
   ],
   "source": [
    "assert check_independence(np.ones((2,3))/ (2*3), 0, 1) in [True, False], 'Results must be a boolean'"
   ]
  },
  {
   "cell_type": "markdown",
   "metadata": {
    "deletable": false,
    "editable": false,
    "nbgrader": {
     "cell_type": "markdown",
     "checksum": "9c99ae57d6d7b1056c48b97736e21c67",
     "grade": false,
     "grade_id": "cell-b256e0e36e4197fe",
     "locked": true,
     "schema_version": 3,
     "solution": false,
     "task": false
    }
   },
   "source": [
    "Let's check if Catch is independent of Rain:"
   ]
  },
  {
   "cell_type": "code",
   "execution_count": 169,
   "metadata": {
    "deletable": false,
    "editable": false,
    "nbgrader": {
     "cell_type": "code",
     "checksum": "c048e633f13878b080ed310f814a873c",
     "grade": false,
     "grade_id": "cell-f2c76a832cc06c59",
     "locked": true,
     "schema_version": 3,
     "solution": false,
     "task": false
    },
    "slideshow": {
     "slide_type": ""
    },
    "tags": []
   },
   "outputs": [
    {
     "name": "stdout",
     "output_type": "stream",
     "text": [
      "A: [[[0.89]]\n",
      "\n",
      " [[0.11]]]\n",
      "B: [[[0.57]\n",
      "  [0.43]]]\n",
      "AB: [[[0.47]\n",
      "  [0.42]]\n",
      "\n",
      " [[0.1 ]\n",
      "  [0.01]]]\n"
     ]
    },
    {
     "data": {
      "text/plain": [
       "False"
      ]
     },
     "execution_count": 169,
     "metadata": {},
     "output_type": "execute_result"
    }
   ],
   "source": [
    "check_independence(CRH, 0, 1)"
   ]
  },
  {
   "cell_type": "code",
   "execution_count": null,
   "metadata": {},
   "outputs": [],
   "source": []
  },
  {
   "cell_type": "code",
   "execution_count": null,
   "metadata": {},
   "outputs": [],
   "source": []
  }
 ],
 "metadata": {
  "kernelspec": {
   "display_name": "Python 3 (ipykernel)",
   "language": "python",
   "name": "python3"
  },
  "language_info": {
   "codemirror_mode": {
    "name": "ipython",
    "version": 3
   },
   "file_extension": ".py",
   "mimetype": "text/x-python",
   "name": "python",
   "nbconvert_exporter": "python",
   "pygments_lexer": "ipython3",
   "version": "3.12.4"
  }
 },
 "nbformat": 4,
 "nbformat_minor": 4
}
