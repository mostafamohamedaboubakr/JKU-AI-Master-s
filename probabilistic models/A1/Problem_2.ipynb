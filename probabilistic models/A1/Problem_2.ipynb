{
 "cells": [
  {
   "cell_type": "code",
   "execution_count": 1,
   "id": "8ca36a17",
   "metadata": {
    "deletable": false,
    "editable": false,
    "nbgrader": {
     "cell_type": "code",
     "checksum": "bf4edfab2cd9dc5728c12e9d21f7c91e",
     "grade": false,
     "grade_id": "cell-686cb3d799ec8a43",
     "locked": true,
     "schema_version": 3,
     "solution": false,
     "task": false
    },
    "slideshow": {
     "slide_type": ""
    },
    "tags": []
   },
   "outputs": [],
   "source": [
    "import numpy as np\n",
    "from helpers import print_table"
   ]
  },
  {
   "cell_type": "markdown",
   "id": "3796dad0",
   "metadata": {
    "deletable": false,
    "editable": false,
    "nbgrader": {
     "cell_type": "markdown",
     "checksum": "e0587286227d1be31789987ef122fc1c",
     "grade": false,
     "grade_id": "cell-73f8efb96600e317",
     "locked": true,
     "schema_version": 3,
     "solution": false,
     "task": false
    }
   },
   "source": [
    "# 2. Pairwise vs. Mutual Independence (6 points)\n",
    "\n",
    "**Definition**: We say that two random variables are *pairwise independent* if $$p(X_n \\mid X_m) = p(X_n)$$ and hence $$p(X_m, X_n) =  p(X_n \\mid X_m) p(X_m) = p(X_n) p(X_m) $$\n",
    "\n",
    "**Definition**: We say that $n$ random variables are *mutually independent* if $$p(X_i \\mid X_{S}) = p(X_i)\\;\\; \\forall S \\subseteq \\{1, \\dots, n\\} \\setminus \\{ i \\}$$ and hence $$p(X_{1:n}) = \\prod_{i=1}^n p(X_i)$$\n",
    "\n",
    "\n",
    "\n",
    "\n",
    "<div class=\"alert alert-warning\">\n",
    "Show that pairwise independence between all pairs of variables does not necessarily imply mutual independence. Come up with a minimal counter example that has exactly three binary random variables.\n",
    "</div>\n",
    "\n",
    "Specify this counterexample via its full joint distribution table (FJDT). **Briefly** outline your thought process in the text field below (use $\\LaTeX$ and markdown) and store the model's full joint distribution table into the `XYZ` variable. It is sufficient to show pairwise independence and non-mutual independence by comparing products of marginals and joint distributions. \n",
    "\n",
    "**Hint**: Copy your implementation of `inference_by_enumeration` from Problem 1. You can use `print_table` to visualize your distribution tables such as the FJDT, products of marginals, and joint distributions."
   ]
  },
  {
   "cell_type": "code",
   "execution_count": 4,
   "id": "47663319",
   "metadata": {
    "deletable": false,
    "editable": false,
    "nbgrader": {
     "cell_type": "code",
     "checksum": "762aadb6b57567c75e543872c27732ff",
     "grade": false,
     "grade_id": "cell-1c3382c777224895",
     "locked": true,
     "schema_version": 3,
     "solution": false,
     "task": false
    }
   },
   "outputs": [
    {
     "name": "stdout",
     "output_type": "stream",
     "text": [
      "Help on function print_table in module helpers:\n",
      "\n",
      "print_table(probability_table: numpy.ndarray, variable_names: str) -> None\n",
      "    Prints a probability distribution table.\n",
      "\n",
      "    Parameters\n",
      "    ----------\n",
      "    probability_table : np.ndarray\n",
      "        The probability distribution table\n",
      "    variable_names : str\n",
      "        A string containing the variable names, e.g., 'CDE'.\n",
      "\n",
      "    Returns\n",
      "    -------\n",
      "    None\n",
      "\n"
     ]
    }
   ],
   "source": [
    "help(print_table)"
   ]
  },
  {
   "cell_type": "markdown",
   "id": "4913b5dc",
   "metadata": {
    "deletable": false,
    "nbgrader": {
     "cell_type": "markdown",
     "checksum": "0fc1123a3a6796ef6275f1f58cb4ff0c",
     "grade": true,
     "grade_id": "cell-6ced5d0ec1cbd764",
     "locked": false,
     "points": 2,
     "schema_version": 3,
     "solution": true,
     "task": false
    }
   },
   "source": [
    "YOUR ANSWER HERE\n",
    "\n",
    "as an example, we can assume we have a probabilistic case with these conditions:\n",
    "P(X = 0, Y = 0, Z = 0) = 1/4\r\n",
    "P(X = 1, Y = 1, Z = 0) = 1/4\r\n",
    "P(X = 1, Y = 0, Z = 1) = 1/4\r\n",
    "P(X = 0, Y = 1, Z = 1) = 1/4\r\n",
    "P(X = 0, Y = 1, Z = 0) = 0\r\n",
    "P(X = 0, Y = 1, Z = 1) = 0\r\n",
    "P(X = 1, Y = 1, Z = 1) = 0\r\n",
    "P(X = 1, Y = 0, Z =\n",
    " so from these conditions, we can conclude that:0) = 0\r\n",
    "\r\n",
    "P(X) = P(Y) = P(Z) = 1/2\r\n",
    "P(X Ո Y) = P(X Ո Z) = P(Y4\n",
    " Z) = 1/2\r\n",
    "P(X Ո Y so:\n",
    "P(X) * P(Y) = 1/4\n",
    "P(X) * P(Z) = 1/4\n",
    "P(Y) * P(Z) = 1/4\n",
    "Ո Z) = 1/4\r\n",
    "P(X) * P(Y) \n",
    "\n",
    "so we can see that [P(X) * P(Y) = P(X Ո Y), P(X) * P(Z) = P(X Ո Z), P(Y) * P(Z) = P(Y Ո Z)] which is an indication of pairwise independence,\n",
    "but [P(X Ո Y Ո Z)] does not equal [P(X) * P(Y) * P(Z)] so it is not mutually independent.* P(Z) = 1/8\r\n"
   ]
  },
  {
   "cell_type": "code",
   "execution_count": 7,
   "id": "aac187ff",
   "metadata": {
    "deletable": false,
    "nbgrader": {
     "cell_type": "code",
     "checksum": "00271c6bdb0b928a11b9ff99d368237c",
     "grade": false,
     "grade_id": "cell-7f0b4fa0aa65bb39",
     "locked": false,
     "schema_version": 3,
     "solution": true,
     "task": false
    }
   },
   "outputs": [
    {
     "name": "stdout",
     "output_type": "stream",
     "text": [
      "FJDT\n"
     ]
    },
    {
     "data": {
      "text/html": [
       "<table><tr><td> </td><td>$y_0$</td><td>$y_0$</td><td>$y_1$</td><td>$y_1$</td></tr><tr><td> </td><td>$z_0$</td><td>$z_1$</td><td>$z_0$</td><td>$z_1$</td></tr><tr><td>$x_0$</td><td>0.250</td><td>0.000</td><td>0.000</td><td>0.250</td></tr><tr><td>$x_1$</td><td>0.000</td><td>0.250</td><td>0.250</td><td>0.000</td></tr></table>"
      ],
      "text/plain": [
       "<IPython.core.display.HTML object>"
      ]
     },
     "metadata": {},
     "output_type": "display_data"
    }
   ],
   "source": [
    "XYZ = np.ones((2,2,2))\n",
    "\n",
    "# YOUR CODE HERE\n",
    "\n",
    "\n",
    "XYZ[0,0,0] = 1/4\n",
    "XYZ[0,1,1] = 1/4\n",
    "XYZ[1,0,1] = 1/4\n",
    "XYZ[1,1,0] = 1/4\n",
    "XYZ[0,1,0] = 0\n",
    "XYZ[0,0,1] = 0\n",
    "XYZ[1,0,0] = 0\n",
    "XYZ[1,1,1] = 0\n",
    "\n",
    "print(\"FJDT\")\n",
    "print_table(XYZ, \"XYZ\")\n",
    "#raise NotImplementedError()"
   ]
  },
  {
   "cell_type": "code",
   "execution_count": 9,
   "id": "5c96826a-4e5a-48f7-81a2-eb7d5b6c9269",
   "metadata": {},
   "outputs": [],
   "source": [
    "def inference_by_enumeration(\n",
    "    FJDT: np.ndarray, \n",
    "    query_variable_indices: tuple, \n",
    "    evidence_variable_indices: tuple = tuple()\n",
    ") -> np.ndarray:\n",
    " \n",
    "    assert type(FJDT) == np.ndarray, \"FJDT must be a np.ndarray\"\n",
    "    assert type(query_variable_indices) == tuple, \"query_variable_indices must be a tuple\"\n",
    "    assert type(evidence_variable_indices) == tuple, \"evidence_variable_indices must be a tuple\"\n",
    "        \n",
    "    query_sum = query_variable_indices + evidence_variable_indices\n",
    "    hv = tuple(set(range(FJDT.ndim)).difference(query_sum))\n",
    "    p = np.sum(FJDT, axis=hv, keepdims=True)\n",
    "    z = np.sum(p, axis=query_variable_indices, keepdims=True)\n",
    "    CPT = 1/z * p\n",
    "    #print(CPT)\n",
    "\n",
    "    return CPT"
   ]
  },
  {
   "cell_type": "code",
   "execution_count": 16,
   "id": "a58a1074",
   "metadata": {
    "deletable": false,
    "nbgrader": {
     "cell_type": "code",
     "checksum": "d3a8ca023ad6c3e1a32e248e3e1db8fc",
     "grade": false,
     "grade_id": "cell-1486738b77c0d868",
     "locked": false,
     "schema_version": 3,
     "solution": true,
     "task": false
    }
   },
   "outputs": [
    {
     "name": "stdout",
     "output_type": "stream",
     "text": [
      "P(X):\n"
     ]
    },
    {
     "data": {
      "text/html": [
       "<table><tr><td>$x_0$</td><td>0.500</td></tr><tr><td>$x_1$</td><td>0.500</td></tr></table>"
      ],
      "text/plain": [
       "<IPython.core.display.HTML object>"
      ]
     },
     "metadata": {},
     "output_type": "display_data"
    },
    {
     "name": "stdout",
     "output_type": "stream",
     "text": [
      "P(Y):\n"
     ]
    },
    {
     "data": {
      "text/html": [
       "<table><tr><td>$y_0$</td><td>0.500</td></tr><tr><td>$y_1$</td><td>0.500</td></tr></table>"
      ],
      "text/plain": [
       "<IPython.core.display.HTML object>"
      ]
     },
     "metadata": {},
     "output_type": "display_data"
    },
    {
     "name": "stdout",
     "output_type": "stream",
     "text": [
      "P(Z):\n"
     ]
    },
    {
     "data": {
      "text/html": [
       "<table><tr><td>$z_0$</td><td>0.500</td></tr><tr><td>$z_1$</td><td>0.500</td></tr></table>"
      ],
      "text/plain": [
       "<IPython.core.display.HTML object>"
      ]
     },
     "metadata": {},
     "output_type": "display_data"
    },
    {
     "name": "stdout",
     "output_type": "stream",
     "text": [
      "P(X Ո Y):\n"
     ]
    },
    {
     "data": {
      "text/html": [
       "<table><tr><td> </td><td>$y_0$</td><td>$y_1$</td></tr><tr><td>$x_0$</td><td>0.250</td><td>0.250</td></tr><tr><td>$x_1$</td><td>0.250</td><td>0.250</td></tr></table>"
      ],
      "text/plain": [
       "<IPython.core.display.HTML object>"
      ]
     },
     "metadata": {},
     "output_type": "display_data"
    },
    {
     "name": "stdout",
     "output_type": "stream",
     "text": [
      "P(X)*P(Y):\n"
     ]
    },
    {
     "data": {
      "text/html": [
       "<table><tr><td> </td><td>$y_0$</td><td>$y_1$</td></tr><tr><td>$x_0$</td><td>0.250</td><td>0.250</td></tr><tr><td>$x_1$</td><td>0.250</td><td>0.250</td></tr></table>"
      ],
      "text/plain": [
       "<IPython.core.display.HTML object>"
      ]
     },
     "metadata": {},
     "output_type": "display_data"
    },
    {
     "name": "stdout",
     "output_type": "stream",
     "text": [
      "P(X Ո Z):\n"
     ]
    },
    {
     "data": {
      "text/html": [
       "<table><tr><td> </td><td>$z_0$</td><td>$z_1$</td></tr><tr><td>$x_0$</td><td>0.250</td><td>0.250</td></tr><tr><td>$x_1$</td><td>0.250</td><td>0.250</td></tr></table>"
      ],
      "text/plain": [
       "<IPython.core.display.HTML object>"
      ]
     },
     "metadata": {},
     "output_type": "display_data"
    },
    {
     "name": "stdout",
     "output_type": "stream",
     "text": [
      "P(X)*P(Z):\n"
     ]
    },
    {
     "data": {
      "text/html": [
       "<table><tr><td> </td><td>$z_0$</td><td>$z_1$</td></tr><tr><td>$x_0$</td><td>0.250</td><td>0.250</td></tr><tr><td>$x_1$</td><td>0.250</td><td>0.250</td></tr></table>"
      ],
      "text/plain": [
       "<IPython.core.display.HTML object>"
      ]
     },
     "metadata": {},
     "output_type": "display_data"
    },
    {
     "name": "stdout",
     "output_type": "stream",
     "text": [
      "P(Y Ո Z):\n"
     ]
    },
    {
     "data": {
      "text/html": [
       "<table><tr><td> </td><td>$z_0$</td><td>$z_1$</td></tr><tr><td>$y_0$</td><td>0.250</td><td>0.250</td></tr><tr><td>$y_1$</td><td>0.250</td><td>0.250</td></tr></table>"
      ],
      "text/plain": [
       "<IPython.core.display.HTML object>"
      ]
     },
     "metadata": {},
     "output_type": "display_data"
    },
    {
     "name": "stdout",
     "output_type": "stream",
     "text": [
      "P(Y)*P(Z):\n"
     ]
    },
    {
     "data": {
      "text/html": [
       "<table><tr><td> </td><td>$z_0$</td><td>$z_1$</td></tr><tr><td>$y_0$</td><td>0.250</td><td>0.250</td></tr><tr><td>$y_1$</td><td>0.250</td><td>0.250</td></tr></table>"
      ],
      "text/plain": [
       "<IPython.core.display.HTML object>"
      ]
     },
     "metadata": {},
     "output_type": "display_data"
    },
    {
     "name": "stdout",
     "output_type": "stream",
     "text": [
      "P(X Ո Y Ո Z):\n"
     ]
    },
    {
     "data": {
      "text/html": [
       "<table><tr><td> </td><td>$y_0$</td><td>$y_0$</td><td>$y_1$</td><td>$y_1$</td></tr><tr><td> </td><td>$z_0$</td><td>$z_1$</td><td>$z_0$</td><td>$z_1$</td></tr><tr><td>$x_0$</td><td>0.250</td><td>0.000</td><td>0.000</td><td>0.250</td></tr><tr><td>$x_1$</td><td>0.000</td><td>0.250</td><td>0.250</td><td>0.000</td></tr></table>"
      ],
      "text/plain": [
       "<IPython.core.display.HTML object>"
      ]
     },
     "metadata": {},
     "output_type": "display_data"
    },
    {
     "name": "stdout",
     "output_type": "stream",
     "text": [
      "P(X)*P(Y)*P(Z):\n"
     ]
    },
    {
     "data": {
      "text/html": [
       "<table><tr><td> </td><td>$y_0$</td><td>$y_0$</td><td>$y_1$</td><td>$y_1$</td></tr><tr><td> </td><td>$z_0$</td><td>$z_1$</td><td>$z_0$</td><td>$z_1$</td></tr><tr><td>$x_0$</td><td>0.125</td><td>0.125</td><td>0.125</td><td>0.125</td></tr><tr><td>$x_1$</td><td>0.125</td><td>0.125</td><td>0.125</td><td>0.125</td></tr></table>"
      ],
      "text/plain": [
       "<IPython.core.display.HTML object>"
      ]
     },
     "metadata": {},
     "output_type": "display_data"
    }
   ],
   "source": [
    "# copy inference_by_enumeration from Problem 1 & print and compare the probability tables here!\n",
    "\n",
    "# YOUR CODE HERE\n",
    "X, Y, Z = 0, 1, 2\n",
    "\n",
    "P_X = inference_by_enumeration(XYZ, (X,), ())\n",
    "P_Y = inference_by_enumeration(XYZ, (Y,), ())\n",
    "P_Z = inference_by_enumeration(XYZ, (Z,), ())\n",
    "P_XY = inference_by_enumeration(XYZ, (X,Y), ())\n",
    "P_XZ = inference_by_enumeration(XYZ, (X,Z), ())\n",
    "P_YZ = inference_by_enumeration(XYZ, (Y,Z), ())\n",
    "P_XYZ_jont = inference_by_enumeration(XYZ, (X,Y,Z), ())\n",
    "p_XYZ_product = P_X * P_Y * P_Z\n",
    "\n",
    "print('P(X):')\n",
    "print_table(P_X.squeeze(),\"X\")\n",
    "print('P(Y):')\n",
    "print_table(P_Y.squeeze(),\"Y\")\n",
    "print('P(Z):')\n",
    "print_table(P_Z.squeeze(),\"Z\")\n",
    "print('P(X Ո Y):')\n",
    "print_table(P_XY.squeeze(),\"XY\")\n",
    "print('P(X)*P(Y):')\n",
    "print_table((P_X*P_Y).squeeze(),\"XY\")\n",
    "print('P(X Ո Z):')\n",
    "print_table(P_XZ.squeeze(),\"XZ\")\n",
    "print('P(X)*P(Z):')\n",
    "print_table((P_X*P_Z).squeeze(),\"XZ\")\n",
    "print('P(Y Ո Z):')\n",
    "print_table(P_YZ.squeeze(),\"YZ\")\n",
    "print('P(Y)*P(Z):')\n",
    "print_table((P_Y*P_Z).squeeze(),\"YZ\")\n",
    "print('P(X Ո Y Ո Z):')\n",
    "print_table(P_XYZ_jont.squeeze(),\"XYZ\")\n",
    "print('P(X)*P(Y)*P(Z):')\n",
    "print_table((p_XYZ_product).squeeze(),\"XYZ\")\n",
    "#raise NotImplementedError()"
   ]
  },
  {
   "cell_type": "code",
   "execution_count": 18,
   "id": "5d5376c1",
   "metadata": {
    "deletable": false,
    "editable": false,
    "nbgrader": {
     "cell_type": "code",
     "checksum": "a6171309d3dbc1b8202ad85fdddde70a",
     "grade": true,
     "grade_id": "cell-b612791dd41278bf",
     "locked": true,
     "points": 4,
     "schema_version": 3,
     "solution": false,
     "task": false
    }
   },
   "outputs": [],
   "source": [
    "assert XYZ.shape == (2, 2, 2), 'FJDT must have shape (2,2,2)'\n",
    "assert np.isclose(XYZ.sum(), 1), 'Probabilites in FJDT must sum to one'\n"
   ]
  },
  {
   "cell_type": "code",
   "execution_count": null,
   "id": "b8fd8390-e1d7-4a8e-bd97-17f3a236a4ed",
   "metadata": {},
   "outputs": [],
   "source": []
  },
  {
   "cell_type": "code",
   "execution_count": null,
   "id": "9722dc4d-299a-45a4-ac77-e849791166f6",
   "metadata": {},
   "outputs": [],
   "source": []
  }
 ],
 "metadata": {
  "kernelspec": {
   "display_name": "Python 3 (ipykernel)",
   "language": "python",
   "name": "python3"
  },
  "language_info": {
   "codemirror_mode": {
    "name": "ipython",
    "version": 3
   },
   "file_extension": ".py",
   "mimetype": "text/x-python",
   "name": "python",
   "nbconvert_exporter": "python",
   "pygments_lexer": "ipython3",
   "version": "3.12.4"
  }
 },
 "nbformat": 4,
 "nbformat_minor": 5
}
