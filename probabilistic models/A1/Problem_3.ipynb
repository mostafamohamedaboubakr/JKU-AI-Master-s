{
 "cells": [
  {
   "cell_type": "markdown",
   "id": "6dc5bf20",
   "metadata": {
    "deletable": false,
    "editable": false,
    "nbgrader": {
     "cell_type": "markdown",
     "checksum": "c28b37a27c2677dd7abccc634b8a5e12",
     "grade": false,
     "grade_id": "cell-73f8efb96600e317",
     "locked": true,
     "schema_version": 3,
     "solution": false,
     "task": false
    },
    "slideshow": {
     "slide_type": ""
    },
    "tags": []
   },
   "source": [
    "---\n",
    "# 3. Conditional Independence (4 points)\n",
    "\n",
    "Let $Y$ be a discrete random variable over $K$ classes $\\{1, \\dots, K\\}$ and $X_1, X_2 \\in \\mathbb{R}$ two continuous random variables (features). Suppose we wish to calculate the posterior distribution over classes given observation $(x_1, x_2)$, i.e., $$P(Y \\mid x_1, x_2) = \\big[P(Y = 1 \\mid x_1, x_2), \\dots, P(Y = K \\mid x_1, x_2) \\big]$$\n",
    "\n",
    "---\n",
    "## 3.1. Posterior Over Classes\n",
    "\n",
    "Which of the following numbers / probability distribution tables are sufficient to compute the posterior distribution $P(Y \\mid x_1, x_2)$? Select all answers that apply!\n",
    "1. $P(x_1, x_2)$, $P(Y)$, $P(x_1 \\mid Y), P(x_2 \\mid Y)$\n",
    "2. $P(x_1, x_2)$, $P(Y)$, $P(x_1, x_2 \\mid Y)$\n",
    "3. $P(x_1 \\mid Y)$, $P(x_2, \\mid Y)$, $P(Y)$\n",
    "\n",
    "<div class=\"alert alert-warning\">\n",
    "Show your calculations in the text field (use markdown & $\\LaTeX$) and indicate your solutions in the code cell below. **Keep your solution short**! (2 points)\n",
    "</div>"
   ]
  },
  {
   "cell_type": "markdown",
   "id": "61421108",
   "metadata": {
    "deletable": false,
    "nbgrader": {
     "cell_type": "markdown",
     "checksum": "a22e03073c56852db74bfe7e7272a49e",
     "grade": true,
     "grade_id": "cell-88f39e958328a739",
     "locked": false,
     "points": 0.5,
     "schema_version": 3,
     "solution": true,
     "task": false
    }
   },
   "source": [
    "YOUR ANSWER HERE\n",
    "\n",
    "since we need to compute this $P(Y \\mid x_1, x_2)$ so we need to apply bay's theorem:\n",
    "\n",
    "$P(Y \\mid x_1, x_2)$ = ($P(Y)$ * $P(x_1, x_2 \\mid Y)$)/$P(x_1, x_2)$\n",
    "\n",
    "so choice number 2 is correct\n"
   ]
  },
  {
   "cell_type": "code",
   "execution_count": 3,
   "id": "a0980b3d",
   "metadata": {
    "deletable": false,
    "nbgrader": {
     "cell_type": "code",
     "checksum": "dfd19e62755fbc9ab33f3362175c9985",
     "grade": false,
     "grade_id": "cell-a84d846ec24f56cd",
     "locked": false,
     "schema_version": 3,
     "solution": true,
     "task": false
    }
   },
   "outputs": [],
   "source": [
    "# Provide either True or False as an answer\n",
    "results = {}\n",
    "results['3.1.1'] = None\n",
    "results['3.1.2'] = None\n",
    "results['3.1.3'] = None\n",
    "\n",
    "# YOUR CODE HERE\n",
    "results['3.1.1'] = False\n",
    "results['3.1.2'] = True\n",
    "results['3.1.3'] = False\n",
    "#raise NotImplementedError()"
   ]
  },
  {
   "cell_type": "code",
   "execution_count": 4,
   "id": "401131fc",
   "metadata": {
    "deletable": false,
    "editable": false,
    "nbgrader": {
     "cell_type": "code",
     "checksum": "161705d2f898059c2485f3597197055e",
     "grade": true,
     "grade_id": "cell-b257ff7924dccb48",
     "locked": true,
     "points": 0.5,
     "schema_version": 3,
     "solution": false,
     "task": false
    }
   },
   "outputs": [],
   "source": [
    "assert results.get(\"3.1.1\") is not None"
   ]
  },
  {
   "cell_type": "code",
   "execution_count": 5,
   "id": "469ad623",
   "metadata": {
    "deletable": false,
    "editable": false,
    "nbgrader": {
     "cell_type": "code",
     "checksum": "169d977e8839abe01e564d5c18919f3d",
     "grade": true,
     "grade_id": "cell-3d91bba838237a67",
     "locked": true,
     "points": 0.5,
     "schema_version": 3,
     "solution": false,
     "task": false
    }
   },
   "outputs": [],
   "source": [
    "assert results.get(\"3.1.2\") is not None"
   ]
  },
  {
   "cell_type": "code",
   "execution_count": 6,
   "id": "d88a8380",
   "metadata": {
    "deletable": false,
    "editable": false,
    "nbgrader": {
     "cell_type": "code",
     "checksum": "22d5d8865e94d62fea408714fc0ffe01",
     "grade": true,
     "grade_id": "cell-1830d1023f317f63",
     "locked": true,
     "points": 0.5,
     "schema_version": 3,
     "solution": false,
     "task": false
    }
   },
   "outputs": [],
   "source": [
    "assert results.get(\"3.1.3\") is not None"
   ]
  },
  {
   "cell_type": "markdown",
   "id": "245b82a4",
   "metadata": {
    "deletable": false,
    "editable": false,
    "nbgrader": {
     "cell_type": "markdown",
     "checksum": "a98bb5d11731b10fa44f280224341e98",
     "grade": false,
     "grade_id": "cell-5e30208e7347b9f3",
     "locked": true,
     "schema_version": 3,
     "solution": false,
     "task": false
    }
   },
   "source": [
    "---\n",
    "## 3.2. Posterior Over Classes with Independence Assumption\n",
    "\n",
    "Now suppose the features are independent given the class, i.e., $X1 \\perp \\!\\!\\! \\perp  X2 \\mid Y$.\n",
    "Which of the above three options are sufficient now to compute the posterior distribution $P(Y = 1 \\mid x_1, x_2)$? Select all answers that apply!\n",
    "\n",
    "<div class=\"alert alert-warning\">\n",
    "Show your calculations in the text field (use markdown & $\\LaTeX$) and indicate your solutions in the code cell below. **Keep your solution short**! (2 points)\n",
    "</div>"
   ]
  },
  {
   "cell_type": "markdown",
   "id": "3968b692",
   "metadata": {
    "deletable": false,
    "nbgrader": {
     "cell_type": "markdown",
     "checksum": "0cabcd3f3d774ca36b3b6d333a227961",
     "grade": true,
     "grade_id": "cell-7f006e73a5270660",
     "locked": false,
     "points": 0.5,
     "schema_version": 3,
     "solution": true,
     "task": false
    }
   },
   "source": [
    "YOUR ANSWER HERE\n",
    "\n",
    "since we need to compute this $P(Y \\mid x_1, x_2)$ so we need to apply bay's theorem:\n",
    "\n",
    "$P(Y \\mid x_1, x_2)$ = ($P(Y)$ * $P(x_1, x_2 \\mid Y)$)/$P(x_1, x_2)$\n",
    "\n",
    "so choice number 2 is correct\n",
    "\n",
    "also since $x_1$ and $x_2$ are now independent, we can say that:\n",
    "\n",
    "$P(x_1, x_2 \\mid Y)$ = $P(x_1 \\mid Y)$ * $P(x_2 \\mid Y)$\n",
    "\n",
    "\n",
    "so choice 1 can also satisfy bay's theorem so it is correct as well \n"
   ]
  },
  {
   "cell_type": "code",
   "execution_count": 18,
   "id": "e30c89c2",
   "metadata": {
    "deletable": false,
    "nbgrader": {
     "cell_type": "code",
     "checksum": "7d8b40db85e52da8c71b7f376a058559",
     "grade": false,
     "grade_id": "cell-61e0215eada549d1",
     "locked": false,
     "schema_version": 3,
     "solution": true,
     "task": false
    }
   },
   "outputs": [],
   "source": [
    "# Provide either True or False as an answer\n",
    "results = {}\n",
    "results['3.2.1'] = None\n",
    "results['3.2.2'] = None\n",
    "results['3.2.3'] = None\n",
    "\n",
    "# YOUR CODE HERE\n",
    "results['3.2.1'] = True\n",
    "results['3.2.2'] = True\n",
    "results['3.2.3'] = False\n",
    "#Araise NotImplementedError()"
   ]
  },
  {
   "cell_type": "code",
   "execution_count": 20,
   "id": "399af688",
   "metadata": {
    "deletable": false,
    "editable": false,
    "nbgrader": {
     "cell_type": "code",
     "checksum": "9d237e8e1bae503df8f09425cb149542",
     "grade": true,
     "grade_id": "cell-b6e374c6c8768319",
     "locked": true,
     "points": 0.5,
     "schema_version": 3,
     "solution": false,
     "task": false
    }
   },
   "outputs": [],
   "source": [
    "assert results.get(\"3.2.1\") is not None"
   ]
  },
  {
   "cell_type": "code",
   "execution_count": 22,
   "id": "c330bcce",
   "metadata": {
    "deletable": false,
    "editable": false,
    "nbgrader": {
     "cell_type": "code",
     "checksum": "2995dc5f57cc837b20a6e47bb20be45a",
     "grade": true,
     "grade_id": "cell-dfc3bd41ec7b2773",
     "locked": true,
     "points": 0.5,
     "schema_version": 3,
     "solution": false,
     "task": false
    }
   },
   "outputs": [],
   "source": [
    "assert results.get(\"3.2.2\") is not None"
   ]
  },
  {
   "cell_type": "code",
   "execution_count": 24,
   "id": "5277ac3b",
   "metadata": {
    "deletable": false,
    "editable": false,
    "nbgrader": {
     "cell_type": "code",
     "checksum": "bb9908b50462838b7deab915bab78af8",
     "grade": true,
     "grade_id": "cell-92daa65c220d403c",
     "locked": true,
     "points": 0.5,
     "schema_version": 3,
     "solution": false,
     "task": false
    }
   },
   "outputs": [],
   "source": [
    "assert results.get(\"3.2.3\") is not None"
   ]
  },
  {
   "cell_type": "code",
   "execution_count": null,
   "id": "79b84243-49ee-4e92-892e-0347e0d4e6ff",
   "metadata": {},
   "outputs": [],
   "source": []
  },
  {
   "cell_type": "code",
   "execution_count": null,
   "id": "1c152253-0645-4e90-b26b-7e62f316a4d9",
   "metadata": {},
   "outputs": [],
   "source": []
  }
 ],
 "metadata": {
  "kernelspec": {
   "display_name": "Python 3 (ipykernel)",
   "language": "python",
   "name": "python3"
  },
  "language_info": {
   "codemirror_mode": {
    "name": "ipython",
    "version": 3
   },
   "file_extension": ".py",
   "mimetype": "text/x-python",
   "name": "python",
   "nbconvert_exporter": "python",
   "pygments_lexer": "ipython3",
   "version": "3.12.4"
  }
 },
 "nbformat": 4,
 "nbformat_minor": 5
}
