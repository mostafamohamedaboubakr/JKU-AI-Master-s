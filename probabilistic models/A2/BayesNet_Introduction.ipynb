{
 "cells": [
  {
   "cell_type": "markdown",
   "metadata": {
    "deletable": false,
    "editable": false,
    "nbgrader": {
     "cell_type": "markdown",
     "checksum": "41093e01004250d0b79bcea630f0bd12",
     "grade": false,
     "grade_id": "cell-4e2239f339cf593f",
     "locked": true,
     "schema_version": 3,
     "solution": false,
     "task": false
    }
   },
   "source": [
    "# Introduction to Custom Classes\n",
    "\n",
    "In this notebook, we provide a brief overview of how to use the helper classes (*BayesNet* and *Variable*). \n",
    "\n",
    "At first, we import our custom classes in order to use them:"
   ]
  },
  {
   "cell_type": "code",
   "execution_count": 1,
   "metadata": {
    "deletable": false,
    "editable": false,
    "nbgrader": {
     "cell_type": "code",
     "checksum": "58083262fc0aeb5d1c5c67c2d0abae0a",
     "grade": false,
     "grade_id": "cell-ca40a61ab7715dd0",
     "locked": true,
     "schema_version": 3,
     "solution": false,
     "task": false
    }
   },
   "outputs": [],
   "source": [
    "import numpy as np\n",
    "from bayesian_network import BayesNet, Variable\n",
    "from typing import Iterator"
   ]
  },
  {
   "cell_type": "markdown",
   "metadata": {
    "deletable": false,
    "editable": false,
    "nbgrader": {
     "cell_type": "markdown",
     "checksum": "cf7046d7f2d649320ff187a4f4260905",
     "grade": false,
     "grade_id": "cell-9721667ca3b6b037",
     "locked": true,
     "schema_version": 3,
     "solution": false,
     "task": false
    }
   },
   "source": [
    "Consider the following Bayesian Network (all variables are binary):\n",
    "\n",
    "<img width='30%' src='bn.svg'>\n",
    "\n",
    "The conditional probability tables are given as:\n",
    "\n",
    "<table style=\"float: left;margin:5px;\"><tr><th>P(A)</th><th>$a_0$<br></th><th>$a_1$</th></tr><tr><td>-</td><td>0.2</td><td>0.8</td></tr></table>\n",
    "\n",
    "<table style=\"float: left;margin:5px;\"><tr><th>P(B | A)</th><th>$a_0$<br></th><th>$a_1$</th></tr><tr><td>$b_0$</td><td>0.9</td><td>0.2</td></tr><tr><td>$b_1$</td><td>0.1</td><td>0.8</td></tr></table>\n",
    "\n",
    "<table style=\"float: left;margin:5px;\"><tr><th rowspan=\"2\">P(D | A, B)</th><th colspan=\"2\">$a_0$<br></th><th colspan=\"2\">$a_1$</th></tr><tr><td>$b_0$</td><td>$b_1$</td><td>$b_0$</td><td>$b_1$</td></tr><tr><td>$d_0$<br></td><td>0.1</td><td>0.2</td><td>0.01</td><td>0.8</td></tr><tr><td>$d_1$</td><td>0.9</td><td>0.8</td><td>0.99</td><td>0.2</td></tr></table>\n",
    "\n",
    "<table style=\"float: left;margin:5px;\"><tr><th>P(C|D)</th><th>$d_0$<br></th><th>$d_1$</th></tr><tr><td>$c_0$</td><td>0.95</td><td>0.15</td></tr><tr><td>$c_1$</td><td>0.05</td><td>0.85</td></tr></table>\n",
    "\n",
    "<table style=\"float: left;margin:5px;\"><tr><th>P(E | C)</th><th>$c_0$</th><th>$c_1$</th></tr><tr><td>$e_0$</td><td>0.9</td><td>0.4</td></tr><tr><td>$e_1$</td><td>0.1</td><td>0.6</td></tr></table>"
   ]
  },
  {
   "cell_type": "markdown",
   "metadata": {
    "deletable": false,
    "editable": false,
    "nbgrader": {
     "cell_type": "markdown",
     "checksum": "5d73a9c7eb1360aa1266e48fe3f50a3c",
     "grade": false,
     "grade_id": "cell-6605c8692d2c6c12",
     "locked": true,
     "schema_version": 3,
     "solution": false,
     "task": false
    }
   },
   "source": [
    "### Creating a BayesNet\n",
    "\n",
    "Let's create a *BayesNet* object representing the above Bayesian Network:"
   ]
  },
  {
   "cell_type": "code",
   "execution_count": 5,
   "metadata": {
    "deletable": false,
    "editable": false,
    "nbgrader": {
     "cell_type": "code",
     "checksum": "a4013eb0f2305d27d2676422625c9915",
     "grade": false,
     "grade_id": "cell-7ab45cffd07c1c23",
     "locked": true,
     "schema_version": 3,
     "solution": false,
     "task": false
    }
   },
   "outputs": [],
   "source": [
    "_A_, _B_, _C_, _D_, _E_ = 0, 1, 2, 3, 4\n",
    "\n",
    "A = np.array([0.2, 0.8])\n",
    "B_A = np.array([[0.9, 0.2], [0.1, 0.8]])\n",
    "C_D = np.array([[0.95, 0.15], [0.05, 0.85]])\n",
    "D_AB = np.array([[[0.1, 0.2], [0.01, 0.8]], [[0.9, 0.8], [0.99, 0.2]]])\n",
    "E_C = np.array([[0.9, 0.4], [0.1, 0.6]])\n",
    "              \n",
    "bayes_net = BayesNet(\n",
    "    (A, [_A_]),\n",
    "    (B_A, [_B_, _A_]),\n",
    "    (C_D, [_C_, _D_]),\n",
    "    (D_AB, [_D_, _A_, _B_]),\n",
    "    (E_C, [_E_, _C_])\n",
    ")"
   ]
  },
  {
   "cell_type": "markdown",
   "metadata": {
    "deletable": false,
    "editable": false,
    "nbgrader": {
     "cell_type": "markdown",
     "checksum": "9c4bce3f277a3e92913bfca085d255d9",
     "grade": false,
     "grade_id": "cell-70f30011a807fb98",
     "locked": true,
     "schema_version": 3,
     "solution": false,
     "task": false
    }
   },
   "source": [
    "The constructor takes an arbitrary amount of tuples of NumPy arrays and integer lists. Each tuple corresponds to a variable in the Bayesian Network, and each tuple holds one NumPy array and one list of integers:\n",
    " - The NumPy array represents the (conditional) probability distribution table of the variable. The table holds the probability distribution(s) over the variable in the first dimension (dimension 0); the additional dimensions encode all possible assignments to the variable's parents.\n",
    " - The integer list maps the dimensions in the probability table to variable IDs (i.e., it gives the semantics of the table). The first entry in the list always corresponds to the variable ID of the current variable; the following ones are the variable's parents.\n",
    "\n",
    "For example, above, we first defined `_A_`, `_B_` etc. to have readable names for the numeric variable IDs. For describing the conditional probability table `P(B | A)` denoted by NumPy array `B_A`, we simply mapped the 2 table dimensions to the variables using `[_B_,_A_]`.\n",
    "\n",
    "From these specification, the *BayesNet* object creates a set of *Variable* objects representing the random variables, their parents and children, and their probability distributions."
   ]
  },
  {
   "cell_type": "markdown",
   "metadata": {
    "deletable": false,
    "editable": false,
    "nbgrader": {
     "cell_type": "markdown",
     "checksum": "032663e0a6c8f79cd8af8555b03e76bf",
     "grade": false,
     "grade_id": "cell-7c8a373493028a22",
     "locked": true,
     "schema_version": 3,
     "solution": false,
     "task": false
    }
   },
   "source": [
    "### Variable objects\n",
    "\n",
    "To access the *Variable* object representing $A$, we can write:"
   ]
  },
  {
   "cell_type": "code",
   "execution_count": 9,
   "metadata": {
    "deletable": false,
    "editable": false,
    "nbgrader": {
     "cell_type": "code",
     "checksum": "ae1a9bdbc8a04fa436db003ea2e2fd15",
     "grade": false,
     "grade_id": "cell-45f5abef5189f80e",
     "locked": true,
     "schema_version": 3,
     "solution": false,
     "task": false
    }
   },
   "outputs": [
    {
     "data": {
      "text/plain": [
       "<bayesian_network.Variable at 0x22138156390>"
      ]
     },
     "execution_count": 9,
     "metadata": {},
     "output_type": "execute_result"
    }
   ],
   "source": [
    "bayes_net[_A_]"
   ]
  },
  {
   "cell_type": "markdown",
   "metadata": {
    "deletable": false,
    "editable": false,
    "nbgrader": {
     "cell_type": "markdown",
     "checksum": "6802bcab84bbd9684cc98895947de7f3",
     "grade": false,
     "grade_id": "cell-6b24467f00bb924e",
     "locked": true,
     "schema_version": 3,
     "solution": false,
     "task": false
    }
   },
   "source": [
    "We can use the *Variable* objects to get some basic information on the random variable. \n",
    "\n",
    "Each *Variable* object has the following attributes:\n",
    "\n",
    "- **id**: The id of the variable. Type: int\n",
    "- **parents**: A set containing the ids of the parent variables. Type: set of ints\n",
    "- **children**: A list containing the ids of the child variables. Type: list of ints\n",
    "- **num_values**: Number of values this variable can take. Type: int \n",
    "- **pdt**: The (conditional) probability distribution table. **Note:** It has a separate dimension for each variable in the Bayesian Network, ordered by ids. The size of each dimension corresponds to the number of possible values; non-parent variables have a dimension size of 1. Type: np.ndarray"
   ]
  },
  {
   "cell_type": "code",
   "execution_count": 12,
   "metadata": {
    "deletable": false,
    "editable": false,
    "nbgrader": {
     "cell_type": "code",
     "checksum": "04769b28088424f2ef680322d1d9104a",
     "grade": false,
     "grade_id": "cell-081d50e6696eaa38",
     "locked": true,
     "schema_version": 3,
     "solution": false,
     "task": false
    }
   },
   "outputs": [
    {
     "name": "stdout",
     "output_type": "stream",
     "text": [
      "id: 1\n",
      "parents: frozenset({0})\n",
      "children: {3}\n",
      "num_values: 2\n"
     ]
    }
   ],
   "source": [
    "variable = bayes_net[1]\n",
    "print(f'id: {variable.id}\\nparents: {variable.parents}\\nchildren: {variable.children}\\nnum_values: {variable.num_values}')"
   ]
  },
  {
   "cell_type": "markdown",
   "metadata": {
    "deletable": false,
    "editable": false,
    "nbgrader": {
     "cell_type": "markdown",
     "checksum": "1384b93d919f1c738872c4e36c83dbc7",
     "grade": false,
     "grade_id": "cell-10510fbea4a4d2a7",
     "locked": true,
     "schema_version": 3,
     "solution": false,
     "task": false
    }
   },
   "source": [
    "### Distribution tables\n",
    "We can also access an expanded and sorted version of the conditional distribution table:"
   ]
  },
  {
   "cell_type": "code",
   "execution_count": 15,
   "metadata": {
    "deletable": false,
    "editable": false,
    "nbgrader": {
     "cell_type": "code",
     "checksum": "cb242705d233cf906dc25c52164ce3e9",
     "grade": false,
     "grade_id": "cell-44dcebbf57779c6c",
     "locked": true,
     "schema_version": 3,
     "solution": false,
     "task": false
    }
   },
   "outputs": [
    {
     "name": "stdout",
     "output_type": "stream",
     "text": [
      "[[[[[0.9]]]\n",
      "\n",
      "\n",
      "  [[[0.1]]]]\n",
      "\n",
      "\n",
      "\n",
      " [[[[0.2]]]\n",
      "\n",
      "\n",
      "  [[[0.8]]]]]\n",
      "\n",
      "variable.pdt.shape = (2, 2, 1, 1, 1)\n"
     ]
    }
   ],
   "source": [
    "variable = bayes_net[1]\n",
    "print(variable.pdt)\n",
    "\n",
    "print('\\nvariable.pdt.shape =', variable.pdt.shape)"
   ]
  },
  {
   "cell_type": "markdown",
   "metadata": {
    "deletable": false,
    "editable": false,
    "nbgrader": {
     "cell_type": "markdown",
     "checksum": "e482c2bf7fb3fd5472b52e3b096153fc",
     "grade": false,
     "grade_id": "cell-ae76b2c1e063d728",
     "locked": true,
     "schema_version": 3,
     "solution": false,
     "task": false
    }
   },
   "source": [
    "Note that the **dimensions** of this (conditional) probability distribution table are **sorted by variable id**, and **singleton dimensions** of size 1 are inserted **for non-parent variables**. Here, variable 1 can take 2 values and its parent, variable 0, can also take 2 values, so the shape starts with two dimensions of size 2. Variables 2, 3, and 4 are not parents of variable 1, so the remaining dimensions are of size 1.\n",
    "\n",
    "This design makes computations and broadcasting a lot easier. For instance, as we will see later, it makes computing the full joint distribution easy."
   ]
  },
  {
   "cell_type": "markdown",
   "metadata": {
    "deletable": false,
    "editable": false,
    "nbgrader": {
     "cell_type": "markdown",
     "checksum": "a27ec3230f4f3ce4b36c965dfce8d7a0",
     "grade": false,
     "grade_id": "cell-003cd458bfe64cae",
     "locked": true,
     "schema_version": 3,
     "solution": false,
     "task": false
    }
   },
   "source": [
    "### Topological Sort\n",
    "Furthermore, we want to use the *BayesNet* object to **iterate over the random variables** of the represented Bayesian Network **in a topological ordering**. This is e.g. required when we want to sample an event from the network. Your first task in Problem Set 2 is to add this functionality to the `BayesNet` class by implementing its `__iter__` function. Checkout *Problem 1.ipynb* for the details of this task, then come back and **copy your implementation to the cell below**."
   ]
  },
  {
   "cell_type": "code",
   "execution_count": 19,
   "metadata": {
    "deletable": false,
    "nbgrader": {
     "cell_type": "code",
     "checksum": "007fdde4c3b858d3c0a60151c7d0e734",
     "grade": false,
     "grade_id": "cell-143587865d1b53ec",
     "locked": false,
     "schema_version": 3,
     "solution": true,
     "task": false
    }
   },
   "outputs": [],
   "source": [
    "def __iter__(self) -> Iterator[Variable]:\n",
    "    \"\"\"\n",
    "    Iterates over all variables in the bayesian network in topological ordering, i.e.,\n",
    "    for an edge from a variable X to a variable Y, X is returned before Y.  \n",
    "    Since a bayesian network is a directed acyclic graph, a topological ordering can always be found. \n",
    "\n",
    "    :yields: variable after variable according to the network's topology.\n",
    "    \"\"\"\n",
    "    \n",
    "    # list of topologically sorted variables to be returned\n",
    "    sorted_variables = list()  \n",
    "    # all variables in the network encoded as a dictionary (keys: variable ids, values: Variable objects)\n",
    "    variables = self.nodes  \n",
    "    \n",
    "    # remove this placeholder!\n",
    "    # YOUR CODE HERE\n",
    "    raise NotImplementedError()\n",
    "\n",
    "    for node in sorted_variables:\n",
    "        yield node\n",
    "\n",
    "# bind the implemented iterator method to the BayesNet\n",
    "BayesNet.__iter__ = __iter__"
   ]
  },
  {
   "cell_type": "markdown",
   "metadata": {
    "deletable": false,
    "editable": false,
    "nbgrader": {
     "cell_type": "markdown",
     "checksum": "d84a9822000094ade0057e3e32edabb9",
     "grade": false,
     "grade_id": "cell-6b21bc80a29deefd",
     "locked": true,
     "schema_version": 3,
     "solution": false,
     "task": false
    }
   },
   "source": [
    "In such an ordering, no variable appears before its parents. Feel free to verify your implementation by comparing to the figure on the top of this notebook (variable id `0` is $A$, `1` is $B$, and so on)."
   ]
  },
  {
   "cell_type": "code",
   "execution_count": 22,
   "metadata": {
    "deletable": false,
    "editable": false,
    "nbgrader": {
     "cell_type": "code",
     "checksum": "a816b8ac27ca6de09f29b889d526b193",
     "grade": false,
     "grade_id": "cell-414c9914f6a1ee9f",
     "locked": true,
     "schema_version": 3,
     "solution": false,
     "task": false
    }
   },
   "outputs": [
    {
     "ename": "NotImplementedError",
     "evalue": "",
     "output_type": "error",
     "traceback": [
      "\u001b[1;31m---------------------------------------------------------------------------\u001b[0m",
      "\u001b[1;31mNotImplementedError\u001b[0m                       Traceback (most recent call last)",
      "Cell \u001b[1;32mIn[22], line 2\u001b[0m\n\u001b[0;32m      1\u001b[0m \u001b[38;5;66;03m# iterate over all variable in a topological ordering\u001b[39;00m\n\u001b[1;32m----> 2\u001b[0m \u001b[38;5;28;01mfor\u001b[39;00m variable \u001b[38;5;129;01min\u001b[39;00m bayes_net:\n\u001b[0;32m      3\u001b[0m     \u001b[38;5;28mprint\u001b[39m(variable\u001b[38;5;241m.\u001b[39mid)\n",
      "Cell \u001b[1;32mIn[19], line 17\u001b[0m, in \u001b[0;36m__iter__\u001b[1;34m(self)\u001b[0m\n\u001b[0;32m     13\u001b[0m variables \u001b[38;5;241m=\u001b[39m \u001b[38;5;28mself\u001b[39m\u001b[38;5;241m.\u001b[39mnodes  \n\u001b[0;32m     15\u001b[0m \u001b[38;5;66;03m# remove this placeholder!\u001b[39;00m\n\u001b[0;32m     16\u001b[0m \u001b[38;5;66;03m# YOUR CODE HERE\u001b[39;00m\n\u001b[1;32m---> 17\u001b[0m \u001b[38;5;28;01mraise\u001b[39;00m \u001b[38;5;167;01mNotImplementedError\u001b[39;00m()\n\u001b[0;32m     19\u001b[0m \u001b[38;5;28;01mfor\u001b[39;00m node \u001b[38;5;129;01min\u001b[39;00m sorted_variables:\n\u001b[0;32m     20\u001b[0m     \u001b[38;5;28;01myield\u001b[39;00m node\n",
      "\u001b[1;31mNotImplementedError\u001b[0m: "
     ]
    }
   ],
   "source": [
    "# iterate over all variable in a topological ordering\n",
    "for variable in bayes_net:\n",
    "    print(variable.id)"
   ]
  },
  {
   "cell_type": "markdown",
   "metadata": {
    "deletable": false,
    "editable": false,
    "nbgrader": {
     "cell_type": "markdown",
     "checksum": "486cd7c765d1b63f3b69209f3eac3c25",
     "grade": false,
     "grade_id": "cell-dd13b319a23e5577",
     "locked": true,
     "schema_version": 3,
     "solution": false,
     "task": false
    }
   },
   "source": [
    "### Computing the full joint distribution"
   ]
  },
  {
   "cell_type": "code",
   "execution_count": 25,
   "metadata": {
    "deletable": false,
    "editable": false,
    "nbgrader": {
     "cell_type": "code",
     "checksum": "f4942998f562fcda2614cf3b3d8412e2",
     "grade": false,
     "grade_id": "cell-5318a293546299fc",
     "locked": true,
     "schema_version": 3,
     "solution": false,
     "task": false
    }
   },
   "outputs": [
    {
     "ename": "NotImplementedError",
     "evalue": "",
     "output_type": "error",
     "traceback": [
      "\u001b[1;31m---------------------------------------------------------------------------\u001b[0m",
      "\u001b[1;31mNotImplementedError\u001b[0m                       Traceback (most recent call last)",
      "Cell \u001b[1;32mIn[25], line 3\u001b[0m\n\u001b[0;32m      1\u001b[0m fjdt \u001b[38;5;241m=\u001b[39m \u001b[38;5;241m1\u001b[39m\n\u001b[1;32m----> 3\u001b[0m \u001b[38;5;28;01mfor\u001b[39;00m variable \u001b[38;5;129;01min\u001b[39;00m bayes_net:\n\u001b[0;32m      4\u001b[0m     fjdt \u001b[38;5;241m=\u001b[39m fjdt \u001b[38;5;241m*\u001b[39m variable\u001b[38;5;241m.\u001b[39mpdt\n\u001b[0;32m      5\u001b[0m     \u001b[38;5;28mprint\u001b[39m(variable\u001b[38;5;241m.\u001b[39mid,fjdt)\n",
      "Cell \u001b[1;32mIn[19], line 17\u001b[0m, in \u001b[0;36m__iter__\u001b[1;34m(self)\u001b[0m\n\u001b[0;32m     13\u001b[0m variables \u001b[38;5;241m=\u001b[39m \u001b[38;5;28mself\u001b[39m\u001b[38;5;241m.\u001b[39mnodes  \n\u001b[0;32m     15\u001b[0m \u001b[38;5;66;03m# remove this placeholder!\u001b[39;00m\n\u001b[0;32m     16\u001b[0m \u001b[38;5;66;03m# YOUR CODE HERE\u001b[39;00m\n\u001b[1;32m---> 17\u001b[0m \u001b[38;5;28;01mraise\u001b[39;00m \u001b[38;5;167;01mNotImplementedError\u001b[39;00m()\n\u001b[0;32m     19\u001b[0m \u001b[38;5;28;01mfor\u001b[39;00m node \u001b[38;5;129;01min\u001b[39;00m sorted_variables:\n\u001b[0;32m     20\u001b[0m     \u001b[38;5;28;01myield\u001b[39;00m node\n",
      "\u001b[1;31mNotImplementedError\u001b[0m: "
     ]
    }
   ],
   "source": [
    "fjdt = 1\n",
    "\n",
    "for variable in bayes_net:\n",
    "    fjdt = fjdt * variable.pdt\n",
    "    print(variable.id,fjdt)\n",
    "\n",
    "print(fjdt.shape, fjdt.sum())"
   ]
  },
  {
   "cell_type": "markdown",
   "metadata": {
    "deletable": false,
    "editable": false,
    "nbgrader": {
     "cell_type": "markdown",
     "checksum": "5889a4b3765b1a1448661af5ef9672de",
     "grade": false,
     "grade_id": "cell-98c94621b17e0ea5",
     "locked": true,
     "schema_version": 3,
     "solution": false,
     "task": false
    }
   },
   "source": [
    "We can just multiply all conditional distributions, knowing the variables match up, and rely on numpy to broadcast across singleton dimensions."
   ]
  },
  {
   "cell_type": "markdown",
   "metadata": {
    "deletable": false,
    "editable": false,
    "nbgrader": {
     "cell_type": "markdown",
     "checksum": "f1c1b08bba1a902dac76ff2a62eb4f35",
     "grade": false,
     "grade_id": "cell-1cfd5402b952fdb1",
     "locked": true,
     "schema_version": 3,
     "solution": false,
     "task": false
    }
   },
   "source": [
    "### Sampling given evidence\n",
    "To obtain the conditional probability distribution of a variable given the evidence variables' values, call the *Variable* object (as if it was a function), and pass a sample with the evidence variables' values set as desired.\n",
    "\n",
    "To demonstrate this, let us first create an uninitialized sample vector to hold the sampled value of each variable. Since it gives a value for each random variable in our world, it must have the same number of dimensions as there are variables in the Bayesian Network:"
   ]
  },
  {
   "cell_type": "code",
   "execution_count": null,
   "metadata": {
    "deletable": false,
    "editable": false,
    "nbgrader": {
     "cell_type": "code",
     "checksum": "8b132659d5759f651830f021f50367b1",
     "grade": false,
     "grade_id": "cell-f2f18be1693d122e",
     "locked": true,
     "schema_version": 3,
     "solution": false,
     "task": false
    }
   },
   "outputs": [],
   "source": [
    "sample = np.empty(len(bayes_net), np.int64)\n",
    "# sample = [?, ?, ?, ?, ?]"
   ]
  },
  {
   "cell_type": "markdown",
   "metadata": {
    "deletable": false,
    "editable": false,
    "nbgrader": {
     "cell_type": "markdown",
     "checksum": "219105a8ab3cf4032953dc3bcbc68847",
     "grade": false,
     "grade_id": "cell-882d5fd858607fb6",
     "locked": true,
     "schema_version": 3,
     "solution": false,
     "task": false
    }
   },
   "source": [
    "Now, let's get the probability distribution over $P(A)$ to sample a value for random variable $A$. We can do this by passing the sample to the *Variable* object, i.e., \n",
    "\n",
    "` bayes_net[_A_](sample)`.\n",
    "\n",
    "In general, this type of call will look up the distribution of a variable conditioned on the evidence in the sample. Since $A$ has no parents, all the values in `sample` will be ignored, so we left them uninitialized above. We get the correct distribution for $A$ (given at the top of the notebook):"
   ]
  },
  {
   "cell_type": "code",
   "execution_count": null,
   "metadata": {
    "deletable": false,
    "editable": false,
    "nbgrader": {
     "cell_type": "code",
     "checksum": "010a631fecd87593af26070cd9550ba0",
     "grade": false,
     "grade_id": "cell-3de25ef8291e6b9f",
     "locked": true,
     "schema_version": 3,
     "solution": false,
     "task": false
    }
   },
   "outputs": [],
   "source": [
    "distribution = bayes_net[_A_](sample)\n",
    "print(\"P(A) =\", distribution)"
   ]
  },
  {
   "cell_type": "markdown",
   "metadata": {
    "deletable": false,
    "editable": false,
    "nbgrader": {
     "cell_type": "markdown",
     "checksum": "3fa79d6c7ff885462414df1d0654973f",
     "grade": false,
     "grade_id": "cell-252a19f348455fb4",
     "locked": true,
     "schema_version": 3,
     "solution": false,
     "task": false
    }
   },
   "source": [
    "We provide a function that can sample a value from such a distribution, called `sample_categorical`:"
   ]
  },
  {
   "cell_type": "code",
   "execution_count": null,
   "metadata": {
    "deletable": false,
    "editable": false,
    "nbgrader": {
     "cell_type": "code",
     "checksum": "7369429f065a445993dfb608d66f9c77",
     "grade": false,
     "grade_id": "cell-931001a22556e24b",
     "locked": true,
     "schema_version": 3,
     "solution": false,
     "task": false
    }
   },
   "outputs": [],
   "source": [
    "from utils import sample_categorical\n",
    "a = sample_categorical(distribution)\n",
    "print(\"a =\", a)"
   ]
  },
  {
   "cell_type": "markdown",
   "metadata": {
    "deletable": false,
    "editable": false,
    "nbgrader": {
     "cell_type": "markdown",
     "checksum": "723f71f7b5d6418d99e86690be9d5d32",
     "grade": false,
     "grade_id": "cell-252a19f348455fb3",
     "locked": true,
     "schema_version": 3,
     "solution": false,
     "task": false
    }
   },
   "source": [
    "To sample further variables, we would update the value of $A$ in the sample:"
   ]
  },
  {
   "cell_type": "code",
   "execution_count": 17,
   "metadata": {
    "deletable": false,
    "editable": false,
    "nbgrader": {
     "cell_type": "code",
     "checksum": "48aa8957709a6b307df045e486ccf1a7",
     "grade": false,
     "grade_id": "cell-fc0f5b9c63df8f7f",
     "locked": true,
     "schema_version": 3,
     "solution": false,
     "task": false
    }
   },
   "outputs": [
    {
     "ename": "NameError",
     "evalue": "name 'a' is not defined",
     "output_type": "error",
     "traceback": [
      "\u001b[1;31m---------------------------------------------------------------------------\u001b[0m",
      "\u001b[1;31mNameError\u001b[0m                                 Traceback (most recent call last)",
      "Cell \u001b[1;32mIn[17], line 1\u001b[0m\n\u001b[1;32m----> 1\u001b[0m sample[_A_] \u001b[38;5;241m=\u001b[39m a\n",
      "\u001b[1;31mNameError\u001b[0m: name 'a' is not defined"
     ]
    }
   ],
   "source": [
    "sample[_A_] = a\n",
    "# sample = [a, ?, ?, ?, ?]"
   ]
  },
  {
   "cell_type": "markdown",
   "metadata": {
    "deletable": false,
    "editable": false,
    "nbgrader": {
     "cell_type": "markdown",
     "checksum": "5f9204845a48d2980c101f6944ec1bb2",
     "grade": false,
     "grade_id": "cell-918b9a28461b9539",
     "locked": true,
     "schema_version": 3,
     "solution": false,
     "task": false
    }
   },
   "source": [
    "Now that we have a value for random variable $A$, we can get the distribution $P(B \\mid A = a)$ by again passing the (still incomplete) sample to the variable object of $B$:"
   ]
  },
  {
   "cell_type": "code",
   "execution_count": null,
   "metadata": {
    "deletable": false,
    "editable": false,
    "nbgrader": {
     "cell_type": "code",
     "checksum": "0ef4f77a25a720596ff1f6dbcd2ad0a2",
     "grade": false,
     "grade_id": "cell-6ad31afbd12389a3",
     "locked": true,
     "schema_version": 3,
     "solution": false,
     "task": false
    }
   },
   "outputs": [],
   "source": [
    "distribution = bayes_net[_B_](sample)\n",
    "print(\"P(B|A=a) =\", distribution)"
   ]
  },
  {
   "cell_type": "markdown",
   "metadata": {
    "deletable": false,
    "editable": false,
    "nbgrader": {
     "cell_type": "markdown",
     "checksum": "aa76968850cc5638f7c0630fa13230bb",
     "grade": false,
     "grade_id": "cell-620a11f3c9aabafc",
     "locked": true,
     "schema_version": 3,
     "solution": false,
     "task": false
    }
   },
   "source": [
    "Again, all values for non-parent variables in the sample will be ignored, but the value of $a$ determines which column in the $P(B \\mid A)$ table on the top of the notebook is returned."
   ]
  }
 ],
 "metadata": {
  "kernelspec": {
   "display_name": "Python 3 (ipykernel)",
   "language": "python",
   "name": "python3"
  },
  "language_info": {
   "codemirror_mode": {
    "name": "ipython",
    "version": 3
   },
   "file_extension": ".py",
   "mimetype": "text/x-python",
   "name": "python",
   "nbconvert_exporter": "python",
   "pygments_lexer": "ipython3",
   "version": "3.12.4"
  }
 },
 "nbformat": 4,
 "nbformat_minor": 4
}
