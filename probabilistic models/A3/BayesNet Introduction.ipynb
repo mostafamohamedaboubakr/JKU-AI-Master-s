{
 "cells": [
  {
   "cell_type": "markdown",
   "metadata": {
    "deletable": false,
    "editable": false,
    "nbgrader": {
     "cell_type": "markdown",
     "checksum": "3054a3242b86e1a120619e60a9d66f6a",
     "grade": false,
     "grade_id": "cell-4e2239f339cf593f",
     "locked": true,
     "schema_version": 3,
     "solution": false,
     "task": false
    }
   },
   "source": [
    "# Introduction to Custom Classes\n",
    "\n",
    "In this notebook, we repeat our brief overview of the helper classes (*BayesNet* and *Variable*) used in Problem Set 2. \n",
    "\n",
    "For Problem Set 3, the topological sort of the *BayesNet* class is already implemented for you."
   ]
  },
  {
   "cell_type": "code",
   "execution_count": null,
   "metadata": {
    "deletable": false,
    "editable": false,
    "nbgrader": {
     "cell_type": "code",
     "checksum": "573e80d4101e9ce79ec8d1ee92233d79",
     "grade": false,
     "grade_id": "cell-ca40a61ab7715dd0",
     "locked": true,
     "schema_version": 3,
     "solution": false,
     "task": false
    }
   },
   "outputs": [],
   "source": [
    "import numpy as np\n",
    "from bayesian_network import BayesNet"
   ]
  },
  {
   "cell_type": "markdown",
   "metadata": {
    "deletable": false,
    "editable": false,
    "nbgrader": {
     "cell_type": "markdown",
     "checksum": "005f35fb9c2dfa94375ee7de1d4cf21c",
     "grade": false,
     "grade_id": "cell-9721667ca3b6b037",
     "locked": true,
     "schema_version": 3,
     "solution": false,
     "task": false
    }
   },
   "source": [
    "Consider the following Bayesian Network (all variables are binary):\n",
    "\n",
    "<img width='30%' src='img/bn.svg'>\n",
    "\n",
    "The conditional probability tables are given as:\n",
    "\n",
    "<table style=\"float: left;margin:5px;\"><tr><th>P(A)</th><th>$a_0$<br></th><th>$a_1$</th></tr><tr><td>-</td><td>0.2</td><td>0.8</td></tr></table>\n",
    "\n",
    "<table style=\"float: left;margin:5px;\"><tr><th>P(B | A)</th><th>$a_0$<br></th><th>$a_1$</th></tr><tr><td>$b_0$</td><td>0.9</td><td>0.2</td></tr><tr><td>$b_1$</td><td>0.1</td><td>0.8</td></tr></table>\n",
    "\n",
    "<table style=\"float: left;margin:5px;\"><tr><th rowspan=\"2\">P(D | A, B)</th><th colspan=\"2\">$a_0$<br></th><th colspan=\"2\">$a_1$</th></tr><tr><td>$b_0$</td><td>$b_1$</td><td>$b_0$</td><td>$b_1$</td></tr><tr><td>$d_0$<br></td><td>0.1</td><td>0.2</td><td>0.01</td><td>0.8</td></tr><tr><td>$d_1$</td><td>0.9</td><td>0.8</td><td>0.99</td><td>0.2</td></tr></table>\n",
    "\n",
    "<table style=\"float: left;margin:5px;\"><tr><th>P(C|D)</th><th>$d_0$<br></th><th>$d_1$</th></tr><tr><td>$c_0$</td><td>0.95</td><td>0.15</td></tr><tr><td>$c_1$</td><td>0.05</td><td>0.85</td></tr></table>\n",
    "\n",
    "<table style=\"float: left;margin:5px;\"><tr><th>P(E | C)</th><th>$c_0$</th><th>$c_1$</th></tr><tr><td>$e_0$</td><td>0.9</td><td>0.4</td></tr><tr><td>$e_1$</td><td>0.1</td><td>0.6</td></tr></table>\n",
    "\n",
    "<br><br><br><br><br><br>\n",
    "Note that this instance of a Bayesian Network is slightly different than the one you worked with in PS2."
   ]
  },
  {
   "cell_type": "markdown",
   "metadata": {
    "deletable": false,
    "editable": false,
    "nbgrader": {
     "cell_type": "markdown",
     "checksum": "5d73a9c7eb1360aa1266e48fe3f50a3c",
     "grade": false,
     "grade_id": "cell-6605c8692d2c6c12",
     "locked": true,
     "schema_version": 3,
     "solution": false,
     "task": false
    }
   },
   "source": [
    "### Creating a BayesNet\n",
    "\n",
    "Let's create a *BayesNet* object representing the above Bayesian Network:"
   ]
  },
  {
   "cell_type": "code",
   "execution_count": null,
   "metadata": {
    "deletable": false,
    "editable": false,
    "nbgrader": {
     "cell_type": "code",
     "checksum": "31996ef872088dff68d2d831633e142d",
     "grade": false,
     "grade_id": "cell-7ab45cffd07c1c23",
     "locked": true,
     "schema_version": 3,
     "solution": false,
     "task": false
    }
   },
   "outputs": [],
   "source": [
    "_A_, _B_, _C_, _D_, _E_ = 0, 1, 2, 3, 4\n",
    "\n",
    "A = np.array([0.2, 0.8])\n",
    "B_A = np.array([[0.9, 0.2], [0.1, 0.8]])\n",
    "C = np.array([0.9, 0.1])\n",
    "D_BC = np.array([[[0.1, 0.2], [0.99, 0.8]], [[0.9, 0.8], [0.01, 0.2]]])\n",
    "E_C = np.array([[0.7, 0.4], [0.3, 0.6]])\n",
    "\n",
    "bayes_net = BayesNet(\n",
    "    (A, [_A_]),\n",
    "    (B_A, [_B_, _A_]),\n",
    "    (C, [_C_]),\n",
    "    (D_BC, [_D_, _B_, _C_]),\n",
    "    (E_C, [_E_, _C_])\n",
    ")"
   ]
  },
  {
   "cell_type": "markdown",
   "metadata": {
    "deletable": false,
    "editable": false,
    "nbgrader": {
     "cell_type": "markdown",
     "checksum": "9c4bce3f277a3e92913bfca085d255d9",
     "grade": false,
     "grade_id": "cell-70f30011a807fb98",
     "locked": true,
     "schema_version": 3,
     "solution": false,
     "task": false
    }
   },
   "source": [
    "The constructor takes an arbitrary amount of tuples of NumPy arrays and integer lists. Each tuple corresponds to a variable in the Bayesian Network, and each tuple holds one NumPy array and one list of integers:\n",
    " - The NumPy array represents the (conditional) probability distribution table of the variable. The table holds the probability distribution(s) over the variable in the first dimension (dimension 0); the additional dimensions encode all possible assignments to the variable's parents.\n",
    " - The integer list maps the dimensions in the probability table to variable IDs (i.e., it gives the semantics of the table). The first entry in the list always corresponds to the variable ID of the current variable; the following ones are the variable's parents.\n",
    "\n",
    "For example, above, we first defined `_A_`, `_B_` etc. to have readable names for the numeric variable IDs. For describing the conditional probability table `P(B | A)` denoted by NumPy array `B_A`, we simply mapped the 2 table dimensions to the variables using `[_B_,_A_]`.\n",
    "\n",
    "From these specification, the *BayesNet* object creates a set of *Variable* objects representing the random variables, their parents and children, and their probability distributions."
   ]
  },
  {
   "cell_type": "markdown",
   "metadata": {
    "deletable": false,
    "editable": false,
    "nbgrader": {
     "cell_type": "markdown",
     "checksum": "032663e0a6c8f79cd8af8555b03e76bf",
     "grade": false,
     "grade_id": "cell-7c8a373493028a22",
     "locked": true,
     "schema_version": 3,
     "solution": false,
     "task": false
    }
   },
   "source": [
    "### Variable objects\n",
    "\n",
    "To access the *Variable* object representing $A$, we can write:"
   ]
  },
  {
   "cell_type": "code",
   "execution_count": null,
   "metadata": {
    "deletable": false,
    "editable": false,
    "nbgrader": {
     "cell_type": "code",
     "checksum": "ae1a9bdbc8a04fa436db003ea2e2fd15",
     "grade": false,
     "grade_id": "cell-45f5abef5189f80e",
     "locked": true,
     "schema_version": 3,
     "solution": false,
     "task": false
    }
   },
   "outputs": [],
   "source": [
    "bayes_net[_A_]"
   ]
  },
  {
   "cell_type": "markdown",
   "metadata": {
    "deletable": false,
    "editable": false,
    "nbgrader": {
     "cell_type": "markdown",
     "checksum": "6802bcab84bbd9684cc98895947de7f3",
     "grade": false,
     "grade_id": "cell-6b24467f00bb924e",
     "locked": true,
     "schema_version": 3,
     "solution": false,
     "task": false
    }
   },
   "source": [
    "We can use the *Variable* objects to get some basic information on the random variable. \n",
    "\n",
    "Each *Variable* object has the following attributes:\n",
    "\n",
    "- **id**: The id of the variable. Type: int\n",
    "- **parents**: A set containing the ids of the parent variables. Type: set of ints\n",
    "- **children**: A list containing the ids of the child variables. Type: list of ints\n",
    "- **num_values**: Number of values this variable can take. Type: int \n",
    "- **pdt**: The (conditional) probability distribution table. **Note:** It has a separate dimension for each variable in the Bayesian Network, ordered by ids. The size of each dimension corresponds to the number of possible values; non-parent variables have a dimension size of 1. Type: np.ndarray"
   ]
  },
  {
   "cell_type": "code",
   "execution_count": null,
   "metadata": {
    "deletable": false,
    "editable": false,
    "nbgrader": {
     "cell_type": "code",
     "checksum": "04769b28088424f2ef680322d1d9104a",
     "grade": false,
     "grade_id": "cell-081d50e6696eaa38",
     "locked": true,
     "schema_version": 3,
     "solution": false,
     "task": false
    }
   },
   "outputs": [],
   "source": [
    "variable = bayes_net[1]\n",
    "print(f'id: {variable.id}\\nparents: {variable.parents}\\nchildren: {variable.children}\\nnum_values: {variable.num_values}')"
   ]
  },
  {
   "cell_type": "markdown",
   "metadata": {
    "deletable": false,
    "editable": false,
    "nbgrader": {
     "cell_type": "markdown",
     "checksum": "1384b93d919f1c738872c4e36c83dbc7",
     "grade": false,
     "grade_id": "cell-10510fbea4a4d2a7",
     "locked": true,
     "schema_version": 3,
     "solution": false,
     "task": false
    }
   },
   "source": [
    "### Distribution tables\n",
    "We can also access an expanded and sorted version of the conditional distribution table:"
   ]
  },
  {
   "cell_type": "code",
   "execution_count": null,
   "metadata": {
    "deletable": false,
    "editable": false,
    "nbgrader": {
     "cell_type": "code",
     "checksum": "cb242705d233cf906dc25c52164ce3e9",
     "grade": false,
     "grade_id": "cell-44dcebbf57779c6c",
     "locked": true,
     "schema_version": 3,
     "solution": false,
     "task": false
    }
   },
   "outputs": [],
   "source": [
    "variable = bayes_net[1]\n",
    "print(variable.pdt)\n",
    "\n",
    "print('\\nvariable.pdt.shape =', variable.pdt.shape)"
   ]
  },
  {
   "cell_type": "markdown",
   "metadata": {
    "deletable": false,
    "editable": false,
    "nbgrader": {
     "cell_type": "markdown",
     "checksum": "47c27128663a2e0f7c5ea7d4219a7bcb",
     "grade": false,
     "grade_id": "cell-ae76b2c1e063d728",
     "locked": true,
     "schema_version": 3,
     "solution": false,
     "task": false
    }
   },
   "source": [
    "Note that the **dimensions** of this (conditional) probability distribution table are **sorted by variable id**, and **singleton dimensions** of size 1 are inserted **for non-parent variables**. Here, variable 1 can take 2 values and its parent, variable 0, can also take 2 values, so the shape starts with two dimensions of size 2. Variables 2, 3, and 4 are not parents of variable 1, so the remaining dimensions are of size 1.\n",
    "\n",
    "This design makes computations and broadcasting a lot easier, e.g., look how *easy* it is to compute the full joint distribution:"
   ]
  },
  {
   "cell_type": "code",
   "execution_count": null,
   "metadata": {
    "deletable": false,
    "editable": false,
    "nbgrader": {
     "cell_type": "code",
     "checksum": "6a4c6a62f08b6f7636c4389916cf8fb0",
     "grade": false,
     "grade_id": "cell-5318a293546299fc",
     "locked": true,
     "schema_version": 3,
     "solution": false,
     "task": false
    }
   },
   "outputs": [],
   "source": [
    "fjdt = 1\n",
    "\n",
    "for variable in bayes_net:\n",
    "    fjdt = fjdt * variable.pdt\n",
    "\n",
    "print(fjdt.shape, fjdt.sum())"
   ]
  },
  {
   "cell_type": "markdown",
   "metadata": {
    "deletable": false,
    "editable": false,
    "nbgrader": {
     "cell_type": "markdown",
     "checksum": "5889a4b3765b1a1448661af5ef9672de",
     "grade": false,
     "grade_id": "cell-98c94621b17e0ea5",
     "locked": true,
     "schema_version": 3,
     "solution": false,
     "task": false
    }
   },
   "source": [
    "We can just multiply all conditional distributions, knowing the variables match up, and rely on numpy to broadcast across singleton dimensions."
   ]
  },
  {
   "cell_type": "markdown",
   "metadata": {
    "deletable": false,
    "editable": false,
    "nbgrader": {
     "cell_type": "markdown",
     "checksum": "0dd6e5835c437c9f994e149246969a7f",
     "grade": false,
     "grade_id": "cell-003cd458bfe64cae",
     "locked": true,
     "schema_version": 3,
     "solution": false,
     "task": false
    }
   },
   "source": [
    "### Topological Sort\n",
    "Furthermore, we can use the *BayesNet* object to **iterate over the random variables** of the Bayesian Network **in a topological ordering**:"
   ]
  },
  {
   "cell_type": "code",
   "execution_count": null,
   "metadata": {
    "deletable": false,
    "editable": false,
    "nbgrader": {
     "cell_type": "code",
     "checksum": "fa073aa69a828a9481081dd942802e77",
     "grade": false,
     "grade_id": "cell-7f6344d5f2536157",
     "locked": true,
     "schema_version": 3,
     "solution": false,
     "task": false
    }
   },
   "outputs": [],
   "source": [
    "# iterate over all variable in a topological ordering\n",
    "for variable in bayes_net:\n",
    "    print(variable.id)"
   ]
  },
  {
   "cell_type": "markdown",
   "metadata": {
    "deletable": false,
    "editable": false,
    "nbgrader": {
     "cell_type": "markdown",
     "checksum": "7a01e49ebad341fb2d598e098063d971",
     "grade": false,
     "grade_id": "cell-6b21bc80a29deefd",
     "locked": true,
     "schema_version": 3,
     "solution": false,
     "task": false
    }
   },
   "source": [
    "In such an ordering, no variable appears before its parents. Feel free to verify by comparing to the figure on the top of this notebook (variable id `0` is $A$, `1` is $B$, and so on)."
   ]
  },
  {
   "cell_type": "markdown",
   "metadata": {
    "deletable": false,
    "editable": false,
    "nbgrader": {
     "cell_type": "markdown",
     "checksum": "f1c1b08bba1a902dac76ff2a62eb4f35",
     "grade": false,
     "grade_id": "cell-1cfd5402b952fdb1",
     "locked": true,
     "schema_version": 3,
     "solution": false,
     "task": false
    }
   },
   "source": [
    "### Sampling given evidence\n",
    "To obtain the conditional probability distribution of a variable given the evidence variables' values, call the *Variable* object (as if it was a function), and pass a sample with the evidence variables' values set as desired.\n",
    "\n",
    "To demonstrate this, let us first create an uninitialized sample vector to hold the sampled value of each variable. Since it gives a value for each random variable in our world, it must have the same number of dimensions as there are variables in the Bayesian Network:"
   ]
  },
  {
   "cell_type": "code",
   "execution_count": null,
   "metadata": {
    "deletable": false,
    "editable": false,
    "nbgrader": {
     "cell_type": "code",
     "checksum": "8b132659d5759f651830f021f50367b1",
     "grade": false,
     "grade_id": "cell-f2f18be1693d122e",
     "locked": true,
     "schema_version": 3,
     "solution": false,
     "task": false
    }
   },
   "outputs": [],
   "source": [
    "sample = np.empty(len(bayes_net), np.int64)\n",
    "# sample = [?, ?, ?, ?, ?]"
   ]
  },
  {
   "cell_type": "markdown",
   "metadata": {
    "deletable": false,
    "editable": false,
    "nbgrader": {
     "cell_type": "markdown",
     "checksum": "219105a8ab3cf4032953dc3bcbc68847",
     "grade": false,
     "grade_id": "cell-882d5fd858607fb6",
     "locked": true,
     "schema_version": 3,
     "solution": false,
     "task": false
    }
   },
   "source": [
    "Now, let's get the probability distribution over $P(A)$ to sample a value for random variable $A$. We can do this by passing the sample to the *Variable* object, i.e., \n",
    "\n",
    "` bayes_net[_A_](sample)`.\n",
    "\n",
    "In general, this type of call will look up the distribution of a variable conditioned on the evidence in the sample. Since $A$ has no parents, all the values in `sample` will be ignored, so we left them uninitialized above. We get the correct distribution for $A$ (given at the top of the notebook):"
   ]
  },
  {
   "cell_type": "code",
   "execution_count": null,
   "metadata": {
    "deletable": false,
    "editable": false,
    "nbgrader": {
     "cell_type": "code",
     "checksum": "010a631fecd87593af26070cd9550ba0",
     "grade": false,
     "grade_id": "cell-3de25ef8291e6b9f",
     "locked": true,
     "schema_version": 3,
     "solution": false,
     "task": false
    }
   },
   "outputs": [],
   "source": [
    "distribution = bayes_net[_A_](sample)\n",
    "print(\"P(A) =\", distribution)"
   ]
  },
  {
   "cell_type": "markdown",
   "metadata": {
    "deletable": false,
    "editable": false,
    "nbgrader": {
     "cell_type": "markdown",
     "checksum": "3fa79d6c7ff885462414df1d0654973f",
     "grade": false,
     "grade_id": "cell-252a19f348455fb4",
     "locked": true,
     "schema_version": 3,
     "solution": false,
     "task": false
    }
   },
   "source": [
    "We provide a function that can sample a value from such a distribution, called `sample_categorical`:"
   ]
  },
  {
   "cell_type": "code",
   "execution_count": null,
   "metadata": {
    "deletable": false,
    "editable": false,
    "nbgrader": {
     "cell_type": "code",
     "checksum": "7369429f065a445993dfb608d66f9c77",
     "grade": false,
     "grade_id": "cell-931001a22556e24b",
     "locked": true,
     "schema_version": 3,
     "solution": false,
     "task": false
    }
   },
   "outputs": [],
   "source": [
    "from utils import sample_categorical\n",
    "a = sample_categorical(distribution)\n",
    "print(\"a =\", a)"
   ]
  },
  {
   "cell_type": "markdown",
   "metadata": {
    "deletable": false,
    "editable": false,
    "nbgrader": {
     "cell_type": "markdown",
     "checksum": "723f71f7b5d6418d99e86690be9d5d32",
     "grade": false,
     "grade_id": "cell-252a19f348455fb3",
     "locked": true,
     "schema_version": 3,
     "solution": false,
     "task": false
    }
   },
   "source": [
    "To sample further variables, we would update the value of $A$ in the sample:"
   ]
  },
  {
   "cell_type": "code",
   "execution_count": null,
   "metadata": {
    "deletable": false,
    "editable": false,
    "nbgrader": {
     "cell_type": "code",
     "checksum": "48aa8957709a6b307df045e486ccf1a7",
     "grade": false,
     "grade_id": "cell-fc0f5b9c63df8f7f",
     "locked": true,
     "schema_version": 3,
     "solution": false,
     "task": false
    }
   },
   "outputs": [],
   "source": [
    "sample[_A_] = a\n",
    "# sample = [a, ?, ?, ?, ?]"
   ]
  },
  {
   "cell_type": "markdown",
   "metadata": {
    "deletable": false,
    "editable": false,
    "nbgrader": {
     "cell_type": "markdown",
     "checksum": "5f9204845a48d2980c101f6944ec1bb2",
     "grade": false,
     "grade_id": "cell-918b9a28461b9539",
     "locked": true,
     "schema_version": 3,
     "solution": false,
     "task": false
    }
   },
   "source": [
    "Now that we have a value for random variable $A$, we can get the distribution $P(B \\mid A = a)$ by again passing the (still incomplete) sample to the variable object of $B$:"
   ]
  },
  {
   "cell_type": "code",
   "execution_count": null,
   "metadata": {
    "deletable": false,
    "editable": false,
    "nbgrader": {
     "cell_type": "code",
     "checksum": "0ef4f77a25a720596ff1f6dbcd2ad0a2",
     "grade": false,
     "grade_id": "cell-6ad31afbd12389a3",
     "locked": true,
     "schema_version": 3,
     "solution": false,
     "task": false
    }
   },
   "outputs": [],
   "source": [
    "distribution = bayes_net[_B_](sample)\n",
    "print(\"P(B|A=a) =\", distribution)"
   ]
  },
  {
   "cell_type": "markdown",
   "metadata": {
    "deletable": false,
    "editable": false,
    "nbgrader": {
     "cell_type": "markdown",
     "checksum": "aa76968850cc5638f7c0630fa13230bb",
     "grade": false,
     "grade_id": "cell-620a11f3c9aabafc",
     "locked": true,
     "schema_version": 3,
     "solution": false,
     "task": false
    }
   },
   "source": [
    "Again, all values for non-parent variables in the sample will be ignored, but the value of $a$ determines which column in the $P(B \\mid A)$ table on the top of the notebook is returned."
   ]
  }
 ],
 "metadata": {
  "kernelspec": {
   "display_name": "Python 3",
   "language": "python",
   "name": "python3"
  },
  "language_info": {
   "codemirror_mode": {
    "name": "ipython",
    "version": 3
   },
   "file_extension": ".py",
   "mimetype": "text/x-python",
   "name": "python",
   "nbconvert_exporter": "python",
   "pygments_lexer": "ipython3",
   "version": "3.8.10"
  }
 },
 "nbformat": 4,
 "nbformat_minor": 2
}
