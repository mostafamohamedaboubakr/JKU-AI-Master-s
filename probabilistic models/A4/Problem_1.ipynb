{
 "cells": [
  {
   "cell_type": "markdown",
   "metadata": {
    "deletable": false,
    "editable": false,
    "nbgrader": {
     "cell_type": "markdown",
     "checksum": "3448ee2eaa618a1989b8c9425c03234c",
     "grade": false,
     "grade_id": "cell-b00120f0e6ea484d",
     "locked": true,
     "schema_version": 3,
     "solution": false,
     "task": false
    },
    "slideshow": {
     "slide_type": ""
    },
    "tags": []
   },
   "source": [
    "<div class=\"alert alert-danger\">\n",
    "\n",
    "**Refresh your knowledge of the provided classes *BayesNet* and *Variable* by reading the `BayesNet Introduction` notebook** before you start working on this problem set! \n",
    "    \n",
    "</div>\n",
    "\n",
    "\n",
    "# Structure Learning\n",
    "## Problem Set 4 \n",
    "\n",
    "## Probabilistic Models UE\n",
    "\n",
    "---\n",
    "\n",
    "In the fourth assignment, you will implement methods that learn the *structure* and *parameters* of a Bayesian network using *score-based search*. In particular, you will implement:\n",
    "\n",
    "* the BIC-Score as an alternative to the log-likelihood-Score\n",
    "* complete search in space restricted by a pre-determined variable order\n",
    "* greedy local search in the full search space\n",
    "\n",
    "You will then use these functions to automatically find graph structures for the stroke model from Problem Set 3.\n",
    "\n",
    "## Submission\n",
    "\n",
    "**Due-Date:** see Moodle\n",
    " \n",
    "**Automatic Grading:** \n",
    "\n",
    "- Replace the placeholders `# YOUR CODE HERE` `raise NotImplementedError()` / `YOUR ANSWER HERE` with your code / answers.\n",
    "- Put results in the corresponding variable; otherwise, we will not grade your solution (i.e., we assign 0 points).\n",
    "- Do not delete or add cells.\n",
    "\n",
    "<div class=\"alert alert-warning\">\n",
    "    \n",
    "**Submission:** As a ZIP-package via Moodle; the ZIP-package **must have the following structure**:\n",
    "    \n",
    "    <student ID, (k + 8 digits), e.g. k01234567>.zip\n",
    "    +-- Problem_1.ipynb\n",
    "    |-- Supplementary Materials (optional)\n",
    "    + \n",
    "\n",
    "**Questions?** Post them into the Problem Set Forum!        \n",
    "</div>"
   ]
  },
  {
   "cell_type": "code",
   "execution_count": 18,
   "metadata": {
    "deletable": false,
    "editable": false,
    "nbgrader": {
     "cell_type": "code",
     "checksum": "311b175eafc16344e55a9579489d9e55",
     "grade": false,
     "grade_id": "cell-74996665644e2834",
     "locked": true,
     "schema_version": 3,
     "solution": false,
     "task": false
    },
    "slideshow": {
     "slide_type": ""
    },
    "tags": []
   },
   "outputs": [],
   "source": [
    "import numpy as np\n",
    "import matplotlib.pyplot as plt\n",
    "from typing import Callable, Iterator, List, Optional\n",
    "from bayesian_network import BayesNet, Variable\n",
    "from utils import maximum_likelihood_estimate, log_likelihood, get_default_bayes_net\n",
    "from utils import sample_forward, draw_graph, evaluate_bayes_net, compare_bayes_net"
   ]
  },
  {
   "cell_type": "markdown",
   "metadata": {
    "deletable": false,
    "editable": false,
    "nbgrader": {
     "cell_type": "markdown",
     "checksum": "f3cdd7aadd67b5ee4bc77df583b1dbb2",
     "grade": false,
     "grade_id": "cell-a9f4829f7d45127e",
     "locked": true,
     "schema_version": 3,
     "solution": false,
     "task": false
    }
   },
   "source": [
    "#### General Remarks\n",
    "\n",
    "The following is a quick refresher on how to use the BayesNet class, including an introduction to visually depicting a Bayesian Network structure from a BayesNet object. Assume we want to encode the model that factorizes in the following way:\n",
    "\n",
    "$$ P(A, B, C) = P(A) \\cdot P(B \\mid A) \\cdot P(C \\mid A, B).$$\n",
    "\n",
    "Variables $A, B$ and $C$ will get indices 0, 1, and 2, respectively. The corresponding list will then look like this (following the same naming conventions as used in the previous exercises):"
   ]
  },
  {
   "cell_type": "code",
   "execution_count": 21,
   "metadata": {
    "deletable": false,
    "editable": false,
    "nbgrader": {
     "cell_type": "code",
     "checksum": "21ed34ce304a127115f7f83c155d4b7a",
     "grade": false,
     "grade_id": "cell-fa33571e7f6a4669",
     "locked": true,
     "schema_version": 3,
     "solution": false,
     "task": false
    }
   },
   "outputs": [],
   "source": [
    "_A_, _B_, _C_ = 0, 1, 2\n",
    "# create dummy PDTs\n",
    "pdts = [\n",
    "    (np.ones((2,))*0.5, (_A_,)), \n",
    "    (np.ones((2,2))*0.5, (_B_, _A_)), \n",
    "    (np.ones((2,2,2))*0.5, (_C_, _A_, _B_))\n",
    "]"
   ]
  },
  {
   "cell_type": "markdown",
   "metadata": {
    "deletable": false,
    "editable": false,
    "nbgrader": {
     "cell_type": "markdown",
     "checksum": "6818c26b867aec4daa38cc4c4c0ec869",
     "grade": false,
     "grade_id": "cell-2ec8863f49a983ce",
     "locked": true,
     "schema_version": 3,
     "solution": false,
     "task": false
    }
   },
   "source": [
    "Each tuple in the list corresponds to a variable, where\n",
    " - the first element in each tuple contains the (conditional) PDT, \n",
    " - the second one describes the table's semantics (indices).\n",
    "\n",
    "A new BayesNet can be created by passing a tuple for each variable to the constructor. Use the asterisk (\\*) operator to pass an arbitrary number of tuples as arguments to the constructor:"
   ]
  },
  {
   "cell_type": "code",
   "execution_count": 24,
   "metadata": {
    "deletable": false,
    "editable": false,
    "nbgrader": {
     "cell_type": "code",
     "checksum": "6eaee94f24fb6b6ec9634fede074ceac",
     "grade": false,
     "grade_id": "cell-43d1f2f9881b96b4",
     "locked": true,
     "schema_version": 3,
     "solution": false,
     "task": false
    }
   },
   "outputs": [],
   "source": [
    "bn = BayesNet(*pdts)"
   ]
  },
  {
   "cell_type": "markdown",
   "metadata": {
    "deletable": false,
    "editable": false,
    "nbgrader": {
     "cell_type": "markdown",
     "checksum": "00ee2fae9bb3215ec200b54356243003",
     "grade": false,
     "grade_id": "cell-717c34c92d6fa193",
     "locked": true,
     "schema_version": 3,
     "solution": false,
     "task": false
    }
   },
   "source": [
    "You can access the PDTs and the corresponding indices of a *BayesNet* object via the member variables `pdts` and `indices`, respectively:"
   ]
  },
  {
   "cell_type": "code",
   "execution_count": 27,
   "metadata": {
    "deletable": false,
    "editable": false,
    "nbgrader": {
     "cell_type": "code",
     "checksum": "72003710708a81c2160f8bba91a21b67",
     "grade": false,
     "grade_id": "cell-789b3159e925f0ee",
     "locked": true,
     "schema_version": 3,
     "solution": false,
     "task": false
    }
   },
   "outputs": [
    {
     "name": "stdout",
     "output_type": "stream",
     "text": [
      "(array([0.5, 0.5]), array([[0.5, 0.5],\n",
      "       [0.5, 0.5]]), array([[[0.5, 0.5],\n",
      "        [0.5, 0.5]],\n",
      "\n",
      "       [[0.5, 0.5],\n",
      "        [0.5, 0.5]]]))\n",
      "((0,), (1, 0), (2, 0, 1))\n"
     ]
    }
   ],
   "source": [
    "print(bn.pdts)\n",
    "print(bn.indices)"
   ]
  },
  {
   "cell_type": "markdown",
   "metadata": {
    "deletable": false,
    "editable": false,
    "nbgrader": {
     "cell_type": "markdown",
     "checksum": "efdde02051560ece641e85e259e9f367",
     "grade": false,
     "grade_id": "cell-0b6fb6b9bd525f41",
     "locked": true,
     "schema_version": 3,
     "solution": false,
     "task": false
    }
   },
   "source": [
    "Note that they are returned as tuples to make sure they should not be modified. With `list(bn.pdts)` and `list(bn.indices)` you can convert them back to lists if needed.\n",
    "\n",
    "We are also providing a new utility function to draw the structure of a BayesNet:"
   ]
  },
  {
   "cell_type": "code",
   "execution_count": 30,
   "metadata": {
    "deletable": false,
    "editable": false,
    "nbgrader": {
     "cell_type": "code",
     "checksum": "370fc9f9a8eafcf4bb94c07cd7a1ad9e",
     "grade": false,
     "grade_id": "cell-43d1f2f9881b96b7",
     "locked": true,
     "schema_version": 3,
     "solution": false,
     "task": false
    }
   },
   "outputs": [
    {
     "data": {
      "image/png": "[encoded data removed]",
      "text/plain": [
       "<Figure size 640x480 with 1 Axes>"
      ]
     },
     "metadata": {},
     "output_type": "display_data"
    }
   ],
   "source": [
    "draw_graph(\n",
    "    bn, \n",
    "    node_names=['A', 'B', 'C'], \n",
    "    pos={'A': [0., 1.], 'B': [1., 1.], 'C': [.5, .5]}\n",
    ")"
   ]
  },
  {
   "cell_type": "code",
   "execution_count": 31,
   "metadata": {
    "deletable": false,
    "editable": false,
    "nbgrader": {
     "cell_type": "code",
     "checksum": "c0405a6bd6ef589a4f99b8255589a84c",
     "grade": false,
     "grade_id": "cell-5d826e0f83984a08",
     "locked": true,
     "schema_version": 3,
     "solution": false,
     "task": false
    }
   },
   "outputs": [
    {
     "name": "stdout",
     "output_type": "stream",
     "text": [
      "Help on function draw_graph in module utils:\n",
      "\n",
      "draw_graph(bayes_net: bayesian_network.BayesNet, node_names: list = None, pos: dict = None) -> None\n",
      "    Draws the Bayesian net.\n",
      "    :param bayes_net: a BayesNet object representing the graph structure to draw.\n",
      "    :param node_names: Display Name of the variables.\n",
      "                       Defaults to values for the stroke-example.\n",
      "    :param pos: position of the variables (dict: key=variable_name, value: list: x, y).\n",
      "                Defaults to values for the stroke-example.\n",
      "\n"
     ]
    }
   ],
   "source": [
    "help(draw_graph)"
   ]
  },
  {
   "cell_type": "markdown",
   "metadata": {
    "deletable": false,
    "editable": false,
    "nbgrader": {
     "cell_type": "markdown",
     "checksum": "751d4a9a684c42ba157a44a002f234aa",
     "grade": false,
     "grade_id": "cell-666e679ebf2ae233",
     "locked": true,
     "schema_version": 3,
     "solution": false,
     "task": false
    }
   },
   "source": [
    "### Bayes Information Criterion\n",
    "\n",
    "<div class=\"alert alert-warning\">\n",
    "    Implement the <i>bic_score</i> function, which computes the Bayes Information Criterion Score (BIC-Score) for a network graph structure under the given data, assuming a Dirichlet prior over the model parameters. (2 points)\n",
    "</div>\n",
    "\n",
    "`bic_score` takes two parameters:\n",
    "- `data` is a NumPy array of shape `(num_samples, num_variables)`.\n",
    "- `bayes_net` is a BayesNet object, representing the graph structure for which to compute the BIC-Score. *Assume that the parameters of this bayes_net are set to the maximum likelihood estimate w.r.t. to the data*.\n",
    "\n",
    "`bic_score` must return one object:\n",
    "- The BIC-Score, a floating-point number < 0.\n",
    "\n",
    "\n",
    "*Hint*:\n",
    "- **You *may* assume that all variables are boolean.**\n",
    "- Use the formula from the lecture slides (slide deck 5b, pp. 48-51)!\n",
    "- The dimension of a Bayes net is the total number of independent (non-redundant) parameters in the Bayes net.\n",
    "- Use the natural logarithm for your computations, i.e. `np.log`.\n",
    "- You can use `Variable.num_values` to fetch the cardinality of a Variable. This is especially helpful for a general solution, where Variables can have more than 2 values. \n",
    "- Use our implementation of `log_likelihood` (see below) to compute the log-likelihood of the model relative to the data."
   ]
  },
  {
   "cell_type": "code",
   "execution_count": 35,
   "metadata": {
    "deletable": false,
    "editable": false,
    "nbgrader": {
     "cell_type": "code",
     "checksum": "ffab52bbf5a1134928437f6adb98d97f",
     "grade": false,
     "grade_id": "cell-8c872d89fbee9992",
     "locked": true,
     "schema_version": 3,
     "solution": false,
     "task": false
    }
   },
   "outputs": [
    {
     "name": "stdout",
     "output_type": "stream",
     "text": [
      "Help on function log_likelihood in module utils:\n",
      "\n",
      "log_likelihood(data: numpy.ndarray, bayes_net: bayesian_network.BayesNet) -> float\n",
      "    Computes the log-likelihood of a given Bayesian network relative to the data.\n",
      "    :param data: data to compute the log-likelihood relative to.\n",
      "    :param bayes_net: Bayesian network model.\n",
      "    :returns: the log-likelihood of the Bayesian network relative to the data.\n",
      "\n"
     ]
    }
   ],
   "source": [
    "help(log_likelihood)"
   ]
  },
  {
   "cell_type": "code",
   "execution_count": 37,
   "metadata": {
    "deletable": false,
    "editable": true,
    "nbgrader": {
     "cell_type": "code",
     "checksum": "bc8c179946a4bb7f2d6bf979b514fc8c",
     "grade": false,
     "grade_id": "cell-5f9f20f05f212e6a",
     "locked": false,
     "schema_version": 3,
     "solution": true,
     "task": false
    },
    "slideshow": {
     "slide_type": ""
    },
    "tags": []
   },
   "outputs": [],
   "source": [
    "def bic_score(data: np.ndarray, bayes_net: BayesNet) -> float:\n",
    "    \"\"\"\n",
    "    Computes the Bayesian information criterion score assuming a Dirichlet prior over the model parameters.\n",
    "    :param data:      data to compute the bic score of, a np.ndarray of shape (num_samples, len(bayes_net)).\n",
    "    :param bayes_net: the model, a BayesNet object.\n",
    "    :return:          BIC score\n",
    "    \"\"\"\n",
    "    \n",
    "    assert data.shape[1] == len(bayes_net)\n",
    "    \n",
    "    bic = 0\n",
    "    \n",
    "    # YOUR CODE HERE\n",
    "    c_ip = 0\n",
    "    for var in bayes_net:\n",
    "        n_pars = var.num_values - 1\n",
    "        for n in var.parents:\n",
    "            n_pars = n_pars * bayes_net[n].num_values\n",
    "        c_ip += n_pars\n",
    "    \n",
    "    score_to_data = log_likelihood(data, bayes_net) \n",
    "    reg_term = np.log(len(data))/2 * c_ip\n",
    "    \n",
    "    bic = score_to_data - reg_term\n",
    "   # raise NotImplementedError()\n",
    "    \n",
    "    return bic"
   ]
  },
  {
   "cell_type": "code",
   "execution_count": 39,
   "metadata": {
    "deletable": false,
    "editable": false,
    "nbgrader": {
     "cell_type": "code",
     "checksum": "b8b7ce8f5c191ec73a51823f22483b4d",
     "grade": true,
     "grade_id": "cell-f8773b426c9709f1",
     "locked": true,
     "points": 2,
     "schema_version": 3,
     "solution": false,
     "task": false
    }
   },
   "outputs": [],
   "source": [
    "# sanity check\n",
    "bayes_net = get_default_bayes_net()\n",
    "data = np.array([[0,0,0,0,0], [1,1,1,1,1], [1,1,0,0,0]], dtype=np.int64)\n",
    "\n",
    "bic = bic_score(data, bayes_net)\n",
    "assert isinstance(bic,float), f'`bic_score` should return type float but returns {type(bic)}'\n",
    "assert -16 < bic < -15, f'BIC needs to be in ]-16, -15[, but got {bic}'\n",
    "\n"
   ]
  },
  {
   "cell_type": "markdown",
   "metadata": {
    "deletable": false,
    "editable": false,
    "nbgrader": {
     "cell_type": "markdown",
     "checksum": "775f2e2635463a5cde7d260bc8130137",
     "grade": false,
     "grade_id": "cell-0deaa6f9b7cad2f3",
     "locked": true,
     "schema_version": 3,
     "solution": false,
     "task": false
    }
   },
   "source": [
    "## Complete Search in Restricted Space\n",
    "\n",
    "In the first part, we will focus on complete search in a restricted space.\n",
    "\n",
    "<div class=\"alert alert-warning\">\n",
    "Implement <i>complete_search</i>, a function that learns the structure and parameters of a Bayesian net using score-based search over a search space restricted by a pre-determined variable order. (3 points)\n",
    "</div>\n",
    "\n",
    "`complete_search` takes three parameters:\n",
    "- `data` is a NumPy array of shape `(num_samples, num_variables)`.\n",
    "- `variable_order` is a list of variable ids (ints) specifying the topological order.\n",
    "- `score_fun` is the function used to score the candidate graph structure — defaults to `bic_score`. Higher score means better model.\n",
    "- `max_parents` is an integer value specifying the maximum number of parents a variable can have - defaults to `None`, meaning no restriction\n",
    "\n",
    "`complete_search` must return one object:\n",
    "- a BayesNet object, which represents the model with the highest score under the given topological order.\n",
    "\n",
    "*Hints:*\n",
    "- Get familiar with the algorithm depicted in the lecture slides (slide deck 5b, pp. 54-56)\n",
    "- Use `score_fun` to compute the score. Do not directly call your implementation of `bic_score`.\n",
    "- You may use [`itertools.combinations`](https://docs.python.org/3/library/itertools.html#itertools.combinations) to get combinations of parent variables. For the N-th variable in `variable_order`, there are exactly $2^{N-1}$ possible parent sets to be considered (in case `max_parents` is set to `None`, otherwise the number of possible sets may be reduced).\n",
    "- [`itertools.chain.from_iterable`](https://docs.python.org/3/library/itertools.html#itertools.chain.from_iterable) might become handy for flattening lists of lists of variable indexes.\n",
    "- Mind that python-objects, such as lists, are passed by reference; updating a value in the list will affect all objects holding the reference! To avoid unintended change, create a copy of the list before you modify it:\n",
    "```python\n",
    "best_pdts.copy()\n",
    "```\n",
    "- Use a BayesNet only consisting of independent Variables (e.g., no connections) as starting point. Iteratively compare it with other ones and always keep the best.\n",
    "- Use the provided implementation of `maximum_likelihood_estimate` to estimate the parameters of a table:"
   ]
  },
  {
   "cell_type": "code",
   "execution_count": 42,
   "metadata": {
    "deletable": false,
    "editable": false,
    "nbgrader": {
     "cell_type": "code",
     "checksum": "22f96c3b7858d80511fc03f808bea028",
     "grade": false,
     "grade_id": "cell-6cc206f1ea5737f9",
     "locked": true,
     "schema_version": 3,
     "solution": false,
     "task": false
    }
   },
   "outputs": [
    {
     "name": "stdout",
     "output_type": "stream",
     "text": [
      "Help on function maximum_likelihood_estimate in module utils:\n",
      "\n",
      "maximum_likelihood_estimate(data: numpy.ndarray, variable_id: int, parent_ids: tuple = (), laplace=1) -> numpy.ndarray\n",
      "    Estimates the conditional probability distribution of a (discrete) variable from data.\n",
      "    :param data: data to estimate distribution from\n",
      "    :param variable_id: column index corresponding to the variable we estimate the distribution for\n",
      "    :param parent_ids: column indices of the variables the distribution is conditioned on\n",
      "    :param laplace: Laplace smoothing with this alpha\n",
      "    :returns: estimated conditional probability distribution table\n",
      "\n"
     ]
    }
   ],
   "source": [
    "help(maximum_likelihood_estimate)"
   ]
  },
  {
   "cell_type": "code",
   "execution_count": 44,
   "metadata": {
    "deletable": false,
    "nbgrader": {
     "cell_type": "code",
     "checksum": "00478a1960e72a54224dc6f19167d733",
     "grade": false,
     "grade_id": "cell-8a2a69eb14bc6819",
     "locked": false,
     "schema_version": 3,
     "solution": true,
     "task": false
    }
   },
   "outputs": [],
   "source": [
    "import itertools as it\n",
    "import copy\n",
    "def complete_search(data: np.ndarray, variable_order: list, score_fun=bic_score, max_parents: Optional[int] = None) -> BayesNet:\n",
    "    \"\"\"\n",
    "    Learns the structure and parameters of a Bayesian net using score-based search over a \n",
    "        search space restricted by a pre-determined variable order.\n",
    "    :param data: the training data, a NumPy array of shape (num_samples, len(bayes_net)).\n",
    "    :param variable_order: a list containing the topological order of the variables (list of indices).\n",
    "    :param score_fun: is the function used to score the candidate graph structure — defaults to `bic_score`. \n",
    "    :param max_parents: an integer value specifying the maximum number of parents a variable can have — defaults to `None` (no restriction). \n",
    "    :return: a BayesNet object, which represents the model with the highest BIC-Score under the given topological order.\n",
    "    \"\"\"\n",
    "    assert len(variable_order) == data.shape[1]\n",
    "    assert max_parents is None or max_parents >= 0\n",
    "    \n",
    "    best_pdts = [maximum_likelihood_estimate(data, variable_id) for variable_id in variable_order]\n",
    "    best_indices = [(variable_id,) for variable_id in variable_order]\n",
    "    # you can create a BayesNet from these descriptors with:\n",
    "    best_model = BayesNet(*zip(best_pdts, best_indices))\n",
    "    \n",
    "    # YOUR CODE HERE\n",
    "    for i, var_id in enumerate(variable_order):\n",
    "        combinations = [\n",
    "            par_set for p in range(1, len(variable_order[:i]) + 1)\n",
    "            for par_set in it.combinations(variable_order[:i], p)\n",
    "            if max_parents is None or len(par_set) <= max_parents\n",
    "        ]\n",
    "        combinations.append(())\n",
    "        for par_id in combinations:\n",
    "            new_pdts = best_pdts.copy()\n",
    "            new_indices = best_indices.copy()\n",
    "            new_pdts[i] = maximum_likelihood_estimate(data, var_id, tuple(par_id))\n",
    "            new_indices[i] = (var_id,) + par_id\n",
    "            model = BayesNet(*zip(new_pdts, new_indices))\n",
    "            model_score = score_fun(data, model)\n",
    "            best_score = score_fun(data, best_model)\n",
    "            if model_score > best_score:\n",
    "                best_pdts = new_pdts\n",
    "                best_indices = new_indices\n",
    "                best_model = model\n",
    "                \n",
    "  #  raise NotImplementedError()\n",
    "    return best_model"
   ]
  },
  {
   "cell_type": "code",
   "execution_count": 46,
   "metadata": {
    "deletable": false,
    "editable": false,
    "nbgrader": {
     "cell_type": "code",
     "checksum": "1a881da1a17143de4fc475001a10ebc4",
     "grade": true,
     "grade_id": "cell-3bb8edb316a19954",
     "locked": true,
     "points": 3,
     "schema_version": 3,
     "solution": false,
     "task": false
    }
   },
   "outputs": [],
   "source": [
    "data = np.array([[0,0,0,0,1],[0,0,0,1,0],[0,1,0,1,0],[1,0,0,1,0],[0,1,0,0,1],[1,0,0,0,1]]*10, dtype=np.int64)\n",
    "bayes_net = complete_search(data, [0,1,2,3,4])\n",
    "assert len(bayes_net) == 5, f'\\nBayesNet should contain all 5 Variables.' \\\n",
    "                            f'\\nIt only contained {len(bayes_net)} being {set(it.chain(*bayes_net.indices))}.'\\\n",
    "                            f'\\nMissing: {set(range(5))-set(it.chain(*bayes_net.indices))}.'\\\n",
    "                            f'\\nMost likely there is an error in how you construct your `new` BayesNet during learning.'\n",
    "\n",
    "assert np.all(np.isclose(bayes_net.pdts[0], np.array([0.66, 0.33]), atol=0.01))\n",
    "assert bayes_net.indices[1] == (1,0), 'Algorithm should favor connection B_A'\n",
    "\n",
    "bayes_net = complete_search(data, [0,1,2,3,4], score_fun=lambda d, n: 0.0)\n",
    "assert bayes_net.indices[1] == (1,), 'it seems complete_search() uses bic_score() instead of score_fun()'\n",
    "\n",
    "data = np.random.choice([0,1], (10,5)).astype(np.int64)\n",
    "max_parents = 2\n",
    "bayes_net = complete_search(data, [0,1,2,3,4], score_fun=log_likelihood, max_parents=max_parents)\n",
    "assert max([len(var.parents) for var in bayes_net]) == max_parents, 'it seems that the parameter `max_parents` is not correctly used'\n"
   ]
  },
  {
   "cell_type": "markdown",
   "metadata": {
    "deletable": false,
    "editable": false,
    "nbgrader": {
     "cell_type": "markdown",
     "checksum": "f8b2d2e2e90c5c997c876798f9608041",
     "grade": false,
     "grade_id": "cell-aa78d01bb0ba1709",
     "locked": true,
     "schema_version": 3,
     "solution": false,
     "task": false
    }
   },
   "source": [
    "## Heuristic Search in Full Space\n",
    "\n",
    "In the second part, you will implement heuristic search in the full search space. In contrast to *Complete Search in Restricted Space*, we do not restrict the search space, but we can not afford to search the complete space. Instead, our search algorithm will only visit a small part of the full search space, guided by a heuristic function.   \n",
    "\n",
    "In the following, you will implement the five functions:\n",
    "\n",
    "- `is_acyclic(bn: BayesNet) -> bool`: checks if a Bayesian Network is acyclic\n",
    "- `link_addition(data: np.array, bn: BayesNet) -> Iterator[BayesNet]`: search operator: returns Iterator over all Bayesian Networks with one additional edge compared to `bn`\n",
    "- `link_deletion(data: np.array, bn: BayesNet) -> Iterator[BayesNet]`: search operator: returns Iterator over all Bayesian Networks with one edge removed compared to `bn`\n",
    "- `link_reversal(data: np.array, bn: BayesNet) -> Iterator[BayesNet]`: search operator: returns Iterator over all Bayesian Networks with one edge reversed compared to `bn`\n",
    "- `greedy_local_search(bayes_net: BayesNet, data: np.array, score_fun=bic_score, successor_fun=successor_impl) -> BayesNet`: heuristic search procedure: applies search operators (`successor_fun`) to navigate through search space; uses heuristic function `score_fun` to rank Bayesian Networks resulting from search operators\n",
    "\n",
    "We will implement a straightforward version of the heuristic search in the full space, without applying any strategies to enhance its efficiency. However, in the theoretical questions at the end of the assignment, you will be asked to outline ideas for improving the efficiency of the search."
   ]
  },
  {
   "cell_type": "markdown",
   "metadata": {
    "deletable": false,
    "editable": false,
    "nbgrader": {
     "cell_type": "markdown",
     "checksum": "1788a4932a4edfc2a2100aa09386d0f9",
     "grade": false,
     "grade_id": "cell-e99450678c294f3d",
     "locked": true,
     "schema_version": 3,
     "solution": false,
     "task": false
    }
   },
   "source": [
    "<div class=\"alert alert-warning\">\n",
    "Implement <i>is_acyclic</i>, a function that determines whether a Bayesian Network is acyclic or not. (2 points)\n",
    "</div>\n",
    "\n",
    "This function will be needed in the next step for the search operators to check whether a specific search operator returns a valid Bayesian Network or not.\n",
    "\n",
    "`is_acyclic` takes one parameter:\n",
    "- `bn` is a Bayesian Network.\n",
    "\n",
    "`is_acyclic` must return a boolean:\n",
    "- True, if the Bayesian Network is acyclic, False otherwise.\n",
    "\n",
    "*Hints:*\n",
    "- Revisit your implementation of the topological sort. You may want to exploit the fact that a topological ordering can be found if and only if a directed graph has no directed cycles.\n",
    "- `variable.children`: using the `children` attribute of `Variable` objects allows you to access a set of variable IDs representing a variable's child nodes.\n",
    "- Remember that python allows you to define **inner** or **nested** functions in case you want to solve the task using recursion."
   ]
  },
  {
   "cell_type": "code",
   "execution_count": 50,
   "metadata": {
    "deletable": false,
    "nbgrader": {
     "cell_type": "code",
     "checksum": "b95fbd890b648b0855fee695e0815628",
     "grade": false,
     "grade_id": "cell-f67c237e6382556b",
     "locked": false,
     "schema_version": 3,
     "solution": true,
     "task": false
    }
   },
   "outputs": [],
   "source": [
    "\n",
    "def is_acyclic(bn: BayesNet) -> bool:\n",
    "    \"\"\"\n",
    "    Checks whether Bayesian Network is acyclic or not.\n",
    "\n",
    "    :param bn: A Bayesian Network object.\n",
    "    :return: True, if the Bayesian Network is acyclic, False otherwise.\n",
    "    \"\"\"\n",
    "    # all variables in the network encoded as a dictionary (keys: variable ids, values: Variable objects)\n",
    "    variables = bn.nodes\n",
    "    \n",
    "    # YOUR CODE HERE\n",
    "   \n",
    "    var_id_list = {var_id: set(var.children) for var_id, var in variables.items()}\n",
    "    nodes_deg = {var_id: 0 for var_id in variables}\n",
    "    for child in var_id_list.values():\n",
    "        for sub_child in child:\n",
    "            nodes_deg[sub_child] = nodes_deg[sub_child] + 1\n",
    "    \n",
    "    var_child = [var_id for var_id, nodes_deg in nodes_deg.items() if nodes_deg == 0]\n",
    "    acyclic = 0\n",
    "    \n",
    "    while var_child:\n",
    "        node = var_child.pop(0)\n",
    "        acyclic += 1\n",
    "        for child in var_id_list[node]:\n",
    "            nodes_deg[child] = nodes_deg[child] - 1\n",
    "            if nodes_deg[child] == 0:\n",
    "                var_child.append(child)\n",
    "    \n",
    "    return acyclic == len(variables)"
   ]
  },
  {
   "cell_type": "code",
   "execution_count": 52,
   "metadata": {
    "deletable": false,
    "editable": false,
    "nbgrader": {
     "cell_type": "code",
     "checksum": "853e967dec6c5115f9806ec815660d2c",
     "grade": true,
     "grade_id": "cell-535f196a24b94b3c",
     "locked": true,
     "points": 2,
     "schema_version": 3,
     "solution": false,
     "task": false
    }
   },
   "outputs": [],
   "source": [
    "_A_, _B_, _C_ = 0, 1, 2\n",
    "pdts = [\n",
    "    (np.ones((2,))*0.5, (_A_,)), \n",
    "    (np.ones((2,2))*0.5, (_B_, _A_)), \n",
    "    (np.ones((2,2,2))*0.5, (_C_, _A_, _B_))\n",
    "]\n",
    "bn = BayesNet(*pdts)\n",
    "\n",
    "assert isinstance(is_acyclic(bn), bool), \"is_acyclic must return one boolean.\" \n",
    "assert is_acyclic(bn), f\"Bayesian Network with index tables {[bn.indices]} is acyclic.\"\n",
    "\n",
    "_A_, _B_, _C_ = 0, 1, 2\n",
    "pdts = [\n",
    "    (np.ones((2,2))*0.5, (_A_,_C_)), \n",
    "    (np.ones((2,2))*0.5, (_B_, _A_)), \n",
    "    (np.ones((2,2,2))*0.5, (_C_, _A_, _B_))\n",
    "]\n",
    "bn = BayesNet(*pdts)\n",
    "\n",
    "assert isinstance(is_acyclic(bn), bool), \"is_acyclic must return one boolean.\" \n",
    "assert not is_acyclic(bn), f\"Bayesian Network with index tables {[bn.indices]} is cyclic.\"\n"
   ]
  },
  {
   "cell_type": "markdown",
   "metadata": {
    "deletable": false,
    "editable": false,
    "nbgrader": {
     "cell_type": "markdown",
     "checksum": "da4a7f1ab9c89c732243d167c38927b9",
     "grade": false,
     "grade_id": "cell-d500bec76a1a7d8b",
     "locked": true,
     "schema_version": 3,
     "solution": false,
     "task": false
    }
   },
   "source": [
    "<div class=\"alert alert-warning\">\n",
    "Implement <i>link_addition</i>, a function that returns an iterator over all valid Bayesian Networks with one additional edge added. (2 points)\n",
    "</div>\n",
    "\n",
    "`link_addition` is the first search operator you are going to implement.\n",
    "\n",
    "`link_addition` takes two parameters:\n",
    "- `data` is a NumPy array of shape `(num_samples, num_variables)`.\n",
    "- `bn` is a Bayesian Network. *Assume that the parameters of this Bayesian Network are set to the maximum likelihood estimate w.r.t. to the data*.\n",
    "\n",
    "`link_addition` must return one object:\n",
    "- An iterator over all possible Bayesian Networks with one additional edge compared to the original Bayesian Network specified in the parameter `bn`. *The parameters of all returned Bayesian Networks must be set to the maximum likelihood estimate w.r.t. to the data*.\n",
    "\n",
    "*Hints:*\n",
    "- Think thoroughly about all conditions that need to be fulfilled in order to add an additional edge. For instance, don't forget to make use of your `is_acyclic` function.\n",
    "- Mind that Python objects, such as lists, are passed by reference; updating a value in the list will affect all objects holding the reference! To avoid unintended change, create a copy of the list before you modify it:\n",
    "```python\n",
    "bn_pdts.copy()\n",
    "```\n",
    "- Remember that a Bayesian network object can be created from a list of pdts and indices in the following way:\n",
    "```python\n",
    "candidate = BayesNet(*zip(candidate_pdts, candidate_indices))\n",
    "```"
   ]
  },
  {
   "cell_type": "code",
   "execution_count": 55,
   "metadata": {
    "deletable": false,
    "nbgrader": {
     "cell_type": "code",
     "checksum": "31e21ea3bf18abdc4264680a2664e55d",
     "grade": false,
     "grade_id": "cell-440f23dc10078fc0",
     "locked": false,
     "schema_version": 3,
     "solution": true,
     "task": false
    }
   },
   "outputs": [],
   "source": [
    "\n",
    "def link_addition(data: np.array, bn: BayesNet) -> Iterator[BayesNet]:\n",
    "    bn_pdts = list(bn.pdts)\n",
    "    bn_indices = list(bn.indices)\n",
    "    all_var_ids = bn.nodes.keys()\n",
    "    all_vars = bn.nodes\n",
    "    \n",
    "    candidates = []\n",
    "    # YOUR CODE HERE\n",
    "   \n",
    "    for n in all_var_ids:\n",
    "        for m in all_var_ids:\n",
    "            indices = copy.deepcopy(bn_indices)\n",
    "            indices[m] = (m,) + (n,)  \n",
    "            try:\n",
    "                pdts = copy.deepcopy(bn_pdts)\n",
    "                pdts[m] = maximum_likelihood_estimate(data, m, tuple(indices[m][1:]))\n",
    "                bn = BayesNet(*zip(pdts, indices))\n",
    "                if is_acyclic(bn):\n",
    "                    candidates.append(bn)\n",
    "            except Exception:\n",
    "                pass  \n",
    "    \n",
    "    for candidate in candidates:\n",
    "        yield candidate\n",
    "        "
   ]
  },
  {
   "cell_type": "code",
   "execution_count": 57,
   "metadata": {
    "deletable": false,
    "editable": false,
    "nbgrader": {
     "cell_type": "code",
     "checksum": "ca96e84716dd36d37a95c3b76e7d3a0d",
     "grade": true,
     "grade_id": "cell-df83222a5b88302e",
     "locked": true,
     "points": 2,
     "schema_version": 3,
     "solution": false,
     "task": false
    }
   },
   "outputs": [],
   "source": [
    "_A_, _B_ = 0, 1\n",
    "data = np.array([[0, 0], [1, 1], [0, 1], [0, 0], [0, 1]])\n",
    "pdts = [\n",
    "    (maximum_likelihood_estimate(data, _A_), (_A_,)), \n",
    "    (maximum_likelihood_estimate(data, _B_), (_B_,)),\n",
    "]\n",
    "bn = BayesNet(*pdts)\n",
    "\n",
    "\n",
    "actual = [b for b in link_addition(data, bn)]\n",
    "\n",
    "expected = {\n",
    "    \"B->A\": BayesNet(\n",
    "        (maximum_likelihood_estimate(data, _A_, (_B_,)), (_A_,_B_)),\n",
    "        (maximum_likelihood_estimate(data, _B_), (_B_,)),\n",
    "    ),\n",
    "    \"A->B\": BayesNet(\n",
    "        (maximum_likelihood_estimate(data, _A_), (_A_,)),\n",
    "        (maximum_likelihood_estimate(data, _B_, (_A_,)), (_B_,_A_)),\n",
    "    ),\n",
    "}\n",
    "\n",
    "assert all([isinstance(b, BayesNet) for b in actual]), \"Your function must only return BayesNet objects!\"\n",
    "for bn_expected in expected:\n",
    "    in_actual = False\n",
    "    for bn_actual in actual:\n",
    "        if compare_bayes_net(expected[bn_expected], bn_actual, verbose=False):\n",
    "            in_actual = True\n",
    "    assert in_actual, f\"The Bayesian Network with the additional link {bn_expected} is not returned by your function or the pdts do not match\"\n",
    "    \n",
    "assert len(actual) == len(expected), \"Number of Bayesian Networks differs from expected.\" \\\n",
    "    \"If you pass the previous test, this means your implementation returns too many instances.\"\n"
   ]
  },
  {
   "cell_type": "markdown",
   "metadata": {
    "deletable": false,
    "editable": false,
    "nbgrader": {
     "cell_type": "markdown",
     "checksum": "d43e97d3d941b0297c08386bed068d01",
     "grade": false,
     "grade_id": "cell-1d38d0727092edf8",
     "locked": true,
     "schema_version": 3,
     "solution": false,
     "task": false
    }
   },
   "source": [
    "<div class=\"alert alert-warning\">\n",
    "Implement <i>link_deletion</i>, a function that returns an iterator over all Bayesian Networks with one edge removed. (2 points)\n",
    "</div>\n",
    "\n",
    "`link_deletion` is the second search operator you are going to implement.\n",
    "\n",
    "`link_deletion` takes two parameters:\n",
    "- `data` is a NumPy array of shape `(num_samples, num_variables)`.\n",
    "- `bn` is a Bayesian Network. *Assume that the parameters of this Bayesian Network are set to the maximum likelihood estimate w.r.t. to the data*.\n",
    "\n",
    "`link_deletion` must return one object:\n",
    "- An iterator over all possible Bayesian Networks with one edge removed compared to the original Bayesian Network specified in the parameter `bn`. *The parameters of all returned Bayesian Networks must be set to the maximum likelihood estimate w.r.t. to the data*.\n",
    "\n",
    "*Hints:*\n",
    "- Mind that Python objects, such as lists, are passed by reference; updating a value in the list will affect all objects holding the reference! To avoid unintended change, create a copy of the list before you modify it:\n",
    "```python\n",
    "bn_pdts.copy()\n",
    "```\n",
    "- Remember that a Bayesian network object can be created from a list of pdts and indices in the following way:\n",
    "```python\n",
    "candidate = BayesNet(*zip(candidate_pdts, candidate_indices))\n",
    "```"
   ]
  },
  {
   "cell_type": "code",
   "execution_count": 60,
   "metadata": {
    "deletable": false,
    "nbgrader": {
     "cell_type": "code",
     "checksum": "a8157c85c14eea38dfca289a7e7022b2",
     "grade": false,
     "grade_id": "cell-76026b84b30f1b04",
     "locked": false,
     "schema_version": 3,
     "solution": true,
     "task": false
    }
   },
   "outputs": [],
   "source": [
    "\n",
    "def link_deletion(data: np.array, bn: BayesNet) -> Iterator[BayesNet]:\n",
    "    bn_pdts = list(bn.pdts)\n",
    "    bn_indices = list(bn.indices)\n",
    "    \n",
    "    candidates = []\n",
    "    \n",
    "    # YOUR CODE HERE\n",
    " \n",
    "    for var_id, parents in enumerate(bn_indices):\n",
    "\n",
    "        for parent in parents[1:]:  \n",
    "            del_prnts = tuple(p for p in parents[1:] if p != parent)\n",
    "            del_inds = bn_indices.copy()\n",
    "            del_inds[var_id] = (var_id,) + del_prnts \n",
    "            del_pdts = bn_pdts.copy()\n",
    "            del_pdts[var_id] = maximum_likelihood_estimate(data, var_id, del_prnts)\n",
    "            del_bn = BayesNet(*zip(del_pdts, del_inds))\n",
    "            yield del_bn\n",
    "   \n",
    "    \n",
    "    for candidate in candidates:\n",
    "        yield candidate\n",
    "        "
   ]
  },
  {
   "cell_type": "code",
   "execution_count": 62,
   "metadata": {
    "deletable": false,
    "editable": false,
    "nbgrader": {
     "cell_type": "code",
     "checksum": "404f5b36663da195cf43ba936f40e080",
     "grade": true,
     "grade_id": "cell-1354e11e93f634da",
     "locked": true,
     "points": 2,
     "schema_version": 3,
     "solution": false,
     "task": false
    }
   },
   "outputs": [],
   "source": [
    "_A_, _B_ = 0, 1\n",
    "data = np.array([[0, 0], [1, 1], [0, 1], [0, 0], [0, 1]])\n",
    "pdts = [\n",
    "    (maximum_likelihood_estimate(data, _A_, (_B_,)), (_A_,_B_)), \n",
    "    (maximum_likelihood_estimate(data, _B_), (_B_,)),\n",
    "]\n",
    "bn = BayesNet(*pdts)\n",
    "\n",
    "\n",
    "actual = [b for b in link_deletion(data, bn)]\n",
    "\n",
    "expected = {\n",
    "    \"B->A\": BayesNet(\n",
    "        (maximum_likelihood_estimate(data, _A_), (_A_,)),\n",
    "        (maximum_likelihood_estimate(data, _B_), (_B_,)),\n",
    "    )\n",
    "}\n",
    "\n",
    "assert all([isinstance(b, BayesNet) for b in actual]), \"Your function must only return BayesNet objects!\"\n",
    "for bn_expected in expected:\n",
    "    in_actual = False\n",
    "    for bn_actual in actual:\n",
    "        if compare_bayes_net(expected[bn_expected], bn_actual, verbose=False):\n",
    "            in_actual = True\n",
    "    assert in_actual, f\"The Bayesian Network with the removed link {bn_expected} not returned by your function or the pdts do not match\"\n",
    "assert len(actual) == len(expected), \"Number of Bayesian Networks differs from expected.\" \\\n",
    "    \"If you pass the previous test, this means your implementation returns too many instances.\"    \n"
   ]
  },
  {
   "cell_type": "markdown",
   "metadata": {
    "deletable": false,
    "editable": false,
    "nbgrader": {
     "cell_type": "markdown",
     "checksum": "e3872e52cd7de4a41ea32a2baef8840a",
     "grade": false,
     "grade_id": "cell-6d6eca1250fbe986",
     "locked": true,
     "schema_version": 3,
     "solution": false,
     "task": false
    }
   },
   "source": [
    "<div class=\"alert alert-warning\">\n",
    "Implement <i>link_reversal</i>, a function that returns an iterator over all valid Bayesian Networks with one edge reversed. (2 points)\n",
    "</div>\n",
    "\n",
    "`link_reversal` is the third and last search operator you are going to implement.\n",
    "\n",
    "`link_reversal` takes two parameters:\n",
    "- `data` is a NumPy array of shape `(num_samples, num_variables)`.\n",
    "- `bn` is a Bayesian Network. *Assume that the parameters of this Bayesian Network are set to the maximum likelihood estimate w.r.t. to the data*.\n",
    "\n",
    "`link_reversal` must return one object:\n",
    "- An iterator over all possible Bayesian Networks with one edge reversed compared to the original Bayesian Network specified in the parameter `bn`. *The parameters of all returned Bayesian Networks must be set to the maximum likelihood estimate w.r.t. to the data*.\n",
    "\n",
    "*Hints:*\n",
    "- Think thoroughly about all conditions that need to be fulfilled in order to be able to reverse an edge. For instance, don't forget to make use of your `is_acyclic` function.\n",
    "- Mind that Python objects, such as lists, are passed by reference; updating a value in the list will affect all objects holding the reference! To avoid unintended change, create a copy of the list before you modify it:\n",
    "```python\n",
    "bn_pdts.copy()\n",
    "```\n",
    "- Remember that a Bayesian network object can be created from a list of pdts and indices in the following way:\n",
    "```python\n",
    "candidate = BayesNet(*zip(candidate_pdts, candidate_indices))\n",
    "```"
   ]
  },
  {
   "cell_type": "code",
   "execution_count": 65,
   "metadata": {
    "deletable": false,
    "nbgrader": {
     "cell_type": "code",
     "checksum": "dd653c0d3bdfdeedcc1112d162f4287b",
     "grade": false,
     "grade_id": "cell-1473b9087bd70ed7",
     "locked": false,
     "schema_version": 3,
     "solution": true,
     "task": false
    }
   },
   "outputs": [],
   "source": [
    "\n",
    "def link_reversal(data: np.array, bn: BayesNet) -> Iterator[BayesNet]:\n",
    "    bn_pdts = list(bn.pdts)\n",
    "    bn_indices = list(bn.indices)\n",
    "    all_var_ids = bn.nodes.keys()\n",
    "    all_vars = bn.nodes\n",
    "    \n",
    "    candidates = []\n",
    "    \n",
    "    # YOUR CODE HERE\n",
    "\n",
    "    for var_id, parents in enumerate(bn_indices):\n",
    "   \n",
    "        for parent in parents[1:]:\n",
    "            rev_prnts_var = tuple(p for p in parents[1:] if p != parent)\n",
    "            rev_prnt = bn_indices[parent][1:] + (var_id,)\n",
    "            rev_inds = bn_indices.copy()\n",
    "            rev_inds[var_id] = (var_id,) + rev_prnts_var\n",
    "            rev_inds[parent] = (parent,) + rev_prnt\n",
    "            rev_pdts = bn_pdts.copy()\n",
    "            rev_pdts[var_id] = maximum_likelihood_estimate(data, var_id, rev_prnts_var)\n",
    "            rev_pdts[parent] = maximum_likelihood_estimate(data, parent, rev_prnt)\n",
    "            rev_bn = BayesNet(*zip(rev_pdts, rev_inds))\n",
    "    \n",
    "            if is_acyclic(rev_bn):\n",
    "                yield rev_bn\n",
    "    \n",
    "    for candidate in candidates:\n",
    "        yield candidate\n",
    "        "
   ]
  },
  {
   "cell_type": "code",
   "execution_count": 67,
   "metadata": {
    "deletable": false,
    "editable": false,
    "nbgrader": {
     "cell_type": "code",
     "checksum": "0753f4e17d490d710178569f3c08df45",
     "grade": true,
     "grade_id": "cell-e8853aededdbe8b5",
     "locked": true,
     "points": 2,
     "schema_version": 3,
     "solution": false,
     "task": false
    }
   },
   "outputs": [],
   "source": [
    "_A_, _B_ = 0, 1\n",
    "data = np.array([[0, 0], [1, 1], [0, 1], [0, 0], [0, 1]])\n",
    "pdts = [\n",
    "    (maximum_likelihood_estimate(data, _A_, (_B_,)), (_A_,_B_)), \n",
    "    (maximum_likelihood_estimate(data, _B_), (_B_,)),\n",
    "]\n",
    "bn = BayesNet(*pdts)\n",
    "\n",
    "\n",
    "actual = [b for b in link_reversal(data, bn)]\n",
    "\n",
    "expected = {\n",
    "    \"B->A\": BayesNet(\n",
    "        (maximum_likelihood_estimate(data, _A_), (_A_,)),\n",
    "        (maximum_likelihood_estimate(data, _B_, (_A_,)), (_B_,_A_)),\n",
    "    )\n",
    "}\n",
    "\n",
    "assert all([isinstance(b, BayesNet) for b in actual]), \"Your function must only return BayesNet objects!\"\n",
    "for bn_expected in expected:\n",
    "    in_actual = False\n",
    "    for bn_actual in actual:\n",
    "        if compare_bayes_net(expected[bn_expected], bn_actual, verbose=False):\n",
    "            in_actual = True\n",
    "    assert in_actual, f\"The Bayesian Network with the edge {bn_expected} reversed is not returned by your function or the pdts do not match\"\n",
    "assert len(actual) == len(expected), \"Number of Bayesian Networks differs from expected.\" \\\n",
    "    \"If you pass the previous test, this means your implementation returns too many instances.\"\n"
   ]
  },
  {
   "cell_type": "markdown",
   "metadata": {
    "deletable": false,
    "editable": false,
    "nbgrader": {
     "cell_type": "markdown",
     "checksum": "df00367bbc977d404aba3ccabfd2f935",
     "grade": false,
     "grade_id": "cell-0e0fd453f688b4ca",
     "locked": true,
     "schema_version": 3,
     "solution": false,
     "task": false
    }
   },
   "source": [
    "In the following code cell, we chain the iterators returned from your implemented search operators `link_addition`, `link_deletion`, `link_reversal`. This allows us to conveniently call `successor_impl(data, bayes_net)`, and we will get all possible successors of the *bayes_net* object according to all search operators we implemented. Furthermore, we sort the Bayesian Networks returned from the search operators, to make your implementation of `greedy_local_search` comparable to ours.\n",
    "\n",
    "**Nothing to do for you in the code cell below!**"
   ]
  },
  {
   "cell_type": "code",
   "execution_count": 70,
   "metadata": {
    "deletable": false,
    "editable": false,
    "nbgrader": {
     "cell_type": "code",
     "checksum": "b059f478fe79300cf0fdc0c7931b26e4",
     "grade": false,
     "grade_id": "cell-b8ae851d27c50ab9",
     "locked": true,
     "schema_version": 3,
     "solution": false,
     "task": false
    }
   },
   "outputs": [],
   "source": [
    "from itertools import chain\n",
    "\n",
    "def successors(data: np.array, bn: BayesNet, operators: List[Iterator[BayesNet]]):\n",
    "    successors = []\n",
    "    for op in operators:\n",
    "        successors.extend([next_bn for next_bn in op(data, bn)])\n",
    "    \n",
    "    # nothing to do for you here; this is just to make the ordering of successors the same for \n",
    "    # all implementations - we need this to test yours properly\n",
    "    successors = sorted(successors, key=lambda s: str(s.structure_descriptor()))\n",
    "    \n",
    "    for s in successors:\n",
    "        yield s\n",
    "            \n",
    "successor_impl = lambda data, bn: successors(data, bn, [link_addition, link_deletion, link_reversal])"
   ]
  },
  {
   "cell_type": "code",
   "execution_count": 72,
   "metadata": {
    "deletable": false,
    "editable": false,
    "nbgrader": {
     "cell_type": "code",
     "checksum": "2194ccec46a3041e776ee96d539fee94",
     "grade": true,
     "grade_id": "cell-2b8a115201a73876",
     "locked": true,
     "points": 0,
     "schema_version": 3,
     "solution": false,
     "task": false
    }
   },
   "outputs": [],
   "source": [
    "# leave this cell untouched, we just test the chaining of search operators here\n"
   ]
  },
  {
   "cell_type": "markdown",
   "metadata": {
    "deletable": false,
    "editable": false,
    "nbgrader": {
     "cell_type": "markdown",
     "checksum": "181d718af48199f09eeca4df4578fbc7",
     "grade": false,
     "grade_id": "cell-c45dd3c4d6e1e2c4",
     "locked": true,
     "schema_version": 3,
     "solution": false,
     "task": false
    }
   },
   "source": [
    "### Greedy Best-First Search\n",
    "\n",
    "Finally, we will implement a very simple greedy best-first search procedure that uses our search operators (`successor_impl`) and a scoring function (`score_fun` - e.g., the BIC score) to navigate through the search space.\n",
    "\n",
    "<div class=\"alert alert-warning\">\n",
    "Implement <i>greedy_local_search</i>, the heuristic search procedure described in the lecture slides (slide deck 5b pp. 62). (2 points)\n",
    "</div>\n",
    "\n",
    "`greedy_local_search` takes four parameters:\n",
    "- `data` is a NumPy array of shape `(num_samples, num_variables)`.\n",
    "- `bayes_net` is the Bayesian Network the search starts from. *Assume that the parameters of this Bayesian Network are set to the maximum likelihood estimate w.r.t. to the data*.\n",
    "- `score_fun` is the function used to score the candidate graph structure — defaults to `bic_score`. A higher score means a better model.\n",
    "- `successor_fun` is the function used to generate the set of successors of a Bayesian Network. Can be called using: `successor_fun(data, bayes_net)` — defaults to `successor_impl`, the function that chains your implemented search operators. \n",
    "\n",
    "`greedy_local_search` must return one object:\n",
    "- a BayesNet object that has the highest score (according to `score_fun`) of all Bayesian Networks visited during the greedy best-first search procedure.\n",
    "\n",
    "**IMPORTANT:** In case there are multiple successors leading to the same best score, choose the first one returned from `successor_fun`. The test cases might fail if you don't do so!\n",
    "\n",
    "*Hints:*\n",
    "- Use `score_fun` to compute the score. Do not directly call your implementation of `bic_score`.\n",
    "- Use `successor_fun(data, bayes_net)` to get all successors of `bayes_net`. Remember that your search operators are already implemented in a way such that they return all successors of a Bayesian network with their parameters set to the maximum likelihood estimate w.r.t. `data`.\n",
    "- Use the BayesNet object `bayes_net` as the starting point for your search.\n",
    "- At each step, greedily choose the Bayesian Network that gives the highest score and continue the search from this best-scoring Bayesian Network.\n",
    "- Stop the search process when none of the successors has a higher score than your current Bayesian Network."
   ]
  },
  {
   "cell_type": "code",
   "execution_count": 75,
   "metadata": {
    "deletable": false,
    "editable": true,
    "nbgrader": {
     "cell_type": "code",
     "checksum": "9949b9d5fbc416ce3347b27800d12ad7",
     "grade": false,
     "grade_id": "cell-b278e09b30833e2f",
     "locked": false,
     "schema_version": 3,
     "solution": true,
     "task": false
    },
    "slideshow": {
     "slide_type": ""
    },
    "tags": []
   },
   "outputs": [],
   "source": [
    "\n",
    "def greedy_local_search(\n",
    "    data: np.array,\n",
    "    bayes_net: BayesNet,\n",
    "    score_fun: Callable = bic_score,\n",
    "    successor_fun: Callable = successor_impl\n",
    ") -> BayesNet:\n",
    "    \"\"\"\n",
    "    Perform greedy local search to optimize the structure of a Bayesian Network.\n",
    "\n",
    "    Parameters:\n",
    "    - data (np.array): Data used for scoring the Bayesian networks.\n",
    "    - bayes_net (BayesNet): The initial Bayesian Network to start the search.\n",
    "    - score_fun (Callable): A function to compute the score of a network. Higher is better.\n",
    "    - successor_fun (Callable): A function to generate successors of a network.\n",
    "\n",
    "    Returns:\n",
    "    - BayesNet: The Bayesian Network with the highest score found during the search.\n",
    "    \"\"\"\n",
    "    current_bn = bayes_net\n",
    "    current_score = score_fun(data, current_bn)\n",
    "    \n",
    "    # YOUR CODE HERE\n",
    "    while True:\n",
    "        succ = list(successor_fun(data, current_bn))\n",
    "        max_succ = None\n",
    "        max_score = current_score\n",
    "        \n",
    "        for succ in succ:\n",
    "            succ_score = score_fun(data, succ)\n",
    "            if succ_score > max_score:\n",
    "                max_succ = succ\n",
    "                max_score = succ_score\n",
    "        \n",
    "        if max_succ is None:\n",
    "            break\n",
    "        \n",
    "        current_bn = max_succ\n",
    "        current_score = max_score\n",
    "   \n",
    "    \n",
    "    return current_bn\n",
    "    "
   ]
  },
  {
   "cell_type": "markdown",
   "metadata": {
    "deletable": false,
    "editable": false,
    "nbgrader": {
     "cell_type": "markdown",
     "checksum": "51357473294113fb5c6c46f6cbde6fce",
     "grade": false,
     "grade_id": "cell-16dd99850078b65e",
     "locked": true,
     "schema_version": 3,
     "solution": false,
     "task": false
    }
   },
   "source": [
    "In the following code cell, we test your algorithm by creating the following Bayesian Network with three variables A, B and C, the edges A->B, A->C, and B->C, and the given probability distribution tables. We generate 6000 samples from the created Bayesian Network and then try to rediscover its structure with your implementation of `greedy_local_search`. We pass the generated `data`, the unconnected network `b0`, the `bic_score`, and the successor function `successor_impl` to `greedy_local_search`. We plot the Bayesian Network found by `greedy_local_search`.  \n",
    "Can you recover the original network structure that was used to generate the data? If yes, your implementation is most likely correct! \n",
    "<img  width='30%' src='img/simple_bn.svg'>  \n",
    " \n",
    "The conditional probability tables are given as:\n",
    "\n",
    "<table style=\"float: left;margin:5px;\"><tr><th>P(A)</th><th>$a_0$<br></th><th>$a_1$</th></tr><tr><td>-</td><td>0.1</td><td>0.9</td></tr></table>\n",
    "\n",
    "<table style=\"float: left;margin:5px;\"><tr><th>P(B | A)</th><th>$a_0$<br></th><th>$a_1$</th></tr><tr><td>$b_0$</td><td>0.25</td><td>0.8</td></tr><tr><td>$b_1$</td><td>0.75</td><td>0.2</td></tr></table>\n",
    "\n",
    "<table style=\"float: left;margin:5px;\"><tr><th rowspan=\"2\">P(C | A, B)</th><th colspan=\"2\">$a_0$<br></th><th colspan=\"2\">$a_1$</th></tr><tr><td>$b_0$</td><td>$b_1$</td><td>$b_0$</td><td>$b_1$</td></tr><tr><td>$c_0$<br></td><td>0.99</td><td>0.5</td><td>0.9</td><td>0.05</td></tr><tr><td>$c_1$</td><td>0.01</td><td>0.5</td><td>0.1</td><td>0.95</td></tr></table>    \n"
   ]
  },
  {
   "cell_type": "code",
   "execution_count": 78,
   "metadata": {
    "deletable": false,
    "editable": false,
    "nbgrader": {
     "cell_type": "code",
     "checksum": "35d6e8c590dd5604891b18ef3471648c",
     "grade": true,
     "grade_id": "cell-237e04d9b8ed4cd2",
     "locked": true,
     "points": 2,
     "schema_version": 3,
     "solution": false,
     "task": false
    }
   },
   "outputs": [
    {
     "data": {
      "image/png": "[encoded data removed]",
      "text/plain": [
       "<Figure size 640x480 with 1 Axes>"
      ]
     },
     "metadata": {},
     "output_type": "display_data"
    }
   ],
   "source": [
    "# create true underlying bayes net\n",
    "_A_, _B_, _C_ = 0, 1, 2\n",
    "\n",
    "A = np.array([0.1, 0.9])\n",
    "B_A = np.array([[0.25, 0.8], [0.75, 0.2]])\n",
    "C_AB = np.array([[[0.99, 0.5], [0.9, 0.05]], [[0.01, 0.5], [0.1, 0.95]]])\n",
    "\n",
    "pdts = [\n",
    "    (A, (_A_,)), \n",
    "    (B_A, (_B_, _A_)),\n",
    "    (C_AB, (_C_, _A_, _B_)),\n",
    "]\n",
    "\n",
    "true_bn = BayesNet(*pdts)\n",
    "\n",
    "# generate data\n",
    "np.random.seed(0)\n",
    "data = sample_forward(true_bn, 6000)\n",
    "\n",
    "# unconnected bayes net to start search from\n",
    "b0 = BayesNet(\n",
    "    (maximum_likelihood_estimate(data, _A_), (_A_,)), \n",
    "    (maximum_likelihood_estimate(data, _B_), (_B_,)),\n",
    "    (maximum_likelihood_estimate(data, _C_), (_C_,)),\n",
    ")\n",
    "    \n",
    "best_bn = greedy_local_search(data, b0, score_fun=bic_score, successor_fun=successor_impl)\n",
    "\n",
    "assert isinstance(best_bn, BayesNet), \"'greedy_local_search' must return an instance of a Bayesian Network.\"\n",
    "\n",
    "draw_graph(\n",
    "    best_bn, \n",
    "    node_names=['A', 'B', 'C'], \n",
    "    pos={'A': [0., 1.], 'B': [1., 1.], 'C': [.5, .5]}\n",
    ")\n"
   ]
  },
  {
   "cell_type": "markdown",
   "metadata": {
    "deletable": false,
    "editable": false,
    "nbgrader": {
     "cell_type": "markdown",
     "checksum": "7b981a8ca56fab03bfffe4051ef4565a",
     "grade": false,
     "grade_id": "cell-718a7eaf421ba97f",
     "locked": true,
     "schema_version": 3,
     "solution": false,
     "task": false
    }
   },
   "source": [
    "## Back to Strokes\n",
    "\n",
    "---\n",
    "\n",
    "\n",
    "Equipped with the freshly acquired knowledge about structure learning, you revisit the probabilistic medical world of Problem Set 3, which comprises the following random variables:\n",
    "\n",
    " - A ... Alcoholism\n",
    " - H ... High Blood Pressure\n",
    " - S ... Stroke\n",
    " - C ... Confusion\n",
    " - V ... Vertigo\n",
    "\n",
    "This time, you aim to compensate for your lack of domain knowledge by taking a more data-driven approach, letting the data guide you in finding the correct structure."
   ]
  },
  {
   "cell_type": "markdown",
   "metadata": {
    "deletable": false,
    "editable": false,
    "nbgrader": {
     "cell_type": "markdown",
     "checksum": "dc9a219bc84a4df5f7bddaf21ac75ee4",
     "grade": false,
     "grade_id": "cell-65be16cffb4f1029",
     "locked": true,
     "schema_version": 3,
     "solution": false,
     "task": false
    }
   },
   "source": [
    "Below is the true underlying Bayesian model (structure and parameters) used to generate the training and test data for you.\n",
    "\n",
    "All variables in this example are Boolean (false = 0, true = 1).\n",
    "\n",
    "<img  style='width:100%;  max-width:400px;' src=\"img/bn_mod2.svg\">\n",
    "\n",
    "The conditional probability tables are given as follows:\n",
    "\n",
    "<table style=\"float: left;margin:5px;\"><tr><th>P(A)</th><th>$a_0$<br></th><th>$a_1$</th></tr><tr><td>-</td><td>0.01</td><td>0.99</td></tr></table>\n",
    "\n",
    "<table style=\"float: left;margin:5px;\"><tr><th>P(H | A)</th><th>$a_0$<br></th><th>$a_1$</th></tr><tr><td>$h_0$</td><td>0.9</td><td>0.8</td></tr><tr><td>$h_1$</td><td>0.1</td><td>0.2</td></tr></table>\n",
    "\n",
    "<table style=\"float: left;margin:5px;\"><tr><th>P(S | H)</th><th>$h_0$<br></th><th>$h_1$</th></tr><tr><td>$s_0$</td><td>0.9</td><td>0.85</td></tr><tr><td>$s_1$</td><td>0.1</td><td>0.15</td></tr></table>\n",
    "\n",
    "\n",
    "<table style=\"float: left;margin:5px;\"><tr><th rowspan=\"2\">P(C | A, S)</th><th colspan=\"2\">$a_0$<br></th><th colspan=\"2\">$a_1$</th></tr><tr><td>$s_0$</td><td>$s_1$</td><td>$s_0$</td><td>$s_1$</td></tr><tr><td>$c_0$<br></td><td>0.8</td><td>0.7</td><td>0.85</td><td>0.45</td></tr><tr><td>$c_1$</td><td>0.2</td><td>0.3</td><td>0.15</td><td>0.55</td></tr></table>\n",
    "\n",
    "<table style=\"float: left;margin:5px;\"><tr><th>P(V | S)</th><th>$s_0$</th><th>$s_1$</th></tr><tr><td>$v_0$</td><td>0.1</td><td>0.2</td></tr><tr><td>$v_1$</td><td>0.9</td><td>0.8</td></tr></table>  "
   ]
  },
  {
   "cell_type": "markdown",
   "metadata": {
    "deletable": false,
    "editable": false,
    "nbgrader": {
     "cell_type": "markdown",
     "checksum": "39ebdd8297a9351d49804d6145e868d4",
     "grade": false,
     "grade_id": "cell-29c246834c907364",
     "locked": true,
     "schema_version": 3,
     "solution": false,
     "task": false
    }
   },
   "source": [
    "We generate three datasets of varying sizes (1,000, 10,000, and 20,000 data points) along with a test set (10,000 data points). These datasets are stored in the files *train_small*, *train_medium*, *train_big*, *test*.\n",
    "\n",
    "Now, it is your turn to (re-)discover the true underlying Bayesian network that generated the data."
   ]
  },
  {
   "cell_type": "code",
   "execution_count": 82,
   "metadata": {
    "deletable": false,
    "editable": false,
    "nbgrader": {
     "cell_type": "code",
     "checksum": "4d360262e402822c37450df0d833ee35",
     "grade": false,
     "grade_id": "cell-e943570935c598bd",
     "locked": true,
     "schema_version": 3,
     "solution": false,
     "task": false
    },
    "slideshow": {
     "slide_type": ""
    },
    "tags": []
   },
   "outputs": [],
   "source": [
    "_A_, _H_, _S_, _C_, _V_ = 0, 1, 2, 3, 4\n",
    "\n",
    "train_small = np.loadtxt('data/train_small.txt', dtype=np.int64)\n",
    "train_medium = np.loadtxt('data/train_medium.txt', dtype=np.int64)\n",
    "train_big = np.loadtxt('data/train_big.txt', dtype=np.int64)\n",
    "test = np.loadtxt('data/test.txt', dtype=np.int64)"
   ]
  },
  {
   "cell_type": "markdown",
   "metadata": {
    "deletable": false,
    "editable": false,
    "nbgrader": {
     "cell_type": "markdown",
     "checksum": "34ac4a173af37a665891e0837e55162e",
     "grade": false,
     "grade_id": "cell-db62e54ce5329aa7",
     "locked": true,
     "schema_version": 3,
     "solution": false,
     "task": false
    }
   },
   "source": [
    "Although you have a hard time determining the dependencies among the random variables directly, you have some idea which of the variables might be dependent on each other and, therefore, you decide to use **Complete Search in Restricted Space** to find the best model. You come up with several *variable orders* to restrict the search space strongly and consider the following configurations:\n",
    "<table style=\"border-collapse:collapse;border-spacing:0;border-color:#ccc\"><tr><th style=\"font-family:Arial, sans-serif;font-size:14px;font-weight:bold;padding:10px 5px;border-style:solid;border-width:0px;overflow:hidden;word-break:normal;border-color:#ccc;color:#333;background-color:#f0f0f0\">Variable Order</th><th style=\"font-family:Arial, sans-serif;font-size:14px;font-weight:bold;padding:10px 5px;border-style:solid;border-width:0px;overflow:hidden;word-break:normal;border-color:#ccc;color:#333;background-color:#f0f0f0\">Score Function</th></tr><tr><td style=\"font-family:Arial, sans-serif;font-size:14px;padding:10px 5px;border-style:solid;border-width:0px;overflow:hidden;word-break:normal;border-color:#ccc;color:#333;background-color:#fff\">A, H, S, C, V</td><td style=\"font-family:Arial, sans-serif;font-size:14px;padding:10px 5px;border-style:solid;border-width:0px;overflow:hidden;word-break:normal;border-color:#ccc;color:#333;background-color:#fff\">Bayesian Information Criterion</td></tr><tr><td style=\"font-family:Arial, sans-serif;font-size:14px;padding:10px 5px;border-style:solid;border-width:0px;overflow:hidden;word-break:normal;border-color:#ccc;color:#333;background-color:#fff\">V, C, S, H, A</td><td style=\"font-family:Arial, sans-serif;font-size:14px;padding:10px 5px;border-style:solid;border-width:0px;overflow:hidden;word-break:normal;border-color:#ccc;color:#333;background-color:#fff\">Bayesian Information Criterion</td></tr><tr><td style=\"font-family:Arial, sans-serif;font-size:14px;padding:10px 5px;border-style:solid;border-width:0px;overflow:hidden;word-break:normal;border-color:#ccc;color:#333;background-color:#fff;vertical-align:top\">C, A, H, V, S<br></td><td style=\"font-family:Arial, sans-serif;font-size:14px;padding:10px 5px;border-style:solid;border-width:0px;overflow:hidden;word-break:normal;border-color:#ccc;color:#333;background-color:#fff;vertical-align:top\">Bayesian Information Criterion</td></tr><tr><td style=\"font-family:Arial, sans-serif;font-size:14px;padding:10px 5px;border-style:solid;border-width:0px;overflow:hidden;word-break:normal;border-color:#ccc;color:#333;background-color:#fff;vertical-align:top\">A, H, S, C, V</td><td style=\"font-family:Arial, sans-serif;font-size:14px;padding:10px 5px;border-style:solid;border-width:0px;overflow:hidden;word-break:normal;border-color:#ccc;color:#333;background-color:#fff;vertical-align:top\">Log-Likelihood</td></tr></table>\n",
    "\n",
    "<div class=\"alert alert-warning\">\n",
    "    \n",
    "Use the `complete_search` function to learn a graph structure and the parameters for the different configurations and for all data sets (`train_small`, `train_medium`, and `train_big`). Store the bayes_net objects into the provided result variable `cs_models` and visualize the learned graph structures with `draw_graph(bayes_net)`. Use this section to analyze the results more deeply! (2 points)\n",
    "</div>\n",
    "\n",
    "*Hints:*\n",
    "- You can use `log_likelihood` as a scoring function by overwriting the default choice for the named parameter `score_fun` of `complete_search`, e.g.,\n",
    "```python\n",
    "complete_search(data, order, score_fun=log_likelihood)\n",
    "```"
   ]
  },
  {
   "cell_type": "code",
   "execution_count": 84,
   "metadata": {
    "deletable": false,
    "editable": false,
    "nbgrader": {
     "cell_type": "code",
     "checksum": "85c9db97689e079876a0722475b16b30",
     "grade": false,
     "grade_id": "cell-88b45babc611e75b",
     "locked": true,
     "schema_version": 3,
     "solution": false,
     "task": false
    }
   },
   "outputs": [
    {
     "name": "stdout",
     "output_type": "stream",
     "text": [
      "Help on function draw_graph in module utils:\n",
      "\n",
      "draw_graph(bayes_net: bayesian_network.BayesNet, node_names: list = None, pos: dict = None) -> None\n",
      "    Draws the Bayesian net.\n",
      "    :param bayes_net: a BayesNet object representing the graph structure to draw.\n",
      "    :param node_names: Display Name of the variables.\n",
      "                       Defaults to values for the stroke-example.\n",
      "    :param pos: position of the variables (dict: key=variable_name, value: list: x, y).\n",
      "                Defaults to values for the stroke-example.\n",
      "\n",
      "Help on function evaluate_bayes_net in module utils:\n",
      "\n",
      "evaluate_bayes_net(bayes_net: bayesian_network.BayesNet, train_set: numpy.ndarray, test_set: numpy.ndarray) -> tuple\n",
      "    Computes the mean likelihood of the Bayesian network under the training and test data\n",
      "    :param bayes_net: a BayesNet object, representing the model.\n",
      "    :param train_set: the training set, a NumPy array of shape (num_samples, len(bayes_net)).\n",
      "    :param test_set: the test set, a Numpy array (num_samples, len(bayes_net)).\n",
      "    :return: a tuple: (log_likelihood_of_training_data, log_likelihood_of_test_data)\n",
      "\n"
     ]
    }
   ],
   "source": [
    "help(draw_graph)\n",
    "help(evaluate_bayes_net)"
   ]
  },
  {
   "cell_type": "code",
   "execution_count": 85,
   "metadata": {
    "deletable": false,
    "editable": false,
    "nbgrader": {
     "cell_type": "code",
     "checksum": "40612afc6f59a372862d192997a8c36e",
     "grade": true,
     "grade_id": "cell-d39e152c4cef14bd",
     "locked": true,
     "points": 0,
     "schema_version": 3,
     "solution": false,
     "task": false
    }
   },
   "outputs": [],
   "source": [
    "### this is part of a hidden test; don't remove..."
   ]
  },
  {
   "cell_type": "code",
   "execution_count": null,
   "metadata": {
    "deletable": false,
    "nbgrader": {
     "cell_type": "code",
     "checksum": "3f78c080a688f0d1e5dc109ae1fd19fc",
     "grade": false,
     "grade_id": "cell-5a0689ab42d9dc39",
     "locked": false,
     "schema_version": 3,
     "solution": true,
     "task": false
    }
   },
   "outputs": [],
   "source": [
    "cs_models = {}\n",
    "for data_set_size in ['small', 'medium', 'big']:\n",
    "    cs_models[data_set_size] = {\n",
    "            'ordered': None, # _A_, _H_, _S_, _C_, _V_; bic_score\n",
    "            'reverse': None, # _V_, _C_, _S_, _H_, _A_; bic_score\n",
    "            'random': None, # _C_, _A_, _H_, _V_, _S_; bic_score\n",
    "            'log-likelihood': None, # _A_, _H_, _S_, _C_, _V_; log_likelihood\n",
    "        }\n",
    "\n",
    "# YOUR CODE HERE\n",
    "# Load corresponding dataset (assuming the datasets are already defined)\n",
    "   # train_data = globals()[f\"train_{data_set_size}\"]\n",
    "    #test_data = globals()[f\"test_{data_set_size}\"]\n",
    "\n",
    "    # Define variable orders for the four configurations\n",
    "    ordered_vars = [_A_, _H_, _S_, _C_, _V_]\n",
    "    reverse_vars = [_V_, _C_, _S_, _H_, _A_]\n",
    "    random_vars = [_C_, _A_, _H_, _V_, _S_]\n",
    "\n",
    "    for data_set_size in ['small', 'medium', 'big']:\n",
    "        data = globals()[f\"train_{data_set_size}\"] \n",
    "        cs_models[data_set_size] = {}\n",
    "\n",
    "    cs_models[data_set_size]['ordered'] = complete_search(train_data,ordered_vars,score_fun=bic_score)\n",
    "    cs_models[data_set_size]['reverse'] = complete_search(train_data,reverse_vars,score_fun=bic_score)\n",
    "    cs_models[data_set_size]['random'] = complete_search(train_data,random_vars,score_fun=bic_score)\n",
    "    cs_models[data_set_size]['log-likelihood'] = complete_search(train_data,ordered_vars,score_fun=log_likelihood)\n",
    "\n",
    "    for comb_id in cs_models[data_set_size]:\n",
    "        bayes_net = cs_models[data_set_size][comb_id]\n",
    "        draw_graph(bayes_net)\n",
    "\n",
    "        loglikelihood_train, loglikelihood_test = evaluate_bayes_net(bayes_net, train_data, test_data)\n",
    "        print(f\"Dataset: {data_set_size}, Configuration: {combination_id}\")\n",
    "        print(f\"Log-likelihood (train): {loglikelihood_train}\")\n",
    "        print(f\"Log-likelihood (test): {loglikelihood_test}\")\n"
   ]
  },
  {
   "cell_type": "code",
   "execution_count": null,
   "metadata": {
    "deletable": false,
    "editable": false,
    "nbgrader": {
     "cell_type": "code",
     "checksum": "185b9fee68c4eb718c6f3c72df714b35",
     "grade": true,
     "grade_id": "cell-35b95e6760f12c25",
     "locked": true,
     "points": 2,
     "schema_version": 3,
     "solution": false,
     "task": false
    }
   },
   "outputs": [],
   "source": [
    "for data_set_id in ['small', 'medium', 'big']:\n",
    "    for combination_id in ['ordered', 'reverse', 'random', 'log-likelihood']:\n",
    "        assert type(cs_models[data_set_id][combination_id]) is BayesNet\n",
    "        "
   ]
  },
  {
   "cell_type": "markdown",
   "metadata": {
    "deletable": false,
    "editable": false,
    "nbgrader": {
     "cell_type": "markdown",
     "checksum": "6951a96220a2281f70a18bb481fbd734",
     "grade": false,
     "grade_id": "cell-99513028d76adfb5",
     "locked": true,
     "schema_version": 3,
     "solution": false,
     "task": false
    }
   },
   "source": [
    "Given all these results, you still feel uncertain about the learned Bayesian Network structures and begin to question your understanding of medicine. Were the specified variable orderings adequate? Then a thought strikes you: why not try heuristic search in the full space, where specifying a variable order is not required?"
   ]
  },
  {
   "cell_type": "markdown",
   "metadata": {
    "deletable": false,
    "editable": false,
    "nbgrader": {
     "cell_type": "markdown",
     "checksum": "e8783edac67f0c89f07cc7da63b8e910",
     "grade": false,
     "grade_id": "cell-1fb59266286cb007",
     "locked": true,
     "schema_version": 3,
     "solution": false,
     "task": false
    }
   },
   "source": [
    "You turn to **Heuristic Search in Full Space** and consider the following configurations:\n",
    "\n",
    "<table style=\"border-collapse:collapse;border-spacing:0;border-color:#ccc\"><tr><th style=\"font-family:Arial, sans-serif;font-size:14px;font-weight:bold;padding:10px 5px;border-style:solid;border-width:0px;overflow:hidden;word-break:normal;border-color:#ccc;color:#333;background-color:#f0f0f0\">Starting Structure</th><th style=\"font-family:Arial, sans-serif;font-size:14px;font-weight:bold;padding:10px 5px;border-style:solid;border-width:0px;overflow:hidden;word-break:normal;border-color:#ccc;color:#333;background-color:#f0f0f0\">Score Function</th></tr><tr><td style=\"font-family:Arial, sans-serif;font-size:14px;padding:10px 5px;border-style:solid;border-width:0px;overflow:hidden;word-break:normal;border-color:#ccc;color:#333;background-color:#fff\">Unconnected</td><td style=\"font-family:Arial, sans-serif;font-size:14px;padding:10px 5px;border-style:solid;border-width:0px;overflow:hidden;word-break:normal;border-color:#ccc;color:#333;background-color:#fff\">Bayesian Information Criterion</td></tr><tr><td style=\"font-family:Arial, sans-serif;font-size:14px;padding:10px 5px;border-style:solid;border-width:0px;overflow:hidden;word-break:normal;border-color:#ccc;color:#333;background-color:#fff\">Result Complete Search: log-likelihood</td><td style=\"font-family:Arial, sans-serif;font-size:14px;padding:10px 5px;border-style:solid;border-width:0px;overflow:hidden;word-break:normal;border-color:#ccc;color:#333;background-color:#fff\">Bayesian Information Criterion</td></tr><tr><td style=\"font-family:Arial, sans-serif;font-size:14px;padding:10px 5px;border-style:solid;border-width:0px;overflow:hidden;word-break:normal;border-color:#ccc;color:#333;background-color:#fff;vertical-align:top\">Result Complete Search: ordered<br></td><td style=\"font-family:Arial, sans-serif;font-size:14px;padding:10px 5px;border-style:solid;border-width:0px;overflow:hidden;word-break:normal;border-color:#ccc;color:#333;background-color:#fff;vertical-align:top\">Bayesian Information Criterion</td></tr><tr><td style=\"font-family:Arial, sans-serif;font-size:14px;padding:10px 5px;border-style:solid;border-width:0px;overflow:hidden;word-break:normal;border-color:#ccc;color:#333;background-color:#fff;vertical-align:top\">Unconnected</td><td style=\"font-family:Arial, sans-serif;font-size:14px;padding:10px 5px;border-style:solid;border-width:0px;overflow:hidden;word-break:normal;border-color:#ccc;color:#333;background-color:#fff;vertical-align:top\">Log-Likelihood</td></tr></table>\n",
    "\n",
    "*Starting Structure* determines the structure of `bayes_net` that we pass to `greedy_local_search`. The two settings *Result Complete Search: log-likelihood* and *Result Complete Search: ordered* refer to the structures we obtained as the result of *Complete Search in Restricted Space* with the variable ordering *A, H, S, C, V* using the log-likelihood and the bic score as score function, respectively. \n",
    "\n",
    "<div class=\"alert alert-warning\">\n",
    "    \n",
    "Use the `greedy_local_search` function to learn a graph structure and the parameters for the different configurations and for all data sets (`train_small`, `train_medium`, and `train_big`). Store the bayes_net objects into the provided result variable `hs_models` and visualize the learned graph structures with `draw_graph(bayes_net)`. Use this section to analyze the results more deeply! (2 points)\n",
    "</div>\n",
    "\n",
    "**Important**: For the starting structures obtained by *Complete Search in Restricted Space*, the dataset sizes must match. For instance, if you run the configuration with starting structure *Result Complete Search: ordered* on `train_medium`, you will use `cs_models['medium']['ordered']` as the starting structure passed to `greedy_local_search` (and likewise `cs_models['small']['ordered']` for `train_small` and `cs_models['large']['ordered']` for `train_large`).\n",
    "\n",
    "*Hints:*\n",
    "- You can use `log_likelihood` as a scoring function by overwriting the default choice for the named parameter `score_fun` of `greedy_local_search`, e.g.,\n",
    "```python\n",
    "greedy_local_search(data, order, score_fun=log_likelihood)\n",
    "```"
   ]
  },
  {
   "cell_type": "code",
   "execution_count": null,
   "metadata": {
    "deletable": false,
    "editable": false,
    "nbgrader": {
     "cell_type": "code",
     "checksum": "50cc12cf154ae6770d4faf878eacdd63",
     "grade": true,
     "grade_id": "cell-c42f140b5b48c6f1",
     "locked": true,
     "points": 0,
     "schema_version": 3,
     "solution": false,
     "task": false
    }
   },
   "outputs": [],
   "source": [
    "### this is part of a hidden test; don't remove..."
   ]
  },
  {
   "cell_type": "code",
   "execution_count": 103,
   "metadata": {
    "deletable": false,
    "nbgrader": {
     "cell_type": "code",
     "checksum": "d48d5d85e821e3362f5985e7f04e7aed",
     "grade": false,
     "grade_id": "cell-460f3c15d19244dd",
     "locked": false,
     "schema_version": 3,
     "solution": true,
     "task": false
    }
   },
   "outputs": [],
   "source": [
    "hs_models = {}\n",
    "for data_set_size in ['small', 'medium', 'big']:\n",
    "    hs_models[data_set_size] = {\n",
    "                    'unconnected': None,  # unconnected network; bic score\n",
    "                    'cs_log-likelihood': None,  # network resulting from complete search ('log-likelihood'); bic score\n",
    "                    'cs_ordered': None,  # network resulting from complete search ('ordered'); bic score\n",
    "                    'log-likelihood': None  # unconnected; log-likelihood\n",
    "            } \n",
    "\n",
    "# YOUR CODE HERE\n"
   ]
  },
  {
   "cell_type": "code",
   "execution_count": null,
   "metadata": {
    "deletable": false,
    "editable": false,
    "nbgrader": {
     "cell_type": "code",
     "checksum": "5bd7085244ea93803ba6282d43b2b211",
     "grade": true,
     "grade_id": "cell-4181fa9c6e1db5e4",
     "locked": true,
     "points": 2,
     "schema_version": 3,
     "solution": false,
     "task": false
    }
   },
   "outputs": [],
   "source": [
    "for data_set_id in ['small', 'medium', 'big']:\n",
    "    for combination_id in ['unconnected', 'cs_log-likelihood', 'cs_ordered', 'log-likelihood']:\n",
    "        assert type(hs_models[data_set_id][combination_id]) is BayesNet\n",
    "        "
   ]
  },
  {
   "cell_type": "markdown",
   "metadata": {
    "deletable": false,
    "editable": false,
    "nbgrader": {
     "cell_type": "markdown",
     "checksum": "004f4b7a4dde8ba80e39d3abad006308",
     "grade": false,
     "grade_id": "cell-aa79a15db639e558",
     "locked": true,
     "schema_version": 3,
     "solution": false,
     "task": false
    }
   },
   "source": [
    "### Interpret the Results in Detail\n",
    "\n",
    "In the following, we will compare all learned Bayesian Network structures (stored in variables `cs_models` and `hs_models`) w.r.t. their log-likelihoods on train and test datasets."
   ]
  },
  {
   "cell_type": "markdown",
   "metadata": {
    "deletable": false,
    "editable": false,
    "nbgrader": {
     "cell_type": "markdown",
     "checksum": "b044e72aa8c763c0dc0ea8d3891fa4a7",
     "grade": false,
     "grade_id": "cell-536436dfa4a4058a",
     "locked": true,
     "schema_version": 3,
     "solution": false,
     "task": false
    }
   },
   "source": [
    "The first type of plots visualize the training set size's influence on the log-likelihood relative to the test data.\n",
    "\n",
    "**Complete Search in Restricted Space:**"
   ]
  },
  {
   "cell_type": "code",
   "execution_count": null,
   "metadata": {
    "deletable": false,
    "editable": false,
    "nbgrader": {
     "cell_type": "code",
     "checksum": "a4098f384fe724bbc40d856bd648dc44",
     "grade": false,
     "grade_id": "cell-b4025e6734f96ffd",
     "locked": true,
     "schema_version": 3,
     "solution": false,
     "task": false
    }
   },
   "outputs": [],
   "source": [
    "from utils import plot_compare_orders, compare_train_size\n",
    "\n",
    "compare_train_size(cs_models, [train_small, train_medium, train_big], test)"
   ]
  },
  {
   "cell_type": "markdown",
   "metadata": {
    "deletable": false,
    "editable": false,
    "nbgrader": {
     "cell_type": "markdown",
     "checksum": "d4c1fd3ee9fd3c170f10fbbd42e97477",
     "grade": false,
     "grade_id": "cell-f872a62ab403039e",
     "locked": true,
     "schema_version": 3,
     "solution": false,
     "task": false
    }
   },
   "source": [
    "**Heuristic Search in Full Space**:"
   ]
  },
  {
   "cell_type": "code",
   "execution_count": null,
   "metadata": {
    "deletable": false,
    "editable": false,
    "nbgrader": {
     "cell_type": "code",
     "checksum": "39a9255abb3e1e831c37639768394f7d",
     "grade": false,
     "grade_id": "cell-be4b44ac398b9fd9",
     "locked": true,
     "schema_version": 3,
     "solution": false,
     "task": false
    }
   },
   "outputs": [],
   "source": [
    "compare_train_size(hs_models, [train_small, train_medium, train_big], test, cs=False)"
   ]
  },
  {
   "cell_type": "markdown",
   "metadata": {
    "deletable": false,
    "editable": false,
    "nbgrader": {
     "cell_type": "markdown",
     "checksum": "a577e9e95bddbd18edc4fd81253ff860",
     "grade": false,
     "grade_id": "cell-a9d014a3d669f0b6",
     "locked": true,
     "schema_version": 3,
     "solution": false,
     "task": false
    }
   },
   "source": [
    "The second type of plots compare all configurations' log-likelihood relative to the training and test data for each dataset size.\n",
    "\n",
    "**Complete Search in Restricted Space:**"
   ]
  },
  {
   "cell_type": "code",
   "execution_count": null,
   "metadata": {
    "deletable": false,
    "editable": false,
    "nbgrader": {
     "cell_type": "code",
     "checksum": "f31bbc6d747c832b93869f3638dc9aff",
     "grade": false,
     "grade_id": "cell-1e76e460bbab8c6f",
     "locked": true,
     "schema_version": 3,
     "solution": false,
     "task": false
    }
   },
   "outputs": [],
   "source": [
    "plot_compare_orders(cs_models, [train_small, train_medium, train_big], test)"
   ]
  },
  {
   "cell_type": "markdown",
   "metadata": {
    "deletable": false,
    "editable": false,
    "nbgrader": {
     "cell_type": "markdown",
     "checksum": "19a97dfefaff423be71f3fc981e983d9",
     "grade": false,
     "grade_id": "cell-8d84f22bbc0ecf43",
     "locked": true,
     "schema_version": 3,
     "solution": false,
     "task": false
    }
   },
   "source": [
    "**Heuristic Search in Full Space**:"
   ]
  },
  {
   "cell_type": "code",
   "execution_count": null,
   "metadata": {
    "deletable": false,
    "editable": false,
    "nbgrader": {
     "cell_type": "code",
     "checksum": "4c36b706b1ba7a3c1cfb05724afcb768",
     "grade": false,
     "grade_id": "cell-e5f3f1108caa6715",
     "locked": true,
     "schema_version": 3,
     "solution": false,
     "task": false
    }
   },
   "outputs": [],
   "source": [
    "plot_compare_orders(hs_models, [train_small, train_medium, train_big], test, cs=False)"
   ]
  },
  {
   "cell_type": "markdown",
   "metadata": {
    "deletable": false,
    "editable": false,
    "nbgrader": {
     "cell_type": "markdown",
     "checksum": "f8b06895d021fbea431ff67fa13b3cf8",
     "grade": false,
     "grade_id": "cell-28bd3ccab51a2fbf",
     "locked": true,
     "schema_version": 3,
     "solution": false,
     "task": false
    }
   },
   "source": [
    "<div class=\"alert alert-warning\">\n",
    "Consider the implemented functions and the resulting plots in more detail and answer the following questions *briefly*. (1 point each)\n",
    "</div>\n",
    "\n",
    "Looking at the plots and the test likelihood scores: (1) In this specific situation, which method is preferable: **Complete Search in Restricted Space** or **Heuristic Search in Full Space**? (2) In general, in which situations would you recommend to use **Complete Search in Restricted Space** and in which **Heuristic Search in Full Space**?"
   ]
  },
  {
   "cell_type": "markdown",
   "metadata": {
    "deletable": false,
    "nbgrader": {
     "cell_type": "markdown",
     "checksum": "6386e6f9319ac39f0859351593f60a97",
     "grade": true,
     "grade_id": "cell-8dd147f968722292",
     "locked": false,
     "points": 1,
     "schema_version": 3,
     "solution": true,
     "task": false
    }
   },
   "source": [
    "YOUR ANSWER HERE\n",
    "\n",
    "Heuristic Search in Full Space (HS) is the optimal methodology. It provides superior results and demonstrates optimal performance on medium and larger datasets, particularly in the testing phase, where it significantly outperforms Complete Search in Restricted Space (CS). butal, Complete Search in Restricted Space (CS) is the preferred method when working with small datasets, simpler structures, or when computational resources are limited. This is because it ensures exhaustive exploration within a manageable scope. Conversely, Heuristic Search in Full Space (HS) is the optimal choice for larger datasets and more complex structures, where efficiency and scalability are paramount. HS is designed to navigate and optimise broader and more complex search spaces effectively, making it an ideal solution for these scenarios."
   ]
  },
  {
   "cell_type": "markdown",
   "metadata": {
    "deletable": false,
    "editable": false,
    "nbgrader": {
     "cell_type": "markdown",
     "checksum": "0160f6f435d8b5218a2485b46e0541f0",
     "grade": false,
     "grade_id": "cell-ea9b56e4d5721fc4",
     "locked": true,
     "schema_version": 3,
     "solution": false,
     "task": false
    }
   },
   "source": [
    "Given a specific train dataset and the BIC score as the scoring function. Let's assume that we apply **Complete Search in Restricted Space** with the correct ordering of variables (i.e., one that corresponds to a topological ordering of the variables in the Bayesian Network representing the true underlying full joint distribution). Let's further assume that **Complete Search in Restricted Space** returns a good but suboptimal structure (one that is different from the true structure). Can we discover the true underlying structure by passing the suboptimal structure as the starting structure to our **Heuristic Search in Full Space** algorithm?\n",
    "\n",
    "Store `True` in the provided variable `results` if the true underlying structure can be discovered by **Heuristic Search in Full Space** and `False` otherwise."
   ]
  },
  {
   "cell_type": "code",
   "execution_count": null,
   "metadata": {
    "deletable": false,
    "editable": true,
    "nbgrader": {
     "cell_type": "code",
     "checksum": "5f589f784a0b72e89969a188e38055ce",
     "grade": false,
     "grade_id": "cell-a6aeb9b541598987",
     "locked": false,
     "schema_version": 3,
     "solution": true,
     "task": false
    },
    "slideshow": {
     "slide_type": ""
    },
    "tags": []
   },
   "outputs": [],
   "source": [
    "result = None  # store True or False into this variable\n",
    "\n",
    "# YOUR CODE HERE\n",
    "result = True"
   ]
  },
  {
   "cell_type": "code",
   "execution_count": null,
   "metadata": {
    "deletable": false,
    "editable": false,
    "nbgrader": {
     "cell_type": "code",
     "checksum": "01d45014a53acc94232ff3c4897d57d4",
     "grade": true,
     "grade_id": "cell-a38ee7e7032bc5b3",
     "locked": true,
     "points": 1,
     "schema_version": 3,
     "solution": false,
     "task": false
    }
   },
   "outputs": [],
   "source": [
    "assert result is not None\n",
    "assert result in [True, False]"
   ]
  },
  {
   "cell_type": "markdown",
   "metadata": {
    "deletable": false,
    "editable": false,
    "nbgrader": {
     "cell_type": "markdown",
     "checksum": "9f80b7856f19ee5262b3def79b0a9964",
     "grade": false,
     "grade_id": "cell-7970aaf898cd3eaa",
     "locked": true,
     "schema_version": 3,
     "solution": false,
     "task": false
    }
   },
   "source": [
    "Our implementation of **Heuristic Search in Full Space** is functionally correct but suffers from inefficiency due to redundant computations. Can you identify where these redundant computations occur in our code and suggest two ideas we could leverage to improve its efficiency?"
   ]
  },
  {
   "cell_type": "markdown",
   "metadata": {
    "deletable": false,
    "nbgrader": {
     "cell_type": "markdown",
     "checksum": "e4020dfaf3bd0bb49c9b4c6338f398b8",
     "grade": true,
     "grade_id": "cell-284591d5f8618cc9",
     "locked": false,
     "points": 1,
     "schema_version": 3,
     "solution": true,
     "task": false
    }
   },
   "source": [
    "YOUR ANSWER HERE\n",
    "\n",
    "The repetition of computations in the Heuristic Search algorithm, whereby the same structure is evaluated and its score recalculated on each iteration, results in the inefficient use of resources. To enhance efficiency, it is recommended that caching (memoization) be implemented to store and reuse computed scores, thus avoiding the necessity for duplicate work. Furthermore, the use of pruning techniques, such as A* or branch-and-bound, enables the focusing on promising paths and the elimination of low-value branches at an early stage. The aforementioned optimisations serve to reduce redundant evaluations and enhance overall performance.\r\n",
    "\r\n",
    "\r\n",
    "\r\n",
    "\r\n",
    "\r\n"
   ]
  },
  {
   "cell_type": "markdown",
   "metadata": {
    "deletable": false,
    "editable": false,
    "nbgrader": {
     "cell_type": "markdown",
     "checksum": "8f603edf2b72419edd27053f11218057",
     "grade": false,
     "grade_id": "cell-e2314290458e5c2a",
     "locked": true,
     "schema_version": 3,
     "solution": false,
     "task": false
    }
   },
   "source": [
    "In **Complete Search in Restricted Space**, the best parent assignment for any of the earlier variables might change depending on the parents chosen for any of the later variables. \n",
    "\n",
    "Is this statement correct? Store the correct answer (`True` or `False`) in the provided variable `results`."
   ]
  },
  {
   "cell_type": "code",
   "execution_count": null,
   "metadata": {
    "deletable": false,
    "nbgrader": {
     "cell_type": "code",
     "checksum": "818505d83c5ff30c145386bb2549403e",
     "grade": false,
     "grade_id": "cell-74639af5afe14b83",
     "locked": false,
     "schema_version": 3,
     "solution": true,
     "task": false
    }
   },
   "outputs": [],
   "source": [
    "result = None  # store True or False into this variable\n",
    "\n",
    "# YOUR CODE HERE\n",
    "result = True"
   ]
  },
  {
   "cell_type": "code",
   "execution_count": null,
   "metadata": {
    "deletable": false,
    "editable": false,
    "nbgrader": {
     "cell_type": "code",
     "checksum": "36a93de25a769d1f4a894557fecf99c2",
     "grade": true,
     "grade_id": "cell-250bada75f4fcfa0",
     "locked": true,
     "points": 1,
     "schema_version": 3,
     "solution": false,
     "task": false
    }
   },
   "outputs": [],
   "source": [
    "assert result is not None\n",
    "assert result in [True, False]"
   ]
  },
  {
   "cell_type": "markdown",
   "metadata": {
    "deletable": false,
    "editable": false,
    "nbgrader": {
     "cell_type": "markdown",
     "checksum": "bd5626ded9ad0f6ad232d1553d62e843",
     "grade": false,
     "grade_id": "cell-f97508eb01d88be8",
     "locked": true,
     "schema_version": 3,
     "solution": false,
     "task": false
    }
   },
   "source": [
    "Let $N \\gt 3$ denote the number of random variables in a specific probabilistic model. Given two arbitrary Bayesian Networks $G_1$ and $G_2$ and the search operators we implemented in this problem set. Select the smallest number of search steps (one step = modifying one edge with one of our three implemented search operators) from the possible answers below that guarantees us to be able to traverse the search space from $G_1$ to $G_2$.\n",
    "\n",
    "(1) $N$\n",
    "\n",
    "(2) $N^2$\n",
    "\n",
    "(3) $2^N$\n",
    "\n",
    "(4) $N!$\n",
    "\n",
    "(5) $N^N$\n",
    "\n",
    "Store the correct answer 1-5 in the provided variable `results`."
   ]
  },
  {
   "cell_type": "code",
   "execution_count": null,
   "metadata": {
    "deletable": false,
    "nbgrader": {
     "cell_type": "code",
     "checksum": "b3fddcc6e46fc12450d93f43c7ccac88",
     "grade": false,
     "grade_id": "cell-f05789d8c450aaa3",
     "locked": false,
     "schema_version": 3,
     "solution": true,
     "task": false
    }
   },
   "outputs": [],
   "source": [
    "result = None\n",
    "\n",
    "# YOUR CODE HERE\n",
    "result = 2"
   ]
  },
  {
   "cell_type": "code",
   "execution_count": null,
   "metadata": {
    "deletable": false,
    "editable": false,
    "nbgrader": {
     "cell_type": "code",
     "checksum": "e1f7b2dd8e64ab5de10e5a4a576a7034",
     "grade": true,
     "grade_id": "cell-fe19ed2f8cadcf87",
     "locked": true,
     "points": 1,
     "schema_version": 3,
     "solution": false,
     "task": false
    }
   },
   "outputs": [],
   "source": [
    "assert result is not None\n",
    "assert result in [1,2,3,4,5]"
   ]
  }
 ],
 "metadata": {
  "kernelspec": {
   "display_name": "Python 3 (ipykernel)",
   "language": "python",
   "name": "python3"
  },
  "language_info": {
   "codemirror_mode": {
    "name": "ipython",
    "version": 3
   },
   "file_extension": ".py",
   "mimetype": "text/x-python",
   "name": "python",
   "nbconvert_exporter": "python",
   "pygments_lexer": "ipython3",
   "version": "3.12.4"
  }
 },
 "nbformat": 4,
 "nbformat_minor": 4
}
